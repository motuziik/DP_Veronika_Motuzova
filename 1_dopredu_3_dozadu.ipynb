{
 "cells": [
  {
   "cell_type": "markdown",
   "metadata": {},
   "source": [
    "# Trénovanie modelu iba na základe DST indexu 1 h dopredu 3 h dozadu\n",
    "Súbor: 1_dopredu_3_dozadu.ipynb\n",
    "\n",
    "Program: Hospodárska informatika\n",
    "\n",
    "Vypracovala: Veronika Motúzová\n",
    "\n",
    "Diplomová práca: : Predikcia geomagnetickych búrok pomocou hlbokého učenia\n",
    "\n",
    "Vedúci diplomovej práce: doc. Ing. Peter Butka, PhD.\n",
    "\n",
    "Konzultanti: Ing. Viera Maslej Krešňáková, RNDr. Šimon Mackovjak, PhD. "
   ]
  },
  {
   "cell_type": "markdown",
   "metadata": {},
   "source": [
    "### Inštalácia knižníc"
   ]
  },
  {
   "cell_type": "code",
   "execution_count": null,
   "metadata": {},
   "outputs": [],
   "source": [
    "!pip install pyarrow\n",
    "!pip install keras\n",
    "!pip install --upgrade tensorflow\n",
    "!pip install --upgrade tensorflow-gpu"
   ]
  },
  {
   "cell_type": "markdown",
   "metadata": {},
   "source": [
    "### Kontrola kapacity servera"
   ]
  },
  {
   "cell_type": "code",
   "execution_count": null,
   "metadata": {},
   "outputs": [],
   "source": [
    "!nvidia-smi"
   ]
  },
  {
   "cell_type": "markdown",
   "metadata": {},
   "source": [
    "### Import knižníc"
   ]
  },
  {
   "cell_type": "code",
   "execution_count": 1,
   "metadata": {},
   "outputs": [],
   "source": [
    "import pandas as pd\n",
    "import numpy as np\n",
    "from tensorflow import keras\n",
    "import matplotlib.pyplot as plt\n",
    "from sklearn.preprocessing import MinMaxScaler, StandardScaler\n",
    "from pandas.plotting import register_matplotlib_converters\n",
    "register_matplotlib_converters()\n",
    "import seaborn as sns\n",
    "\n",
    "from keras.preprocessing.sequence import TimeseriesGenerator\n",
    "from keras.models import Sequential\n",
    "\n",
    "from keras.layers import Dense, Activation, Dropout, Input, Conv1D, LSTM, MaxPooling1D, Flatten, TimeDistributed, Bidirectional\n",
    "from tensorflow.keras.callbacks import ModelCheckpoint, EarlyStopping\n",
    "from keras.models import Model\n",
    "\n",
    "\n",
    "from scipy.special import expit, logit\n",
    "\n",
    "from sklearn.metrics import confusion_matrix, classification_report"
   ]
  },
  {
   "cell_type": "markdown",
   "metadata": {},
   "source": [
    "### Načitanie dát, odstránenie na hodnôt, určenie predikovaného atribútu"
   ]
  },
  {
   "cell_type": "code",
   "execution_count": 2,
   "metadata": {},
   "outputs": [
    {
     "data": {
      "text/plain": [
       "520443"
      ]
     },
     "execution_count": 2,
     "metadata": {},
     "output_type": "execute_result"
    }
   ],
   "source": [
    "df = pd.read_csv('omni_full.csv')\n",
    "len(df)"
   ]
  },
  {
   "cell_type": "code",
   "execution_count": null,
   "metadata": {},
   "outputs": [],
   "source": [
    "df.columns"
   ]
  },
  {
   "cell_type": "code",
   "execution_count": 4,
   "metadata": {},
   "outputs": [],
   "source": [
    "features = ['time1',\n",
    "            'DST']"
   ]
  },
  {
   "cell_type": "code",
   "execution_count": 5,
   "metadata": {},
   "outputs": [],
   "source": [
    "df = df[features]"
   ]
  },
  {
   "cell_type": "code",
   "execution_count": 7,
   "metadata": {},
   "outputs": [],
   "source": [
    "df['time1']=pd.to_datetime(df['time1'])"
   ]
  },
  {
   "cell_type": "code",
   "execution_count": 8,
   "metadata": {},
   "outputs": [
    {
     "name": "stdout",
     "output_type": "stream",
     "text": [
      "520443\n"
     ]
    }
   ],
   "source": [
    "df.dropna(inplace=True)\n",
    "print(len(df))"
   ]
  },
  {
   "cell_type": "code",
   "execution_count": 9,
   "metadata": {},
   "outputs": [],
   "source": [
    "predicted_label = 'DST'"
   ]
  },
  {
   "cell_type": "code",
   "execution_count": 10,
   "metadata": {},
   "outputs": [
    {
     "data": {
      "text/html": [
       "<div>\n",
       "<style scoped>\n",
       "    .dataframe tbody tr th:only-of-type {\n",
       "        vertical-align: middle;\n",
       "    }\n",
       "\n",
       "    .dataframe tbody tr th {\n",
       "        vertical-align: top;\n",
       "    }\n",
       "\n",
       "    .dataframe thead th {\n",
       "        text-align: right;\n",
       "    }\n",
       "</style>\n",
       "<table border=\"1\" class=\"dataframe\">\n",
       "  <thead>\n",
       "    <tr style=\"text-align: right;\">\n",
       "      <th></th>\n",
       "      <th>DST</th>\n",
       "    </tr>\n",
       "  </thead>\n",
       "  <tbody>\n",
       "    <tr>\n",
       "      <th>count</th>\n",
       "      <td>520443.000000</td>\n",
       "    </tr>\n",
       "    <tr>\n",
       "      <th>mean</th>\n",
       "      <td>-14.125015</td>\n",
       "    </tr>\n",
       "    <tr>\n",
       "      <th>std</th>\n",
       "      <td>22.034833</td>\n",
       "    </tr>\n",
       "    <tr>\n",
       "      <th>min</th>\n",
       "      <td>-589.000000</td>\n",
       "    </tr>\n",
       "    <tr>\n",
       "      <th>25%</th>\n",
       "      <td>-22.000000</td>\n",
       "    </tr>\n",
       "    <tr>\n",
       "      <th>50%</th>\n",
       "      <td>-10.000000</td>\n",
       "    </tr>\n",
       "    <tr>\n",
       "      <th>75%</th>\n",
       "      <td>-1.000000</td>\n",
       "    </tr>\n",
       "    <tr>\n",
       "      <th>max</th>\n",
       "      <td>81.000000</td>\n",
       "    </tr>\n",
       "  </tbody>\n",
       "</table>\n",
       "</div>"
      ],
      "text/plain": [
       "                 DST\n",
       "count  520443.000000\n",
       "mean      -14.125015\n",
       "std        22.034833\n",
       "min      -589.000000\n",
       "25%       -22.000000\n",
       "50%       -10.000000\n",
       "75%        -1.000000\n",
       "max        81.000000"
      ]
     },
     "execution_count": 10,
     "metadata": {},
     "output_type": "execute_result"
    }
   ],
   "source": [
    "df.describe()"
   ]
  },
  {
   "cell_type": "code",
   "execution_count": null,
   "metadata": {},
   "outputs": [],
   "source": [
    "df[predicted_label].describe()"
   ]
  },
  {
   "cell_type": "code",
   "execution_count": null,
   "metadata": {},
   "outputs": [],
   "source": [
    "df.head()"
   ]
  },
  {
   "cell_type": "code",
   "execution_count": null,
   "metadata": {},
   "outputs": [],
   "source": [
    "df[predicted_label].hist(bins=100)"
   ]
  },
  {
   "cell_type": "code",
   "execution_count": null,
   "metadata": {
    "jupyter": {
     "source_hidden": true
    }
   },
   "outputs": [],
   "source": [
    "# transform label using sigmoid\n",
    "variance = df[predicted_label].std()\n",
    "df[\"contcontinuous_transforminuous_transform\"] = df[predicted_label].apply(lambda x: expit(2 * ((x - 0.2) / variance)))\n",
    "df[\"contcontinuous_transforminuous_transform\"].describe()"
   ]
  },
  {
   "cell_type": "code",
   "execution_count": 11,
   "metadata": {},
   "outputs": [],
   "source": [
    "# choose one of them\n",
    "# define y variable, i.e., what we want to predict\n",
    "\n",
    "y_col='DST'\n",
    "#y_col='contcontinuous_transforminuous_transform'"
   ]
  },
  {
   "cell_type": "code",
   "execution_count": 12,
   "metadata": {},
   "outputs": [],
   "source": [
    "# train-test division\n",
    "\n",
    "test_size = int(len(df) * 0.2) # here I ask that the test data will be 20% of the entire data\n",
    "train = df.iloc[:-test_size,:].copy()\n",
    "test = df.iloc[-test_size:,:].copy()"
   ]
  },
  {
   "cell_type": "code",
   "execution_count": 13,
   "metadata": {},
   "outputs": [],
   "source": [
    "# train-validation division\n",
    "\n",
    "valid_size = int(len(train) * 0.2) # here I ask that the test data will be 15% of the entire data\n",
    "valid = train.iloc[-valid_size:,:].copy()\n",
    "train = train.iloc[:-valid_size,:].copy()"
   ]
  },
  {
   "cell_type": "code",
   "execution_count": 14,
   "metadata": {},
   "outputs": [],
   "source": [
    "# separate features and labels\n",
    "\n",
    "y_train = train[y_col].values.copy()\n",
    "X_train = train[y_col].values.copy()\n",
    "\n",
    "y_val = valid[y_col].values.copy()\n",
    "X_val = valid[y_col].values.copy()\n",
    "\n",
    "y_test = test[y_col].values.copy()\n",
    "X_test = test[y_col].values.copy()"
   ]
  },
  {
   "cell_type": "code",
   "execution_count": null,
   "metadata": {},
   "outputs": [],
   "source": [
    "print(y_test[0:40])"
   ]
  },
  {
   "cell_type": "code",
   "execution_count": 16,
   "metadata": {},
   "outputs": [
    {
     "data": {
      "text/plain": [
       "104088"
      ]
     },
     "execution_count": 16,
     "metadata": {},
     "output_type": "execute_result"
    }
   ],
   "source": [
    "len(y_test)"
   ]
  },
  {
   "cell_type": "code",
   "execution_count": 17,
   "metadata": {},
   "outputs": [
    {
     "data": {
      "image/png": "[encoded data removed]",
      "text/plain": [
       "<Figure size 1080x648 with 1 Axes>"
      ]
     },
     "metadata": {
      "needs_background": "light"
     },
     "output_type": "display_data"
    }
   ],
   "source": [
    "import matplotlib.pyplot as plt\n",
    "from pandas.plotting import register_matplotlib_converters\n",
    "%matplotlib inline\n",
    "register_matplotlib_converters()\n",
    "\n",
    "plt.rcParams['figure.figsize'] = [15, 9]\n",
    "plt.figure()\n",
    "plt.title(\"DST index (training/validation/test data)\")\n",
    "plt.plot(train['time1'],train['DST'],label='train')\n",
    "plt.plot(valid['time1'],valid['DST'],label='validation')\n",
    "plt.plot(test['time1'],test['DST'],label='test')\n",
    "plt.legend();"
   ]
  },
  {
   "cell_type": "code",
   "execution_count": 18,
   "metadata": {},
   "outputs": [],
   "source": [
    "# set batch, n_input, n_features\n",
    "\n",
    "n_input = 3  # how many samples/rows/timesteps to look in the past in order to forecast the next sample\n",
    "n_features= len(X_train)  # how many predictors/Xs/features we have to predict y\n",
    "b_size = 256  # Number of timeseries samples in each batch\n",
    "\n",
    "train_generator = TimeseriesGenerator(X_train, y_train, length=n_input, batch_size=b_size)\n",
    "val_generator = TimeseriesGenerator(X_val, y_val, length=n_input, batch_size=b_size)\n",
    "test_generator = TimeseriesGenerator(X_test, y_test, length=n_input, batch_size=256)"
   ]
  },
  {
   "cell_type": "code",
   "execution_count": null,
   "metadata": {},
   "outputs": [],
   "source": [
    "for i in range(len(test_generator)):\n",
    "\tx, y = test_generator[i]\n",
    "\tprint('tt %s => %s' % (x, y))"
   ]
  },
  {
   "cell_type": "code",
   "execution_count": 20,
   "metadata": {},
   "outputs": [
    {
     "name": "stdout",
     "output_type": "stream",
     "text": [
      "Počet batchov:  1302\n",
      "Každý batch má features (X zložku) a labels (y zložku):  2\n",
      "Dĺžka X zložky batchu:  256\n",
      "Dĺžka y zložky batchu (počet meraní v batchi):  256\n",
      "Počet riadkov braných do úvahy pre jedno meranie (koľko sa pozerá dozadu):  3\n"
     ]
    }
   ],
   "source": [
    "print(\"Počet batchov: \", len(train_generator))\n",
    "print(\"Každý batch má features (X zložku) a labels (y zložku): \", len(train_generator[0]))\n",
    "print(\"Dĺžka X zložky batchu: \", len(train_generator[0][0]))\n",
    "print(\"Dĺžka y zložky batchu (počet meraní v batchi): \",len(train_generator[0][1]))\n",
    "print(\"Počet riadkov braných do úvahy pre jedno meranie (koľko sa pozerá dozadu): \", len(train_generator[0][0][0]))"
   ]
  },
  {
   "cell_type": "code",
   "execution_count": 21,
   "metadata": {},
   "outputs": [
    {
     "name": "stdout",
     "output_type": "stream",
     "text": [
      "Model: \"model\"\n",
      "_________________________________________________________________\n",
      " Layer (type)                Output Shape              Param #   \n",
      "=================================================================\n",
      " input_1 (InputLayer)        [(None, 3, 1)]            0         \n",
      "                                                                 \n",
      " bidirectional (Bidirectiona  (None, 256)              133120    \n",
      " l)                                                              \n",
      "                                                                 \n",
      " dense (Dense)               (None, 64)                16448     \n",
      "                                                                 \n",
      " dropout (Dropout)           (None, 64)                0         \n",
      "                                                                 \n",
      " dense_1 (Dense)             (None, 32)                2080      \n",
      "                                                                 \n",
      " dense_2 (Dense)             (None, 1)                 33        \n",
      "                                                                 \n",
      "=================================================================\n",
      "Total params: 151,681\n",
      "Trainable params: 151,681\n",
      "Non-trainable params: 0\n",
      "_________________________________________________________________\n",
      "None\n"
     ]
    }
   ],
   "source": [
    "inputs = Input(shape=(n_input,1))\n",
    "b = Conv1D(128, kernel_size = 4, padding = \"same\")(inputs)\n",
    "b = Bidirectional(LSTM(128, dropout=0.1,recurrent_dropout=0.1))(inputs)\n",
    "b = Dense(64, activation='relu')(b)\n",
    "b = Dropout(0.2)(b)\n",
    "x = Dense(32, activation='relu')(b)\n",
    "output = Dense(1, activation='linear')(x)\n",
    "model = Model(inputs=inputs, outputs=output)\n",
    "model.compile(loss='mse', optimizer='adam', metrics=[\"mae\"])\n",
    "print(model.summary())"
   ]
  },
  {
   "cell_type": "code",
   "execution_count": 25,
   "metadata": {},
   "outputs": [
    {
     "name": "stdout",
     "output_type": "stream",
     "text": [
      "Model: \"model_2\"\n",
      "_________________________________________________________________\n",
      " Layer (type)                Output Shape              Param #   \n",
      "=================================================================\n",
      " input_3 (InputLayer)        [(None, 3, 1)]            0         \n",
      "                                                                 \n",
      " bidirectional_2 (Bidirectio  (None, 3, 256)           133120    \n",
      " nal)                                                            \n",
      "                                                                 \n",
      " lstm_4 (LSTM)               (None, 3, 128)            197120    \n",
      "                                                                 \n",
      " time_distributed_1 (TimeDis  (None, 3, 1)             129       \n",
      " tributed)                                                       \n",
      "                                                                 \n",
      " flatten_1 (Flatten)         (None, 3)                 0         \n",
      "                                                                 \n",
      " dense_6 (Dense)             (None, 1)                 4         \n",
      "                                                                 \n",
      "=================================================================\n",
      "Total params: 330,373\n",
      "Trainable params: 330,373\n",
      "Non-trainable params: 0\n",
      "_________________________________________________________________\n",
      "None\n"
     ]
    }
   ],
   "source": [
    "inputs = Input(shape=(n_input,1))\n",
    "c = Bidirectional(LSTM(128, return_sequences=True, dropout=0.1,recurrent_dropout=0.1))(inputs)\n",
    "c = LSTM(128, return_sequences=True)(c)\n",
    "c = TimeDistributed(Dense(1, activation='linear'))(c)\n",
    "output = Flatten()(c)\n",
    "output = Dense(1, activation='linear')(output)\n",
    "model = Model(inputs=inputs, outputs=output)\n",
    "model.compile(loss='mse', optimizer='adam', metrics=[\"mae\"])\n",
    "print(model.summary())"
   ]
  },
  {
   "cell_type": "code",
   "execution_count": 26,
   "metadata": {},
   "outputs": [],
   "source": [
    "# callbacks\n",
    "saved_model = \"model_2.hdf5\"\n",
    "checkpoint = ModelCheckpoint(saved_model, monitor='val_mae', verbose=1, save_best_only=True, mode='min')\n",
    "early = EarlyStopping(monitor=\"val_mae\", mode=\"min\", patience=25)\n",
    "callbacks_list = [checkpoint, early]"
   ]
  },
  {
   "cell_type": "code",
   "execution_count": 27,
   "metadata": {},
   "outputs": [
    {
     "name": "stdout",
     "output_type": "stream",
     "text": [
      "Epoch 1/10\n",
      "1300/1302 [============================>.] - ETA: 0s - loss: 146.5151 - mae: 5.3156\n",
      "Epoch 1: val_mae improved from inf to 3.88137, saving model to model_2.hdf5\n",
      "1302/1302 [==============================] - 37s 24ms/step - loss: 146.3207 - mae: 5.3124 - val_loss: 78.4242 - val_mae: 3.8814\n",
      "Epoch 2/10\n",
      "1302/1302 [==============================] - ETA: 0s - loss: 42.2645 - mae: 3.3962\n",
      "Epoch 2: val_mae improved from 3.88137 to 2.94730, saving model to model_2.hdf5\n",
      "1302/1302 [==============================] - 31s 24ms/step - loss: 42.2645 - mae: 3.3962 - val_loss: 41.2813 - val_mae: 2.9473\n",
      "Epoch 3/10\n",
      "1302/1302 [==============================] - ETA: 0s - loss: 34.2251 - mae: 3.2844\n",
      "Epoch 3: val_mae did not improve from 2.94730\n",
      "1302/1302 [==============================] - 31s 24ms/step - loss: 34.2251 - mae: 3.2844 - val_loss: 35.5514 - val_mae: 2.9634\n",
      "Epoch 4/10\n",
      "1301/1302 [============================>.] - ETA: 0s - loss: 28.5542 - mae: 3.2091\n",
      "Epoch 4: val_mae did not improve from 2.94730\n",
      "1302/1302 [==============================] - 31s 24ms/step - loss: 28.5401 - mae: 3.2084 - val_loss: 32.6690 - val_mae: 3.1246\n",
      "Epoch 5/10\n",
      "1300/1302 [============================>.] - ETA: 0s - loss: 26.0723 - mae: 3.1233\n",
      "Epoch 5: val_mae improved from 2.94730 to 2.93948, saving model to model_2.hdf5\n",
      "1302/1302 [==============================] - 31s 24ms/step - loss: 26.0629 - mae: 3.1228 - val_loss: 32.6363 - val_mae: 2.9395\n",
      "Epoch 6/10\n",
      "1300/1302 [============================>.] - ETA: 0s - loss: 26.3366 - mae: 3.1812\n",
      "Epoch 6: val_mae improved from 2.93948 to 2.63161, saving model to model_2.hdf5\n",
      "1302/1302 [==============================] - 31s 24ms/step - loss: 26.3119 - mae: 3.1800 - val_loss: 22.3628 - val_mae: 2.6316\n",
      "Epoch 7/10\n",
      "1300/1302 [============================>.] - ETA: 0s - loss: 26.1317 - mae: 3.1043\n",
      "Epoch 7: val_mae did not improve from 2.63161\n",
      "1302/1302 [==============================] - 31s 24ms/step - loss: 26.1319 - mae: 3.1045 - val_loss: 31.1997 - val_mae: 3.1558\n",
      "Epoch 8/10\n",
      "1300/1302 [============================>.] - ETA: 0s - loss: 25.7924 - mae: 3.1577\n",
      "Epoch 8: val_mae did not improve from 2.63161\n",
      "1302/1302 [==============================] - 31s 24ms/step - loss: 25.7681 - mae: 3.1565 - val_loss: 26.5917 - val_mae: 2.9866\n",
      "Epoch 9/10\n",
      "1300/1302 [============================>.] - ETA: 0s - loss: 24.6182 - mae: 3.1038\n",
      "Epoch 9: val_mae did not improve from 2.63161\n",
      "1302/1302 [==============================] - 31s 24ms/step - loss: 24.6025 - mae: 3.1034 - val_loss: 23.8189 - val_mae: 2.8427\n",
      "Epoch 10/10\n",
      "1302/1302 [==============================] - ETA: 0s - loss: 25.2218 - mae: 3.1252\n",
      "Epoch 10: val_mae did not improve from 2.63161\n",
      "1302/1302 [==============================] - 31s 24ms/step - loss: 25.2218 - mae: 3.1252 - val_loss: 30.9229 - val_mae: 3.2283\n"
     ]
    }
   ],
   "source": [
    "# fit\n",
    "history = model.fit(train_generator, validation_data=val_generator, epochs=10, verbose=1, callbacks = callbacks_list)"
   ]
  },
  {
   "cell_type": "code",
   "execution_count": 28,
   "metadata": {},
   "outputs": [],
   "source": [
    "# load best model\n",
    "model = keras.models.load_model('model_2.hdf5')"
   ]
  },
  {
   "cell_type": "code",
   "execution_count": 29,
   "metadata": {},
   "outputs": [
    {
     "name": "stdout",
     "output_type": "stream",
     "text": [
      "407/407 [==============================] - 5s 10ms/step\n"
     ]
    }
   ],
   "source": [
    "# prediction\n",
    "y_pred = model.predict(test_generator)"
   ]
  },
  {
   "cell_type": "code",
   "execution_count": null,
   "metadata": {},
   "outputs": [],
   "source": [
    "y_pred"
   ]
  },
  {
   "cell_type": "code",
   "execution_count": 31,
   "metadata": {},
   "outputs": [
    {
     "name": "stdout",
     "output_type": "stream",
     "text": [
      "Confusion matrix: \n",
      "[[82273  1096]\n",
      " [ 2970 17746]]\n"
     ]
    }
   ],
   "source": [
    "# confusion matrix\n",
    "# TN FP\n",
    "# FN TP\n",
    "\n",
    "y_pred2 = np.where(y_pred <= -20, 1, 0)\n",
    "# [n_input:] because prediction starts from n-th row\n",
    "y_test2 = np.where(y_test[n_input:]  <= -20, 1, 0)\n",
    "\n",
    "cm = confusion_matrix(y_test2, y_pred2)\n",
    "print(\"Confusion matrix: \\n\" + str(cm))"
   ]
  },
  {
   "cell_type": "code",
   "execution_count": 32,
   "metadata": {},
   "outputs": [
    {
     "name": "stdout",
     "output_type": "stream",
     "text": [
      "              precision    recall  f1-score   support\n",
      "\n",
      "           0       0.97      0.99      0.98     83369\n",
      "           1       0.94      0.86      0.90     20716\n",
      "\n",
      "    accuracy                           0.96    104085\n",
      "   macro avg       0.95      0.92      0.94    104085\n",
      "weighted avg       0.96      0.96      0.96    104085\n",
      "\n"
     ]
    }
   ],
   "source": [
    "print(classification_report(y_test2, y_pred2))"
   ]
  },
  {
   "cell_type": "code",
   "execution_count": 33,
   "metadata": {},
   "outputs": [],
   "source": [
    "df = pd.DataFrame(data={\"time\": test['time1'][n_input:],\"y_true\": y_test[n_input:].reshape(-1) , \"y_predict\": y_pred.reshape(-1)})"
   ]
  },
  {
   "cell_type": "code",
   "execution_count": 34,
   "metadata": {},
   "outputs": [
    {
     "data": {
      "text/html": [
       "<div>\n",
       "<style scoped>\n",
       "    .dataframe tbody tr th:only-of-type {\n",
       "        vertical-align: middle;\n",
       "    }\n",
       "\n",
       "    .dataframe tbody tr th {\n",
       "        vertical-align: top;\n",
       "    }\n",
       "\n",
       "    .dataframe thead th {\n",
       "        text-align: right;\n",
       "    }\n",
       "</style>\n",
       "<table border=\"1\" class=\"dataframe\">\n",
       "  <thead>\n",
       "    <tr style=\"text-align: right;\">\n",
       "      <th></th>\n",
       "      <th>time</th>\n",
       "      <th>y_true</th>\n",
       "      <th>y_predict</th>\n",
       "    </tr>\n",
       "  </thead>\n",
       "  <tbody>\n",
       "    <tr>\n",
       "      <th>416358</th>\n",
       "      <td>2010-06-29 08:00:00</td>\n",
       "      <td>-17.0</td>\n",
       "      <td>-11.681597</td>\n",
       "    </tr>\n",
       "    <tr>\n",
       "      <th>416359</th>\n",
       "      <td>2010-06-29 09:00:00</td>\n",
       "      <td>-17.0</td>\n",
       "      <td>-18.203098</td>\n",
       "    </tr>\n",
       "    <tr>\n",
       "      <th>416360</th>\n",
       "      <td>2010-06-29 10:00:00</td>\n",
       "      <td>-15.0</td>\n",
       "      <td>-15.433411</td>\n",
       "    </tr>\n",
       "    <tr>\n",
       "      <th>416361</th>\n",
       "      <td>2010-06-29 11:00:00</td>\n",
       "      <td>-11.0</td>\n",
       "      <td>-13.650112</td>\n",
       "    </tr>\n",
       "    <tr>\n",
       "      <th>416362</th>\n",
       "      <td>2010-06-29 12:00:00</td>\n",
       "      <td>-8.0</td>\n",
       "      <td>-9.506382</td>\n",
       "    </tr>\n",
       "    <tr>\n",
       "      <th>...</th>\n",
       "      <td>...</td>\n",
       "      <td>...</td>\n",
       "      <td>...</td>\n",
       "    </tr>\n",
       "    <tr>\n",
       "      <th>520438</th>\n",
       "      <td>2022-05-13 12:00:00</td>\n",
       "      <td>2.0</td>\n",
       "      <td>0.107270</td>\n",
       "    </tr>\n",
       "    <tr>\n",
       "      <th>520439</th>\n",
       "      <td>2022-05-13 13:00:00</td>\n",
       "      <td>4.0</td>\n",
       "      <td>1.844490</td>\n",
       "    </tr>\n",
       "    <tr>\n",
       "      <th>520440</th>\n",
       "      <td>2022-05-13 14:00:00</td>\n",
       "      <td>5.0</td>\n",
       "      <td>3.850308</td>\n",
       "    </tr>\n",
       "    <tr>\n",
       "      <th>520441</th>\n",
       "      <td>2022-05-13 15:00:00</td>\n",
       "      <td>5.0</td>\n",
       "      <td>3.924243</td>\n",
       "    </tr>\n",
       "    <tr>\n",
       "      <th>520442</th>\n",
       "      <td>2022-05-13 16:00:00</td>\n",
       "      <td>4.0</td>\n",
       "      <td>3.620227</td>\n",
       "    </tr>\n",
       "  </tbody>\n",
       "</table>\n",
       "<p>104085 rows × 3 columns</p>\n",
       "</div>"
      ],
      "text/plain": [
       "                      time  y_true  y_predict\n",
       "416358 2010-06-29 08:00:00   -17.0 -11.681597\n",
       "416359 2010-06-29 09:00:00   -17.0 -18.203098\n",
       "416360 2010-06-29 10:00:00   -15.0 -15.433411\n",
       "416361 2010-06-29 11:00:00   -11.0 -13.650112\n",
       "416362 2010-06-29 12:00:00    -8.0  -9.506382\n",
       "...                    ...     ...        ...\n",
       "520438 2022-05-13 12:00:00     2.0   0.107270\n",
       "520439 2022-05-13 13:00:00     4.0   1.844490\n",
       "520440 2022-05-13 14:00:00     5.0   3.850308\n",
       "520441 2022-05-13 15:00:00     5.0   3.924243\n",
       "520442 2022-05-13 16:00:00     4.0   3.620227\n",
       "\n",
       "[104085 rows x 3 columns]"
      ]
     },
     "execution_count": 34,
     "metadata": {},
     "output_type": "execute_result"
    }
   ],
   "source": [
    "df"
   ]
  },
  {
   "cell_type": "code",
   "execution_count": 35,
   "metadata": {},
   "outputs": [
    {
     "data": {
      "text/html": [
       "<div>\n",
       "<style scoped>\n",
       "    .dataframe tbody tr th:only-of-type {\n",
       "        vertical-align: middle;\n",
       "    }\n",
       "\n",
       "    .dataframe tbody tr th {\n",
       "        vertical-align: top;\n",
       "    }\n",
       "\n",
       "    .dataframe thead th {\n",
       "        text-align: right;\n",
       "    }\n",
       "</style>\n",
       "<table border=\"1\" class=\"dataframe\">\n",
       "  <thead>\n",
       "    <tr style=\"text-align: right;\">\n",
       "      <th></th>\n",
       "      <th>y_true</th>\n",
       "      <th>y_predict</th>\n",
       "    </tr>\n",
       "  </thead>\n",
       "  <tbody>\n",
       "    <tr>\n",
       "      <th>count</th>\n",
       "      <td>104085.000000</td>\n",
       "      <td>104085.000000</td>\n",
       "    </tr>\n",
       "    <tr>\n",
       "      <th>mean</th>\n",
       "      <td>-9.640928</td>\n",
       "      <td>-9.753717</td>\n",
       "    </tr>\n",
       "    <tr>\n",
       "      <th>std</th>\n",
       "      <td>16.039960</td>\n",
       "      <td>15.193985</td>\n",
       "    </tr>\n",
       "    <tr>\n",
       "      <th>min</th>\n",
       "      <td>-234.000000</td>\n",
       "      <td>-212.117798</td>\n",
       "    </tr>\n",
       "    <tr>\n",
       "      <th>25%</th>\n",
       "      <td>-17.000000</td>\n",
       "      <td>-16.011124</td>\n",
       "    </tr>\n",
       "    <tr>\n",
       "      <th>50%</th>\n",
       "      <td>-7.000000</td>\n",
       "      <td>-6.722116</td>\n",
       "    </tr>\n",
       "    <tr>\n",
       "      <th>75%</th>\n",
       "      <td>0.000000</td>\n",
       "      <td>-0.155047</td>\n",
       "    </tr>\n",
       "    <tr>\n",
       "      <th>max</th>\n",
       "      <td>77.000000</td>\n",
       "      <td>44.786690</td>\n",
       "    </tr>\n",
       "  </tbody>\n",
       "</table>\n",
       "</div>"
      ],
      "text/plain": [
       "              y_true      y_predict\n",
       "count  104085.000000  104085.000000\n",
       "mean       -9.640928      -9.753717\n",
       "std        16.039960      15.193985\n",
       "min      -234.000000    -212.117798\n",
       "25%       -17.000000     -16.011124\n",
       "50%        -7.000000      -6.722116\n",
       "75%         0.000000      -0.155047\n",
       "max        77.000000      44.786690"
      ]
     },
     "execution_count": 35,
     "metadata": {},
     "output_type": "execute_result"
    }
   ],
   "source": [
    "df.describe()"
   ]
  },
  {
   "cell_type": "code",
   "execution_count": null,
   "metadata": {},
   "outputs": [],
   "source": [
    "df[\"y_true\"].hist(bins=100)"
   ]
  },
  {
   "cell_type": "code",
   "execution_count": null,
   "metadata": {},
   "outputs": [],
   "source": [
    "df[\"y_predict\"].hist(bins=100)"
   ]
  },
  {
   "cell_type": "code",
   "execution_count": 38,
   "metadata": {},
   "outputs": [
    {
     "data": {
      "image/png": "[encoded data removed]",
      "text/plain": [
       "<Figure size 1080x648 with 1 Axes>"
      ]
     },
     "metadata": {
      "needs_background": "light"
     },
     "output_type": "display_data"
    }
   ],
   "source": [
    "plt.figure()\n",
    "plt.title('Predicting the change in DST Index')\n",
    "plt.plot(df['time'],df['y_true'], label='Skutočné hodnoty')\n",
    "plt.plot(df['time'],df['y_predict'], label='Predikované hodnoty')\n",
    "plt.legend()\n",
    "plt.gcf().autofmt_xdate()\n",
    "plt.grid(True)"
   ]
  },
  {
   "cell_type": "code",
   "execution_count": 39,
   "metadata": {},
   "outputs": [],
   "source": [
    "df.to_csv('predikcie_3h_dozadu_1h_dopredu.csv')"
   ]
  }
 ],
 "metadata": {
  "kernelspec": {
   "display_name": "Python 3 (ipykernel)",
   "language": "python",
   "name": "python3"
  },
  "language_info": {
   "codemirror_mode": {
    "name": "ipython",
    "version": 3
   },
   "file_extension": ".py",
   "mimetype": "text/x-python",
   "name": "python",
   "nbconvert_exporter": "python",
   "pygments_lexer": "ipython3",
   "version": "3.10.6"
  }
 },
 "nbformat": 4,
 "nbformat_minor": 4
}
