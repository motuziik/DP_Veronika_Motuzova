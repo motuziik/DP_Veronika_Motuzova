{
 "cells": [
  {
   "cell_type": "markdown",
   "metadata": {},
   "source": [
    "# Trénovanie modelu na základe DST indexu, F10_indexu a BZ_GSM 8h dopredu 6 dozadu\n",
    "Súbor: 6_8_pridane_atr.ipynb\n",
    "\n",
    "Program: Hospodárska informatika\n",
    "\n",
    "Vypracovala: Bc. Veronika Motúzová\n",
    "\n",
    "Diplomová práca: : Predikcia geomagnetickych búrok pomocou hlbokého učenia\n",
    "\n",
    "Vedúci diplomovej práce: doc. Ing. Peter Butka, PhD.\n",
    "\n",
    "Konzultanti: Ing. Viera Maslej Krešňáková, PhD., RNDr. Šimon Mackovjak, PhD. "
   ]
  },
  {
   "cell_type": "markdown",
   "metadata": {},
   "source": [
    "### Inštalácia knižníc"
   ]
  },
  {
   "cell_type": "code",
   "execution_count": null,
   "metadata": {
    "tags": []
   },
   "outputs": [
    {
     "name": "stdout",
     "output_type": "stream",
     "text": [
      "Collecting pyarrow\n",
      "  Downloading pyarrow-11.0.0-cp310-cp310-manylinux_2_17_x86_64.manylinux2014_x86_64.whl (34.9 MB)\n",
      "\u001b[2K     \u001b[90m━━━━━━━━━━━━━━━━━━━━━━━━━━━━━━━━━━━━━━━━\u001b[0m \u001b[32m34.9/34.9 MB\u001b[0m \u001b[31m32.9 MB/s\u001b[0m eta \u001b[36m0:00:00\u001b[0m00:01\u001b[0m00:01\u001b[0m\n",
      "\u001b[?25hRequirement already satisfied: numpy>=1.16.6 in /opt/conda/lib/python3.10/site-packages (from pyarrow) (1.23.5)\n",
      "Installing collected packages: pyarrow\n",
      "Successfully installed pyarrow-11.0.0\n",
      "Requirement already satisfied: keras in /opt/conda/lib/python3.10/site-packages (2.9.0)\n"
     ]
    }
   ],
   "source": [
    "!pip install pyarrow\n",
    "!pip install keras\n",
    "!pip install --upgrade tensorflow\n",
    "!pip install --upgrade tensorflow-gpu"
   ]
  },
  {
   "cell_type": "markdown",
   "metadata": {},
   "source": [
    "### Kontrola kapacity servera"
   ]
  },
  {
   "cell_type": "code",
   "execution_count": 1,
   "metadata": {
    "tags": []
   },
   "outputs": [
    {
     "name": "stdout",
     "output_type": "stream",
     "text": [
      "Tue Mar 14 06:37:57 2023       \n",
      "+-----------------------------------------------------------------------------+\n",
      "| NVIDIA-SMI 515.86.01    Driver Version: 515.86.01    CUDA Version: 11.7     |\n",
      "|-------------------------------+----------------------+----------------------+\n",
      "| GPU  Name        Persistence-M| Bus-Id        Disp.A | Volatile Uncorr. ECC |\n",
      "| Fan  Temp  Perf  Pwr:Usage/Cap|         Memory-Usage | GPU-Util  Compute M. |\n",
      "|                               |                      |               MIG M. |\n",
      "|===============================+======================+======================|\n",
      "|   0  Quadro RTX 4000     Off  | 00000000:8B:00.0 Off |                  N/A |\n",
      "| 30%   41C    P8     1W / 125W |    912MiB /  8192MiB |      0%      Default |\n",
      "|                               |                      |                  N/A |\n",
      "+-------------------------------+----------------------+----------------------+\n",
      "                                                                               \n",
      "+-----------------------------------------------------------------------------+\n",
      "| Processes:                                                                  |\n",
      "|  GPU   GI   CI        PID   Type   Process name                  GPU Memory |\n",
      "|        ID   ID                                                   Usage      |\n",
      "|=============================================================================|\n",
      "+-----------------------------------------------------------------------------+\n"
     ]
    }
   ],
   "source": [
    "!nvidia-smi"
   ]
  },
  {
   "cell_type": "markdown",
   "metadata": {},
   "source": [
    "### Import knižníc"
   ]
  },
  {
   "cell_type": "code",
   "execution_count": 2,
   "metadata": {
    "tags": []
   },
   "outputs": [],
   "source": [
    "import pandas as pd\n",
    "import numpy as np\n",
    "from tensorflow import keras\n",
    "import matplotlib.pyplot as plt\n",
    "from sklearn.preprocessing import MinMaxScaler, StandardScaler\n",
    "from pandas.plotting import register_matplotlib_converters\n",
    "register_matplotlib_converters()\n",
    "import seaborn as sns\n",
    "\n",
    "from keras.preprocessing.sequence import TimeseriesGenerator\n",
    "from keras.models import Sequential\n",
    "\n",
    "from keras.layers import Dense, Activation, Dropout, Input, Conv1D, LSTM, MaxPooling1D, Flatten, TimeDistributed, Bidirectional\n",
    "from tensorflow.keras.callbacks import ModelCheckpoint, EarlyStopping\n",
    "from keras.models import Model\n",
    "\n",
    "\n",
    "from scipy.special import expit, logit\n",
    "\n",
    "from sklearn.metrics import confusion_matrix, classification_report, matthews_corrcoef"
   ]
  },
  {
   "cell_type": "markdown",
   "metadata": {},
   "source": [
    "### Načitanie dát, odstránenie na hodnôt, určenie predikovaného atribútu"
   ]
  },
  {
   "cell_type": "code",
   "execution_count": 3,
   "metadata": {},
   "outputs": [],
   "source": [
    "train = pd.read_csv('train_omni.csv')\n",
    "test = pd.read_csv('test_omni.csv')\n",
    "features = ['time1',\n",
    "           'DST',\n",
    "            'F10_INDEX',\n",
    "            'BZ_GSM',\n",
    "            'DST+8']\n",
    "test = test[features]\n",
    "train = train[features]\n",
    "train = train.dropna()\n",
    "train['time1']=pd.to_datetime(train['time1'])\n",
    "test['time1']=pd.to_datetime(test['time1'])\n",
    "predicted_label = 'DST+8'\n",
    "predicators = ['DST',\n",
    "            'F10_INDEX',\n",
    "            'BZ_GSM']\n",
    "\n",
    "y_col='DST+8'\n",
    "valid_size = int(len(train) * 0.2)\n",
    "valid = train.iloc[-valid_size:,:].copy()\n",
    "train = train.iloc[:-valid_size,:].copy()\n",
    "\n",
    "y_train = train[y_col].values.copy()\n",
    "X_train = train[predicators].values.copy()\n",
    "y_val = valid[y_col].values.copy()\n",
    "X_val = valid[predicators].values.copy()\n",
    "y_test = test[y_col].values.copy()\n",
    "X_test = test[predicators].values.copy()"
   ]
  },
  {
   "cell_type": "code",
   "execution_count": 4,
   "metadata": {},
   "outputs": [],
   "source": [
    "# set batch, n_input, n_features\n",
    "\n",
    "n_input = 6  # how many samples/rows/timesteps to look in the past in order to forecast the next sample\n",
    "n_features= len(X_train)  # how many predictors/Xs/features we have to predict y\n",
    "b_size = 256  # Number of timeseries samples in each batch\n",
    "\n",
    "train_generator = TimeseriesGenerator(X_train, y_train, length=n_input, batch_size=b_size)\n",
    "val_generator = TimeseriesGenerator(X_val, y_val, length=n_input, batch_size=b_size)\n",
    "test_generator = TimeseriesGenerator(X_test, y_test, length=n_input, batch_size=256)"
   ]
  },
  {
   "cell_type": "code",
   "execution_count": 5,
   "metadata": {},
   "outputs": [
    {
     "name": "stdout",
     "output_type": "stream",
     "text": [
      "Počet batchov:  753\n",
      "Každý batch má features (X zložku) a labels (y zložku):  2\n",
      "Dĺžka X zložky batchu:  256\n",
      "Dĺžka y zložky batchu (počet meraní v batchi):  256\n",
      "Počet riadkov braných do úvahy pre jedno meranie (koľko sa pozerá dozadu):  6\n"
     ]
    }
   ],
   "source": [
    "print(\"Počet batchov: \", len(train_generator))\n",
    "print(\"Každý batch má features (X zložku) a labels (y zložku): \", len(train_generator[0]))\n",
    "print(\"Dĺžka X zložky batchu: \", len(train_generator[0][0]))\n",
    "print(\"Dĺžka y zložky batchu (počet meraní v batchi): \",len(train_generator[0][1]))\n",
    "print(\"Počet riadkov braných do úvahy pre jedno meranie (koľko sa pozerá dozadu): \", len(train_generator[0][0][0]))"
   ]
  },
  {
   "cell_type": "code",
   "execution_count": 6,
   "metadata": {},
   "outputs": [
    {
     "name": "stdout",
     "output_type": "stream",
     "text": [
      "WARNING:tensorflow:Layer lstm will not use cuDNN kernels since it doesn't meet the criteria. It will use a generic GPU kernel as fallback when running on GPU.\n",
      "WARNING:tensorflow:Layer lstm will not use cuDNN kernels since it doesn't meet the criteria. It will use a generic GPU kernel as fallback when running on GPU.\n",
      "WARNING:tensorflow:Layer lstm will not use cuDNN kernels since it doesn't meet the criteria. It will use a generic GPU kernel as fallback when running on GPU.\n"
     ]
    },
    {
     "name": "stderr",
     "output_type": "stream",
     "text": [
      "2023-03-14 06:38:11.825222: I tensorflow/core/common_runtime/gpu/gpu_device.cc:1532] Created device /job:localhost/replica:0/task:0/device:GPU:0 with 5765 MB memory:  -> device: 0, name: Quadro RTX 4000, pci bus id: 0000:8b:00.0, compute capability: 7.5\n"
     ]
    },
    {
     "name": "stdout",
     "output_type": "stream",
     "text": [
      "Model: \"model\"\n",
      "_________________________________________________________________\n",
      " Layer (type)                Output Shape              Param #   \n",
      "=================================================================\n",
      " input_1 (InputLayer)        [(None, 6, 3)]            0         \n",
      "                                                                 \n",
      " bidirectional (Bidirectiona  (None, 6, 256)           135168    \n",
      " l)                                                              \n",
      "                                                                 \n",
      " lstm_1 (LSTM)               (None, 6, 128)            197120    \n",
      "                                                                 \n",
      " time_distributed (TimeDistr  (None, 6, 1)             129       \n",
      " ibuted)                                                         \n",
      "                                                                 \n",
      " flatten (Flatten)           (None, 6)                 0         \n",
      "                                                                 \n",
      " dense_1 (Dense)             (None, 1)                 7         \n",
      "                                                                 \n",
      "=================================================================\n",
      "Total params: 332,424\n",
      "Trainable params: 332,424\n",
      "Non-trainable params: 0\n",
      "_________________________________________________________________\n",
      "None\n"
     ]
    }
   ],
   "source": [
    "inputs = Input(shape=(6,3)) #(kolko hodinove je okno, kolko je features v train)\n",
    "c = Bidirectional((LSTM(128, input_shape=(X_train.shape[0], X_train.shape[1]), return_sequences=True, dropout=0.1,recurrent_dropout=0.1)))(inputs)\n",
    "c = LSTM(128, input_shape=(X_train.shape[0], X_train.shape[1]), return_sequences=True)(c)\n",
    "c = TimeDistributed(Dense(1, activation='linear'))(c)\n",
    "output = Flatten()(c)\n",
    "output = Dense(1, activation='linear')(output)\n",
    "model = Model(inputs=inputs, outputs=output)\n",
    "model.compile(loss='mse', optimizer='adam', metrics=[\"mae\"])\n",
    "print(model.summary())"
   ]
  },
  {
   "cell_type": "code",
   "execution_count": 7,
   "metadata": {
    "tags": []
   },
   "outputs": [
    {
     "name": "stdout",
     "output_type": "stream",
     "text": [
      "WARNING:tensorflow:Layer lstm_2 will not use cuDNN kernels since it doesn't meet the criteria. It will use a generic GPU kernel as fallback when running on GPU.\n",
      "WARNING:tensorflow:Layer lstm_2 will not use cuDNN kernels since it doesn't meet the criteria. It will use a generic GPU kernel as fallback when running on GPU.\n",
      "WARNING:tensorflow:Layer lstm_2 will not use cuDNN kernels since it doesn't meet the criteria. It will use a generic GPU kernel as fallback when running on GPU.\n",
      "Model: \"model_1\"\n",
      "_________________________________________________________________\n",
      " Layer (type)                Output Shape              Param #   \n",
      "=================================================================\n",
      " input_2 (InputLayer)        [(None, 6, 1)]            0         \n",
      "                                                                 \n",
      " bidirectional_1 (Bidirectio  (None, 256)              133120    \n",
      " nal)                                                            \n",
      "                                                                 \n",
      " dense_2 (Dense)             (None, 64)                16448     \n",
      "                                                                 \n",
      " dropout (Dropout)           (None, 64)                0         \n",
      "                                                                 \n",
      " dense_3 (Dense)             (None, 32)                2080      \n",
      "                                                                 \n",
      " dense_4 (Dense)             (None, 1)                 33        \n",
      "                                                                 \n",
      "=================================================================\n",
      "Total params: 151,681\n",
      "Trainable params: 151,681\n",
      "Non-trainable params: 0\n",
      "_________________________________________________________________\n",
      "None\n"
     ]
    }
   ],
   "source": [
    "inputs = Input(shape=(n_input,1))\n",
    "b = Conv1D(128, kernel_size = 4, padding = \"same\")(inputs)\n",
    "b = Bidirectional(LSTM(128, dropout=0.1,recurrent_dropout=0.1))(inputs)\n",
    "b = Dense(64, activation='relu')(b)\n",
    "b = Dropout(0.2)(b)\n",
    "x = Dense(32, activation='relu')(b)\n",
    "output = Dense(1, activation='linear')(x)\n",
    "model = Model(inputs=inputs, outputs=output)\n",
    "model.compile(loss='mse', optimizer='adam', metrics=[\"mae\"])\n",
    "print(model.summary())"
   ]
  },
  {
   "cell_type": "code",
   "execution_count": 88,
   "metadata": {
    "collapsed": true,
    "jupyter": {
     "outputs_hidden": true,
     "source_hidden": true
    },
    "tags": []
   },
   "outputs": [
    {
     "name": "stdout",
     "output_type": "stream",
     "text": [
      "WARNING:tensorflow:Layer lstm_9 will not use cuDNN kernels since it doesn't meet the criteria. It will use a generic GPU kernel as fallback when running on GPU.\n",
      "WARNING:tensorflow:Layer lstm_9 will not use cuDNN kernels since it doesn't meet the criteria. It will use a generic GPU kernel as fallback when running on GPU.\n",
      "WARNING:tensorflow:Layer lstm_9 will not use cuDNN kernels since it doesn't meet the criteria. It will use a generic GPU kernel as fallback when running on GPU.\n",
      "Model: \"model_6\"\n",
      "_________________________________________________________________\n",
      " Layer (type)                Output Shape              Param #   \n",
      "=================================================================\n",
      " input_7 (InputLayer)        [(None, 6, 3)]            0         \n",
      "                                                                 \n",
      " bidirectional_6 (Bidirectio  (None, 6, 256)           135168    \n",
      " nal)                                                            \n",
      "                                                                 \n",
      " lstm_10 (LSTM)              (None, 6, 128)            197120    \n",
      "                                                                 \n",
      " time_distributed_3 (TimeDis  (None, 6, 3)             387       \n",
      " tributed)                                                       \n",
      "                                                                 \n",
      " flatten_3 (Flatten)         (None, 18)                0         \n",
      "                                                                 \n",
      " dense_16 (Dense)            (None, 3)                 57        \n",
      "                                                                 \n",
      "=================================================================\n",
      "Total params: 332,732\n",
      "Trainable params: 332,732\n",
      "Non-trainable params: 0\n",
      "_________________________________________________________________\n",
      "None\n"
     ]
    }
   ],
   "source": [
    "inputs = Input(shape=(6,3)) #(kolko hodinove je okno, kolko je features v train)\n",
    "c = Bidirectional(LSTM(128, return_sequences=True, dropout=0.1,recurrent_dropout=0.1))(inputs)\n",
    "c = LSTM(128, return_sequences=True)(c)\n",
    "c = TimeDistributed(Dense(3, activation='linear'))(c)\n",
    "output = Flatten()(c)\n",
    "output = Dense(3, activation='linear')(output)\n",
    "model = Model(inputs=inputs, outputs=output)\n",
    "model.compile(loss='mse', optimizer='adam', metrics=[\"mae\"])\n",
    "print(model.summary())"
   ]
  },
  {
   "cell_type": "code",
   "execution_count": 7,
   "metadata": {},
   "outputs": [],
   "source": [
    "# callbacks\n",
    "saved_model = \"6_8_pridane_atr.hdf5\"\n",
    "checkpoint = ModelCheckpoint(saved_model, monitor='val_mae', verbose=1, save_best_only=True, mode='min')\n",
    "early = EarlyStopping(monitor=\"val_mae\", mode=\"min\", patience=25)\n",
    "callbacks_list = [checkpoint, early]"
   ]
  },
  {
   "cell_type": "code",
   "execution_count": 8,
   "metadata": {},
   "outputs": [
    {
     "name": "stdout",
     "output_type": "stream",
     "text": [
      "Epoch 1/20\n"
     ]
    },
    {
     "name": "stderr",
     "output_type": "stream",
     "text": [
      "2023-03-14 06:38:34.471776: I tensorflow/stream_executor/cuda/cuda_dnn.cc:384] Loaded cuDNN version 8201\n"
     ]
    },
    {
     "name": "stdout",
     "output_type": "stream",
     "text": [
      "753/753 [==============================] - ETA: 0s - loss: 197.5343 - mae: 7.5931\n",
      "Epoch 1: val_mae improved from inf to 7.27531, saving model to 6_8_pridane_atr.hdf5\n",
      "753/753 [==============================] - 53s 61ms/step - loss: 197.5343 - mae: 7.5931 - val_loss: 194.5532 - val_mae: 7.2753\n",
      "Epoch 2/20\n",
      "753/753 [==============================] - ETA: 0s - loss: 97.6197 - mae: 5.8104\n",
      "Epoch 2: val_mae improved from 7.27531 to 6.13002, saving model to 6_8_pridane_atr.hdf5\n",
      "753/753 [==============================] - 45s 60ms/step - loss: 97.6197 - mae: 5.8104 - val_loss: 133.4187 - val_mae: 6.1300\n",
      "Epoch 3/20\n",
      "753/753 [==============================] - ETA: 0s - loss: 84.2635 - mae: 5.5958\n",
      "Epoch 3: val_mae improved from 6.13002 to 5.88338, saving model to 6_8_pridane_atr.hdf5\n",
      "753/753 [==============================] - 45s 60ms/step - loss: 84.2635 - mae: 5.5958 - val_loss: 113.9237 - val_mae: 5.8834\n",
      "Epoch 4/20\n",
      "753/753 [==============================] - ETA: 0s - loss: 79.4800 - mae: 5.4595\n",
      "Epoch 4: val_mae improved from 5.88338 to 5.83084, saving model to 6_8_pridane_atr.hdf5\n",
      "753/753 [==============================] - 46s 61ms/step - loss: 79.4800 - mae: 5.4595 - val_loss: 104.5634 - val_mae: 5.8308\n",
      "Epoch 5/20\n",
      "753/753 [==============================] - ETA: 0s - loss: 76.4649 - mae: 5.4111\n",
      "Epoch 5: val_mae improved from 5.83084 to 5.73265, saving model to 6_8_pridane_atr.hdf5\n",
      "753/753 [==============================] - 45s 60ms/step - loss: 76.4649 - mae: 5.4111 - val_loss: 98.0014 - val_mae: 5.7326\n",
      "Epoch 6/20\n",
      "753/753 [==============================] - ETA: 0s - loss: 77.2674 - mae: 5.4585\n",
      "Epoch 6: val_mae did not improve from 5.73265\n",
      "753/753 [==============================] - 45s 60ms/step - loss: 77.2674 - mae: 5.4585 - val_loss: 95.1516 - val_mae: 5.8654\n",
      "Epoch 7/20\n",
      "753/753 [==============================] - ETA: 0s - loss: 74.4308 - mae: 5.3670\n",
      "Epoch 7: val_mae did not improve from 5.73265\n",
      "753/753 [==============================] - 45s 60ms/step - loss: 74.4308 - mae: 5.3670 - val_loss: 101.5881 - val_mae: 6.0657\n",
      "Epoch 8/20\n",
      "753/753 [==============================] - ETA: 0s - loss: 73.4460 - mae: 5.3250\n",
      "Epoch 8: val_mae did not improve from 5.73265\n",
      "753/753 [==============================] - 45s 60ms/step - loss: 73.4460 - mae: 5.3250 - val_loss: 101.4319 - val_mae: 6.1611\n",
      "Epoch 9/20\n",
      "753/753 [==============================] - ETA: 0s - loss: 74.0760 - mae: 5.3443\n",
      "Epoch 9: val_mae did not improve from 5.73265\n",
      "753/753 [==============================] - 45s 60ms/step - loss: 74.0760 - mae: 5.3443 - val_loss: 89.4645 - val_mae: 5.7587\n",
      "Epoch 10/20\n",
      "753/753 [==============================] - ETA: 0s - loss: 73.3234 - mae: 5.3059\n",
      "Epoch 10: val_mae did not improve from 5.73265\n",
      "753/753 [==============================] - 45s 60ms/step - loss: 73.3234 - mae: 5.3059 - val_loss: 111.1071 - val_mae: 6.7301\n",
      "Epoch 11/20\n",
      "753/753 [==============================] - ETA: 0s - loss: 71.0750 - mae: 5.2738\n",
      "Epoch 11: val_mae did not improve from 5.73265\n",
      "753/753 [==============================] - 46s 61ms/step - loss: 71.0750 - mae: 5.2738 - val_loss: 88.8721 - val_mae: 5.8771\n",
      "Epoch 12/20\n",
      "753/753 [==============================] - ETA: 0s - loss: 72.2394 - mae: 5.2888\n",
      "Epoch 12: val_mae improved from 5.73265 to 5.57888, saving model to 6_8_pridane_atr.hdf5\n",
      "753/753 [==============================] - 45s 60ms/step - loss: 72.2394 - mae: 5.2888 - val_loss: 84.4656 - val_mae: 5.5789\n",
      "Epoch 13/20\n",
      "753/753 [==============================] - ETA: 0s - loss: 70.7436 - mae: 5.2603\n",
      "Epoch 13: val_mae did not improve from 5.57888\n",
      "753/753 [==============================] - 45s 60ms/step - loss: 70.7436 - mae: 5.2603 - val_loss: 83.2545 - val_mae: 5.7022\n",
      "Epoch 14/20\n",
      "753/753 [==============================] - ETA: 0s - loss: 71.1910 - mae: 5.2754\n",
      "Epoch 14: val_mae did not improve from 5.57888\n",
      "753/753 [==============================] - 46s 61ms/step - loss: 71.1910 - mae: 5.2754 - val_loss: 82.9213 - val_mae: 5.7547\n",
      "Epoch 15/20\n",
      "753/753 [==============================] - ETA: 0s - loss: 70.9108 - mae: 5.2535\n",
      "Epoch 15: val_mae did not improve from 5.57888\n",
      "753/753 [==============================] - 46s 61ms/step - loss: 70.9108 - mae: 5.2535 - val_loss: 86.0018 - val_mae: 5.6887\n",
      "Epoch 16/20\n",
      "753/753 [==============================] - ETA: 0s - loss: 70.6673 - mae: 5.2274\n",
      "Epoch 16: val_mae improved from 5.57888 to 5.40430, saving model to 6_8_pridane_atr.hdf5\n",
      "753/753 [==============================] - 45s 60ms/step - loss: 70.6673 - mae: 5.2274 - val_loss: 78.1513 - val_mae: 5.4043\n",
      "Epoch 17/20\n",
      "753/753 [==============================] - ETA: 0s - loss: 69.7151 - mae: 5.2299\n",
      "Epoch 17: val_mae did not improve from 5.40430\n",
      "753/753 [==============================] - 45s 60ms/step - loss: 69.7151 - mae: 5.2299 - val_loss: 80.8709 - val_mae: 5.4869\n",
      "Epoch 18/20\n",
      "753/753 [==============================] - ETA: 0s - loss: 69.6164 - mae: 5.2251\n",
      "Epoch 18: val_mae did not improve from 5.40430\n",
      "753/753 [==============================] - 45s 60ms/step - loss: 69.6164 - mae: 5.2251 - val_loss: 95.3927 - val_mae: 6.1046\n",
      "Epoch 19/20\n",
      "753/753 [==============================] - ETA: 0s - loss: 69.9427 - mae: 5.2300\n",
      "Epoch 19: val_mae did not improve from 5.40430\n",
      "753/753 [==============================] - 46s 61ms/step - loss: 69.9427 - mae: 5.2300 - val_loss: 89.8531 - val_mae: 5.9593\n",
      "Epoch 20/20\n",
      "753/753 [==============================] - ETA: 0s - loss: 69.2205 - mae: 5.1932\n",
      "Epoch 20: val_mae did not improve from 5.40430\n",
      "753/753 [==============================] - 46s 61ms/step - loss: 69.2205 - mae: 5.1932 - val_loss: 90.5527 - val_mae: 5.7197\n"
     ]
    }
   ],
   "source": [
    "# fit\n",
    "history = model.fit(train_generator, validation_data=val_generator, epochs=20, verbose=1, callbacks = callbacks_list)"
   ]
  },
  {
   "cell_type": "code",
   "execution_count": 9,
   "metadata": {},
   "outputs": [
    {
     "name": "stdout",
     "output_type": "stream",
     "text": [
      "WARNING:tensorflow:Layer lstm will not use cuDNN kernels since it doesn't meet the criteria. It will use a generic GPU kernel as fallback when running on GPU.\n",
      "WARNING:tensorflow:Layer lstm will not use cuDNN kernels since it doesn't meet the criteria. It will use a generic GPU kernel as fallback when running on GPU.\n",
      "WARNING:tensorflow:Layer lstm will not use cuDNN kernels since it doesn't meet the criteria. It will use a generic GPU kernel as fallback when running on GPU.\n"
     ]
    }
   ],
   "source": [
    "# load best model\n",
    "model = keras.models.load_model('6_8_pridane_atr.hdf5')"
   ]
  },
  {
   "cell_type": "code",
   "execution_count": 10,
   "metadata": {},
   "outputs": [
    {
     "name": "stdout",
     "output_type": "stream",
     "text": [
      "607/607 [==============================] - 9s 14ms/step\n"
     ]
    }
   ],
   "source": [
    "# prediction\n",
    "y_pred = model.predict(test_generator)"
   ]
  },
  {
   "cell_type": "code",
   "execution_count": 11,
   "metadata": {},
   "outputs": [
    {
     "data": {
      "text/plain": [
       "array([[  8.15726 ],\n",
       "       [ 10.023378],\n",
       "       [ 13.206307],\n",
       "       ...,\n",
       "       [-14.23791 ],\n",
       "       [-18.894482],\n",
       "       [-21.831478]], dtype=float32)"
      ]
     },
     "execution_count": 11,
     "metadata": {},
     "output_type": "execute_result"
    }
   ],
   "source": [
    "y_pred"
   ]
  },
  {
   "cell_type": "code",
   "execution_count": 12,
   "metadata": {},
   "outputs": [
    {
     "name": "stdout",
     "output_type": "stream",
     "text": [
      "Confusion matrix: \n",
      "[[121446   3198]\n",
      " [  7049  23560]]\n"
     ]
    }
   ],
   "source": [
    "# confusion matrix\n",
    "# TN FP\n",
    "# FN TP\n",
    "\n",
    "y_pred2 = np.where(y_pred <= -20, 1, 0)\n",
    "# [n_input:] because prediction starts from n-th row\n",
    "y_test2 = np.where(y_test[n_input:]  <= -20, 1, 0)\n",
    "\n",
    "cm = confusion_matrix(y_test2, y_pred2)\n",
    "print(\"Confusion matrix: \\n\" + str(cm))"
   ]
  },
  {
   "cell_type": "code",
   "execution_count": 13,
   "metadata": {},
   "outputs": [
    {
     "name": "stdout",
     "output_type": "stream",
     "text": [
      "              precision    recall  f1-score   support\n",
      "\n",
      "           0       0.95      0.97      0.96    124644\n",
      "           1       0.88      0.77      0.82     30609\n",
      "\n",
      "    accuracy                           0.93    155253\n",
      "   macro avg       0.91      0.87      0.89    155253\n",
      "weighted avg       0.93      0.93      0.93    155253\n",
      "\n"
     ]
    }
   ],
   "source": [
    "print(classification_report(y_test2, y_pred2))"
   ]
  },
  {
   "cell_type": "code",
   "execution_count": 14,
   "metadata": {},
   "outputs": [],
   "source": [
    "df = pd.DataFrame(data={\"time\": test['time1'][n_input:],\"y_true\": y_test[n_input:].reshape(-1) , \"y_predict\": y_pred.reshape(-1)})"
   ]
  },
  {
   "cell_type": "code",
   "execution_count": 15,
   "metadata": {},
   "outputs": [
    {
     "data": {
      "text/html": [
       "<div>\n",
       "<style scoped>\n",
       "    .dataframe tbody tr th:only-of-type {\n",
       "        vertical-align: middle;\n",
       "    }\n",
       "\n",
       "    .dataframe tbody tr th {\n",
       "        vertical-align: top;\n",
       "    }\n",
       "\n",
       "    .dataframe thead th {\n",
       "        text-align: right;\n",
       "    }\n",
       "</style>\n",
       "<table border=\"1\" class=\"dataframe\">\n",
       "  <thead>\n",
       "    <tr style=\"text-align: right;\">\n",
       "      <th></th>\n",
       "      <th>time</th>\n",
       "      <th>y_true</th>\n",
       "      <th>y_predict</th>\n",
       "    </tr>\n",
       "  </thead>\n",
       "  <tbody>\n",
       "    <tr>\n",
       "      <th>6</th>\n",
       "      <td>2004-07-22 04:00:00</td>\n",
       "      <td>4.0</td>\n",
       "      <td>8.157260</td>\n",
       "    </tr>\n",
       "    <tr>\n",
       "      <th>7</th>\n",
       "      <td>2004-07-22 05:00:00</td>\n",
       "      <td>7.0</td>\n",
       "      <td>10.023378</td>\n",
       "    </tr>\n",
       "    <tr>\n",
       "      <th>8</th>\n",
       "      <td>2004-07-22 06:00:00</td>\n",
       "      <td>10.0</td>\n",
       "      <td>13.206307</td>\n",
       "    </tr>\n",
       "    <tr>\n",
       "      <th>9</th>\n",
       "      <td>2004-07-22 07:00:00</td>\n",
       "      <td>13.0</td>\n",
       "      <td>11.871322</td>\n",
       "    </tr>\n",
       "    <tr>\n",
       "      <th>10</th>\n",
       "      <td>2004-07-22 08:00:00</td>\n",
       "      <td>16.0</td>\n",
       "      <td>11.009330</td>\n",
       "    </tr>\n",
       "    <tr>\n",
       "      <th>...</th>\n",
       "      <td>...</td>\n",
       "      <td>...</td>\n",
       "      <td>...</td>\n",
       "    </tr>\n",
       "    <tr>\n",
       "      <th>155254</th>\n",
       "      <td>2022-04-28 20:00:00</td>\n",
       "      <td>-22.0</td>\n",
       "      <td>-15.569323</td>\n",
       "    </tr>\n",
       "    <tr>\n",
       "      <th>155255</th>\n",
       "      <td>2022-04-28 21:00:00</td>\n",
       "      <td>-20.0</td>\n",
       "      <td>-16.875343</td>\n",
       "    </tr>\n",
       "    <tr>\n",
       "      <th>155256</th>\n",
       "      <td>2022-04-28 22:00:00</td>\n",
       "      <td>-15.0</td>\n",
       "      <td>-14.237910</td>\n",
       "    </tr>\n",
       "    <tr>\n",
       "      <th>155257</th>\n",
       "      <td>2022-04-28 23:00:00</td>\n",
       "      <td>-15.0</td>\n",
       "      <td>-18.894482</td>\n",
       "    </tr>\n",
       "    <tr>\n",
       "      <th>155258</th>\n",
       "      <td>2022-04-29 00:00:00</td>\n",
       "      <td>-13.0</td>\n",
       "      <td>-21.831478</td>\n",
       "    </tr>\n",
       "  </tbody>\n",
       "</table>\n",
       "<p>155253 rows × 3 columns</p>\n",
       "</div>"
      ],
      "text/plain": [
       "                      time  y_true  y_predict\n",
       "6      2004-07-22 04:00:00     4.0   8.157260\n",
       "7      2004-07-22 05:00:00     7.0  10.023378\n",
       "8      2004-07-22 06:00:00    10.0  13.206307\n",
       "9      2004-07-22 07:00:00    13.0  11.871322\n",
       "10     2004-07-22 08:00:00    16.0  11.009330\n",
       "...                    ...     ...        ...\n",
       "155254 2022-04-28 20:00:00   -22.0 -15.569323\n",
       "155255 2022-04-28 21:00:00   -20.0 -16.875343\n",
       "155256 2022-04-28 22:00:00   -15.0 -14.237910\n",
       "155257 2022-04-28 23:00:00   -15.0 -18.894482\n",
       "155258 2022-04-29 00:00:00   -13.0 -21.831478\n",
       "\n",
       "[155253 rows x 3 columns]"
      ]
     },
     "execution_count": 15,
     "metadata": {},
     "output_type": "execute_result"
    }
   ],
   "source": [
    "df"
   ]
  },
  {
   "cell_type": "code",
   "execution_count": 16,
   "metadata": {},
   "outputs": [
    {
     "data": {
      "text/html": [
       "<div>\n",
       "<style scoped>\n",
       "    .dataframe tbody tr th:only-of-type {\n",
       "        vertical-align: middle;\n",
       "    }\n",
       "\n",
       "    .dataframe tbody tr th {\n",
       "        vertical-align: top;\n",
       "    }\n",
       "\n",
       "    .dataframe thead th {\n",
       "        text-align: right;\n",
       "    }\n",
       "</style>\n",
       "<table border=\"1\" class=\"dataframe\">\n",
       "  <thead>\n",
       "    <tr style=\"text-align: right;\">\n",
       "      <th></th>\n",
       "      <th>y_true</th>\n",
       "      <th>y_predict</th>\n",
       "    </tr>\n",
       "  </thead>\n",
       "  <tbody>\n",
       "    <tr>\n",
       "      <th>count</th>\n",
       "      <td>155253.000000</td>\n",
       "      <td>155253.000000</td>\n",
       "    </tr>\n",
       "    <tr>\n",
       "      <th>mean</th>\n",
       "      <td>-9.816500</td>\n",
       "      <td>-9.725809</td>\n",
       "    </tr>\n",
       "    <tr>\n",
       "      <th>std</th>\n",
       "      <td>16.339109</td>\n",
       "      <td>14.143353</td>\n",
       "    </tr>\n",
       "    <tr>\n",
       "      <th>min</th>\n",
       "      <td>-374.000000</td>\n",
       "      <td>-233.840073</td>\n",
       "    </tr>\n",
       "    <tr>\n",
       "      <th>25%</th>\n",
       "      <td>-16.000000</td>\n",
       "      <td>-15.708301</td>\n",
       "    </tr>\n",
       "    <tr>\n",
       "      <th>50%</th>\n",
       "      <td>-7.000000</td>\n",
       "      <td>-7.331248</td>\n",
       "    </tr>\n",
       "    <tr>\n",
       "      <th>75%</th>\n",
       "      <td>0.000000</td>\n",
       "      <td>-0.779699</td>\n",
       "    </tr>\n",
       "    <tr>\n",
       "      <th>max</th>\n",
       "      <td>77.000000</td>\n",
       "      <td>34.005970</td>\n",
       "    </tr>\n",
       "  </tbody>\n",
       "</table>\n",
       "</div>"
      ],
      "text/plain": [
       "              y_true      y_predict\n",
       "count  155253.000000  155253.000000\n",
       "mean       -9.816500      -9.725809\n",
       "std        16.339109      14.143353\n",
       "min      -374.000000    -233.840073\n",
       "25%       -16.000000     -15.708301\n",
       "50%        -7.000000      -7.331248\n",
       "75%         0.000000      -0.779699\n",
       "max        77.000000      34.005970"
      ]
     },
     "execution_count": 16,
     "metadata": {},
     "output_type": "execute_result"
    }
   ],
   "source": [
    "df.describe()"
   ]
  },
  {
   "cell_type": "code",
   "execution_count": 17,
   "metadata": {},
   "outputs": [
    {
     "data": {
      "text/plain": [
       "<AxesSubplot: >"
      ]
     },
     "execution_count": 17,
     "metadata": {},
     "output_type": "execute_result"
    },
    {
     "data": {
      "image/png": "[encoded data removed]",
      "text/plain": [
       "<Figure size 640x480 with 1 Axes>"
      ]
     },
     "metadata": {},
     "output_type": "display_data"
    }
   ],
   "source": [
    "df[\"y_true\"].hist(bins=100)"
   ]
  },
  {
   "cell_type": "code",
   "execution_count": 18,
   "metadata": {},
   "outputs": [
    {
     "data": {
      "text/plain": [
       "<AxesSubplot: >"
      ]
     },
     "execution_count": 18,
     "metadata": {},
     "output_type": "execute_result"
    },
    {
     "data": {
      "image/png": "[encoded data removed]",
      "text/plain": [
       "<Figure size 640x480 with 1 Axes>"
      ]
     },
     "metadata": {},
     "output_type": "display_data"
    }
   ],
   "source": [
    "df[\"y_predict\"].hist(bins=100)"
   ]
  },
  {
   "cell_type": "code",
   "execution_count": 19,
   "metadata": {},
   "outputs": [
    {
     "data": {
      "image/png": "[encoded data removed]",
      "text/plain": [
       "<Figure size 640x480 with 1 Axes>"
      ]
     },
     "metadata": {},
     "output_type": "display_data"
    }
   ],
   "source": [
    "plt.figure()\n",
    "plt.title('Predicting the change in DST Index')\n",
    "plt.plot(df['time'],df['y_true'], label='Skutočné hodnoty')\n",
    "plt.plot(df['time'],df['y_predict'], label='Predikované hodnoty')\n",
    "plt.legend()\n",
    "plt.gcf().autofmt_xdate()\n",
    "plt.grid(True)"
   ]
  },
  {
   "cell_type": "code",
   "execution_count": 20,
   "metadata": {},
   "outputs": [],
   "source": [
    "df.to_csv('predikcie_6_8_prid_atr.csv')"
   ]
  },
  {
   "cell_type": "code",
   "execution_count": 21,
   "metadata": {},
   "outputs": [
    {
     "name": "stdout",
     "output_type": "stream",
     "text": [
      "Confusion matrix: \n",
      "[[121446   3198]\n",
      " [  7049  23560]]\n"
     ]
    }
   ],
   "source": [
    "# confusion matrix\n",
    "# TN FP\n",
    "# FN TP\n",
    "\n",
    "y_pred2 = np.where(y_pred <= -20, 1, 0)\n",
    "# [n_input:] because prediction starts from n-th row\n",
    "y_test2 = np.where(y_test[n_input:]  <= -20, 1, 0)\n",
    "\n",
    "cm = confusion_matrix(y_test2, y_pred2)\n",
    "print(\"Confusion matrix: \\n\" + str(cm))"
   ]
  },
  {
   "cell_type": "code",
   "execution_count": 22,
   "metadata": {},
   "outputs": [
    {
     "name": "stdout",
     "output_type": "stream",
     "text": [
      "121446\n",
      "3198\n",
      "7049\n",
      "23560\n"
     ]
    }
   ],
   "source": [
    "TN = cm[0,0] \n",
    "print(TN)\n",
    "FP = cm[0,1]\n",
    "print(FP)\n",
    "FN = cm[1,0] \n",
    "print(FN)\n",
    "TP = cm[1,1] \n",
    "print(TP)"
   ]
  },
  {
   "cell_type": "code",
   "execution_count": 23,
   "metadata": {},
   "outputs": [
    {
     "name": "stdout",
     "output_type": "stream",
     "text": [
      "TN=121446\n",
      "FP=3198\n",
      "FN=7049\n",
      "TP=23560\n",
      "TPR=0.7697082557417753\n",
      "TNR=0.9743429286608261\n",
      "PPV=0.8804843411316242\n",
      "NPV=0.9451418343126192\n",
      "FPR=0.025657071339173967\n",
      "FNR=0.2302917442582247\n",
      "FDR=0.11951565886837581\n",
      "ACC=0.9339980547879912\n",
      "AUC=0.8720255922013007\n",
      "MCC=0.7837781151021501\n"
     ]
    }
   ],
   "source": [
    "from sklearn.metrics import *\n",
    "TN = cm[0,0] \n",
    "print(\"TN={}\".format(TN))\n",
    "FP = cm[0,1]\n",
    "print(\"FP={}\".format(FP))\n",
    "FN = cm[1,0] \n",
    "print(\"FN={}\".format(FN))\n",
    "TP = cm[1,1] \n",
    "print(\"TP={}\".format(TP))\n",
    "# Sensitivity, hit rate, recall, or true positive rate\n",
    "TPR = TP/(TP+FN)\n",
    "print(\"TPR={}\".format(TPR))\n",
    "# Specificity or true negative rate\n",
    "TNR = TN/(TN+FP)\n",
    "print(\"TNR={}\".format(TNR))\n",
    "# Precision or positive predictive value\n",
    "PPV = TP/(TP+FP)\n",
    "print(\"PPV={}\".format(PPV))\n",
    "# Negative predictive value\n",
    "NPV = TN/(TN+FN)\n",
    "print(\"NPV={}\".format(NPV))\n",
    "# Fall out or false positive rate\n",
    "FPR = FP/(FP+TN)\n",
    "print(\"FPR={}\".format(FPR))\n",
    "# False negative rate\n",
    "FNR = FN/(TP+FN)\n",
    "print(\"FNR={}\".format(FNR))\n",
    "# False discovery rate\n",
    "FDR = FP/(TP+FP)\n",
    "print(\"FDR={}\".format(FDR))\n",
    "# Overall accuracy\n",
    "ACC = (TP+TN)/(TP+FP+FN+TN)\n",
    "print(\"ACC={}\".format(ACC))\n",
    "fpr, tpr, threshold = roc_curve(y_test2, y_pred2)\n",
    "AUC = auc(fpr, tpr)\n",
    "print(\"AUC={}\".format(AUC))\n",
    "MCC = matthews_corrcoef(y_test2, y_pred2)\n",
    "print(\"MCC={}\".format(MCC))"
   ]
  },
  {
   "cell_type": "code",
   "execution_count": null,
   "metadata": {},
   "outputs": [],
   "source": []
  }
 ],
 "metadata": {
  "kernelspec": {
   "display_name": "Python 3 (ipykernel)",
   "language": "python",
   "name": "python3"
  },
  "language_info": {
   "codemirror_mode": {
    "name": "ipython",
    "version": 3
   },
   "file_extension": ".py",
   "mimetype": "text/x-python",
   "name": "python",
   "nbconvert_exporter": "python",
   "pygments_lexer": "ipython3",
   "version": "3.10.6"
  }
 },
 "nbformat": 4,
 "nbformat_minor": 4
}
