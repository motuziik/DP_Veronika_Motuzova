{
 "cells": [
  {
   "cell_type": "markdown",
   "metadata": {},
   "source": [
    "# Trénovanie modelu na základe DST indexu, F10_indexu a BZ_GSM 4h dopredu 6 dozadu\n",
    "Súbor: 6_4_pridane_atr.ipynb\n",
    "\n",
    "Program: Hospodárska informatika\n",
    "\n",
    "Vypracovala: Bc. Veronika Motúzová\n",
    "\n",
    "Diplomová práca: : Predikcia geomagnetickych búrok pomocou hlbokého učenia\n",
    "\n",
    "Vedúci diplomovej práce: doc. Ing. Peter Butka, PhD.\n",
    "\n",
    "Konzultanti: Ing. Viera Maslej Krešňáková, PhD., RNDr. Šimon Mackovjak, PhD. "
   ]
  },
  {
   "cell_type": "markdown",
   "metadata": {},
   "source": [
    "### Inštalácia knižníc"
   ]
  },
  {
   "cell_type": "code",
   "execution_count": null,
   "metadata": {
    "tags": []
   },
   "outputs": [
    {
     "name": "stdout",
     "output_type": "stream",
     "text": [
      "Collecting pyarrow\n",
      "  Downloading pyarrow-11.0.0-cp310-cp310-manylinux_2_17_x86_64.manylinux2014_x86_64.whl (34.9 MB)\n",
      "\u001b[2K     \u001b[90m━━━━━━━━━━━━━━━━━━━━━━━━━━━━━━━━━━━━━━━━\u001b[0m \u001b[32m34.9/34.9 MB\u001b[0m \u001b[31m32.9 MB/s\u001b[0m eta \u001b[36m0:00:00\u001b[0m00:01\u001b[0m00:01\u001b[0m\n",
      "\u001b[?25hRequirement already satisfied: numpy>=1.16.6 in /opt/conda/lib/python3.10/site-packages (from pyarrow) (1.23.5)\n",
      "Installing collected packages: pyarrow\n",
      "Successfully installed pyarrow-11.0.0\n",
      "Requirement already satisfied: keras in /opt/conda/lib/python3.10/site-packages (2.9.0)\n"
     ]
    }
   ],
   "source": [
    "!pip install pyarrow\n",
    "!pip install keras\n",
    "!pip install --upgrade tensorflow\n",
    "!pip install --upgrade tensorflow-gpu"
   ]
  },
  {
   "cell_type": "markdown",
   "metadata": {},
   "source": [
    "### Kontrola kapacity servera"
   ]
  },
  {
   "cell_type": "code",
   "execution_count": 1,
   "metadata": {
    "tags": []
   },
   "outputs": [
    {
     "name": "stdout",
     "output_type": "stream",
     "text": [
      "Tue Mar 14 00:36:07 2023       \n",
      "+-----------------------------------------------------------------------------+\n",
      "| NVIDIA-SMI 515.86.01    Driver Version: 515.86.01    CUDA Version: 11.7     |\n",
      "|-------------------------------+----------------------+----------------------+\n",
      "| GPU  Name        Persistence-M| Bus-Id        Disp.A | Volatile Uncorr. ECC |\n",
      "| Fan  Temp  Perf  Pwr:Usage/Cap|         Memory-Usage | GPU-Util  Compute M. |\n",
      "|                               |                      |               MIG M. |\n",
      "|===============================+======================+======================|\n",
      "|   0  Quadro RTX 4000     Off  | 00000000:8B:00.0 Off |                  N/A |\n",
      "| 30%   31C    P8     1W / 125W |    912MiB /  8192MiB |      0%      Default |\n",
      "|                               |                      |                  N/A |\n",
      "+-------------------------------+----------------------+----------------------+\n",
      "                                                                               \n",
      "+-----------------------------------------------------------------------------+\n",
      "| Processes:                                                                  |\n",
      "|  GPU   GI   CI        PID   Type   Process name                  GPU Memory |\n",
      "|        ID   ID                                                   Usage      |\n",
      "|=============================================================================|\n",
      "+-----------------------------------------------------------------------------+\n"
     ]
    }
   ],
   "source": [
    "!nvidia-smi"
   ]
  },
  {
   "cell_type": "markdown",
   "metadata": {},
   "source": [
    "### Import knižníc"
   ]
  },
  {
   "cell_type": "code",
   "execution_count": 2,
   "metadata": {
    "tags": []
   },
   "outputs": [],
   "source": [
    "import pandas as pd\n",
    "import numpy as np\n",
    "from tensorflow import keras\n",
    "import matplotlib.pyplot as plt\n",
    "from sklearn.preprocessing import MinMaxScaler, StandardScaler\n",
    "from pandas.plotting import register_matplotlib_converters\n",
    "register_matplotlib_converters()\n",
    "import seaborn as sns\n",
    "\n",
    "from keras.preprocessing.sequence import TimeseriesGenerator\n",
    "from keras.models import Sequential\n",
    "\n",
    "from keras.layers import Dense, Activation, Dropout, Input, Conv1D, LSTM, MaxPooling1D, Flatten, TimeDistributed, Bidirectional\n",
    "from tensorflow.keras.callbacks import ModelCheckpoint, EarlyStopping\n",
    "from keras.models import Model\n",
    "\n",
    "\n",
    "from scipy.special import expit, logit\n",
    "\n",
    "from sklearn.metrics import confusion_matrix, classification_report, matthews_corrcoef"
   ]
  },
  {
   "cell_type": "markdown",
   "metadata": {},
   "source": [
    "### Načitanie dát, odstránenie na hodnôt, určenie predikovaného atribútu"
   ]
  },
  {
   "cell_type": "code",
   "execution_count": 4,
   "metadata": {},
   "outputs": [],
   "source": [
    "train = pd.read_csv('train_omni.csv')\n",
    "test = pd.read_csv('test_omni.csv')\n",
    "features = ['time1',\n",
    "           'DST',\n",
    "            'F10_INDEX',\n",
    "            'BZ_GSM',\n",
    "            'DST+4']\n",
    "test = test[features]\n",
    "train = train[features]\n",
    "train = train.dropna()\n",
    "train['time1']=pd.to_datetime(train['time1'])\n",
    "test['time1']=pd.to_datetime(test['time1'])\n",
    "predicted_label = 'DST+4'\n",
    "predicators = ['DST',\n",
    "            'F10_INDEX',\n",
    "            'BZ_GSM']\n",
    "\n",
    "y_col='DST+4'\n",
    "valid_size = int(len(train) * 0.2)\n",
    "valid = train.iloc[-valid_size:,:].copy()\n",
    "train = train.iloc[:-valid_size,:].copy()\n",
    "\n",
    "y_train = train[y_col].values.copy()\n",
    "X_train = train[predicators].values.copy()\n",
    "y_val = valid[y_col].values.copy()\n",
    "X_val = valid[predicators].values.copy()\n",
    "y_test = test[y_col].values.copy()\n",
    "X_test = test[predicators].values.copy()"
   ]
  },
  {
   "cell_type": "code",
   "execution_count": 4,
   "metadata": {},
   "outputs": [
    {
     "data": {
      "image/png": "[encoded data removed]",
      "text/plain": [
       "<Figure size 1500x900 with 1 Axes>"
      ]
     },
     "metadata": {},
     "output_type": "display_data"
    }
   ],
   "source": [
    "import matplotlib.pyplot as plt\n",
    "from pandas.plotting import register_matplotlib_converters\n",
    "%matplotlib inline\n",
    "register_matplotlib_converters()\n",
    "\n",
    "plt.rcParams['figure.figsize'] = [15, 9]\n",
    "plt.figure()\n",
    "plt.title(\"DST index (training/validation/test data)\")\n",
    "plt.plot(train['time1'],train['DST+2'],label='train')\n",
    "plt.plot(valid['time1'],valid['DST+2'],label='validation')\n",
    "plt.plot(test['time1'],test['DST+2'],label='test')\n",
    "plt.legend();"
   ]
  },
  {
   "cell_type": "code",
   "execution_count": 5,
   "metadata": {},
   "outputs": [],
   "source": [
    "# set batch, n_input, n_features\n",
    "\n",
    "n_input = 6  # how many samples/rows/timesteps to look in the past in order to forecast the next sample\n",
    "n_features= len(X_train)  # how many predictors/Xs/features we have to predict y\n",
    "b_size = 256  # Number of timeseries samples in each batch\n",
    "\n",
    "train_generator = TimeseriesGenerator(X_train, y_train, length=n_input, batch_size=b_size)\n",
    "val_generator = TimeseriesGenerator(X_val, y_val, length=n_input, batch_size=b_size)\n",
    "test_generator = TimeseriesGenerator(X_test, y_test, length=n_input, batch_size=256)"
   ]
  },
  {
   "cell_type": "code",
   "execution_count": 6,
   "metadata": {},
   "outputs": [
    {
     "name": "stdout",
     "output_type": "stream",
     "text": [
      "Počet batchov:  753\n",
      "Každý batch má features (X zložku) a labels (y zložku):  2\n",
      "Dĺžka X zložky batchu:  256\n",
      "Dĺžka y zložky batchu (počet meraní v batchi):  256\n",
      "Počet riadkov braných do úvahy pre jedno meranie (koľko sa pozerá dozadu):  6\n"
     ]
    }
   ],
   "source": [
    "print(\"Počet batchov: \", len(train_generator))\n",
    "print(\"Každý batch má features (X zložku) a labels (y zložku): \", len(train_generator[0]))\n",
    "print(\"Dĺžka X zložky batchu: \", len(train_generator[0][0]))\n",
    "print(\"Dĺžka y zložky batchu (počet meraní v batchi): \",len(train_generator[0][1]))\n",
    "print(\"Počet riadkov braných do úvahy pre jedno meranie (koľko sa pozerá dozadu): \", len(train_generator[0][0][0]))"
   ]
  },
  {
   "cell_type": "code",
   "execution_count": 7,
   "metadata": {},
   "outputs": [
    {
     "name": "stdout",
     "output_type": "stream",
     "text": [
      "WARNING:tensorflow:Layer lstm will not use cuDNN kernels since it doesn't meet the criteria. It will use a generic GPU kernel as fallback when running on GPU.\n",
      "WARNING:tensorflow:Layer lstm will not use cuDNN kernels since it doesn't meet the criteria. It will use a generic GPU kernel as fallback when running on GPU.\n",
      "WARNING:tensorflow:Layer lstm will not use cuDNN kernels since it doesn't meet the criteria. It will use a generic GPU kernel as fallback when running on GPU.\n"
     ]
    },
    {
     "name": "stderr",
     "output_type": "stream",
     "text": [
      "2023-03-14 00:36:47.228891: I tensorflow/core/common_runtime/gpu/gpu_device.cc:1532] Created device /job:localhost/replica:0/task:0/device:GPU:0 with 5765 MB memory:  -> device: 0, name: Quadro RTX 4000, pci bus id: 0000:8b:00.0, compute capability: 7.5\n"
     ]
    },
    {
     "name": "stdout",
     "output_type": "stream",
     "text": [
      "Model: \"model\"\n",
      "_________________________________________________________________\n",
      " Layer (type)                Output Shape              Param #   \n",
      "=================================================================\n",
      " input_1 (InputLayer)        [(None, 6, 3)]            0         \n",
      "                                                                 \n",
      " bidirectional (Bidirectiona  (None, 6, 256)           135168    \n",
      " l)                                                              \n",
      "                                                                 \n",
      " lstm_1 (LSTM)               (None, 6, 128)            197120    \n",
      "                                                                 \n",
      " time_distributed (TimeDistr  (None, 6, 1)             129       \n",
      " ibuted)                                                         \n",
      "                                                                 \n",
      " flatten (Flatten)           (None, 6)                 0         \n",
      "                                                                 \n",
      " dense_1 (Dense)             (None, 1)                 7         \n",
      "                                                                 \n",
      "=================================================================\n",
      "Total params: 332,424\n",
      "Trainable params: 332,424\n",
      "Non-trainable params: 0\n",
      "_________________________________________________________________\n",
      "None\n"
     ]
    }
   ],
   "source": [
    "inputs = Input(shape=(6,3)) #(kolko hodinove je okno, kolko je features v train)\n",
    "c = Bidirectional((LSTM(128, input_shape=(X_train.shape[0], X_train.shape[1]), return_sequences=True, dropout=0.1,recurrent_dropout=0.1)))(inputs)\n",
    "c = LSTM(128, input_shape=(X_train.shape[0], X_train.shape[1]), return_sequences=True)(c)\n",
    "c = TimeDistributed(Dense(1, activation='linear'))(c)\n",
    "output = Flatten()(c)\n",
    "output = Dense(1, activation='linear')(output)\n",
    "model = Model(inputs=inputs, outputs=output)\n",
    "model.compile(loss='mse', optimizer='adam', metrics=[\"mae\"])\n",
    "print(model.summary())"
   ]
  },
  {
   "cell_type": "code",
   "execution_count": 8,
   "metadata": {
    "tags": []
   },
   "outputs": [
    {
     "name": "stdout",
     "output_type": "stream",
     "text": [
      "WARNING:tensorflow:Layer lstm_2 will not use cuDNN kernels since it doesn't meet the criteria. It will use a generic GPU kernel as fallback when running on GPU.\n",
      "WARNING:tensorflow:Layer lstm_2 will not use cuDNN kernels since it doesn't meet the criteria. It will use a generic GPU kernel as fallback when running on GPU.\n",
      "WARNING:tensorflow:Layer lstm_2 will not use cuDNN kernels since it doesn't meet the criteria. It will use a generic GPU kernel as fallback when running on GPU.\n",
      "Model: \"model_1\"\n",
      "_________________________________________________________________\n",
      " Layer (type)                Output Shape              Param #   \n",
      "=================================================================\n",
      " input_2 (InputLayer)        [(None, 6, 1)]            0         \n",
      "                                                                 \n",
      " bidirectional_1 (Bidirectio  (None, 256)              133120    \n",
      " nal)                                                            \n",
      "                                                                 \n",
      " dense_2 (Dense)             (None, 64)                16448     \n",
      "                                                                 \n",
      " dropout (Dropout)           (None, 64)                0         \n",
      "                                                                 \n",
      " dense_3 (Dense)             (None, 32)                2080      \n",
      "                                                                 \n",
      " dense_4 (Dense)             (None, 1)                 33        \n",
      "                                                                 \n",
      "=================================================================\n",
      "Total params: 151,681\n",
      "Trainable params: 151,681\n",
      "Non-trainable params: 0\n",
      "_________________________________________________________________\n",
      "None\n"
     ]
    }
   ],
   "source": [
    "inputs = Input(shape=(n_input,1))\n",
    "b = Conv1D(128, kernel_size = 4, padding = \"same\")(inputs)\n",
    "b = Bidirectional(LSTM(128, dropout=0.1,recurrent_dropout=0.1))(inputs)\n",
    "b = Dense(64, activation='relu')(b)\n",
    "b = Dropout(0.2)(b)\n",
    "x = Dense(32, activation='relu')(b)\n",
    "output = Dense(1, activation='linear')(x)\n",
    "model = Model(inputs=inputs, outputs=output)\n",
    "model.compile(loss='mse', optimizer='adam', metrics=[\"mae\"])\n",
    "print(model.summary())"
   ]
  },
  {
   "cell_type": "code",
   "execution_count": 88,
   "metadata": {
    "collapsed": true,
    "jupyter": {
     "outputs_hidden": true,
     "source_hidden": true
    },
    "tags": []
   },
   "outputs": [
    {
     "name": "stdout",
     "output_type": "stream",
     "text": [
      "WARNING:tensorflow:Layer lstm_9 will not use cuDNN kernels since it doesn't meet the criteria. It will use a generic GPU kernel as fallback when running on GPU.\n",
      "WARNING:tensorflow:Layer lstm_9 will not use cuDNN kernels since it doesn't meet the criteria. It will use a generic GPU kernel as fallback when running on GPU.\n",
      "WARNING:tensorflow:Layer lstm_9 will not use cuDNN kernels since it doesn't meet the criteria. It will use a generic GPU kernel as fallback when running on GPU.\n",
      "Model: \"model_6\"\n",
      "_________________________________________________________________\n",
      " Layer (type)                Output Shape              Param #   \n",
      "=================================================================\n",
      " input_7 (InputLayer)        [(None, 6, 3)]            0         \n",
      "                                                                 \n",
      " bidirectional_6 (Bidirectio  (None, 6, 256)           135168    \n",
      " nal)                                                            \n",
      "                                                                 \n",
      " lstm_10 (LSTM)              (None, 6, 128)            197120    \n",
      "                                                                 \n",
      " time_distributed_3 (TimeDis  (None, 6, 3)             387       \n",
      " tributed)                                                       \n",
      "                                                                 \n",
      " flatten_3 (Flatten)         (None, 18)                0         \n",
      "                                                                 \n",
      " dense_16 (Dense)            (None, 3)                 57        \n",
      "                                                                 \n",
      "=================================================================\n",
      "Total params: 332,732\n",
      "Trainable params: 332,732\n",
      "Non-trainable params: 0\n",
      "_________________________________________________________________\n",
      "None\n"
     ]
    }
   ],
   "source": [
    "inputs = Input(shape=(6,3)) #(kolko hodinove je okno, kolko je features v train)\n",
    "c = Bidirectional(LSTM(128, return_sequences=True, dropout=0.1,recurrent_dropout=0.1))(inputs)\n",
    "c = LSTM(128, return_sequences=True)(c)\n",
    "c = TimeDistributed(Dense(3, activation='linear'))(c)\n",
    "output = Flatten()(c)\n",
    "output = Dense(3, activation='linear')(output)\n",
    "model = Model(inputs=inputs, outputs=output)\n",
    "model.compile(loss='mse', optimizer='adam', metrics=[\"mae\"])\n",
    "print(model.summary())"
   ]
  },
  {
   "cell_type": "code",
   "execution_count": 8,
   "metadata": {},
   "outputs": [],
   "source": [
    "# callbacks\n",
    "saved_model = \"6_4_pridane_atr.hdf5\"\n",
    "checkpoint = ModelCheckpoint(saved_model, monitor='val_mae', verbose=1, save_best_only=True, mode='min')\n",
    "early = EarlyStopping(monitor=\"val_mae\", mode=\"min\", patience=25)\n",
    "callbacks_list = [checkpoint, early]"
   ]
  },
  {
   "cell_type": "code",
   "execution_count": 9,
   "metadata": {},
   "outputs": [
    {
     "name": "stdout",
     "output_type": "stream",
     "text": [
      "Epoch 1/20\n"
     ]
    },
    {
     "name": "stderr",
     "output_type": "stream",
     "text": [
      "2023-03-14 00:37:04.907180: I tensorflow/stream_executor/cuda/cuda_dnn.cc:384] Loaded cuDNN version 8201\n"
     ]
    },
    {
     "name": "stdout",
     "output_type": "stream",
     "text": [
      "753/753 [==============================] - ETA: 0s - loss: 130.5818 - mae: 5.1940\n",
      "Epoch 1: val_mae improved from inf to 4.41355, saving model to 6_4_pridane_atr.hdf5\n",
      "753/753 [==============================] - 51s 59ms/step - loss: 130.5818 - mae: 5.1940 - val_loss: 115.4003 - val_mae: 4.4136\n",
      "Epoch 2/20\n",
      "753/753 [==============================] - ETA: 0s - loss: 48.8325 - mae: 3.4466\n",
      "Epoch 2: val_mae improved from 4.41355 to 3.20992, saving model to 6_4_pridane_atr.hdf5\n",
      "753/753 [==============================] - 44s 58ms/step - loss: 48.8325 - mae: 3.4466 - val_loss: 63.6462 - val_mae: 3.2099\n",
      "Epoch 3/20\n",
      "753/753 [==============================] - ETA: 0s - loss: 38.4939 - mae: 3.0834\n",
      "Epoch 3: val_mae did not improve from 3.20992\n",
      "753/753 [==============================] - 44s 58ms/step - loss: 38.4939 - mae: 3.0834 - val_loss: 60.8026 - val_mae: 3.9645\n",
      "Epoch 4/20\n",
      "752/753 [============================>.] - ETA: 0s - loss: 35.6561 - mae: 2.9888\n",
      "Epoch 4: val_mae improved from 3.20992 to 2.07194, saving model to 6_4_pridane_atr.hdf5\n",
      "753/753 [==============================] - 45s 59ms/step - loss: 35.6264 - mae: 2.9881 - val_loss: 38.4881 - val_mae: 2.0719\n",
      "Epoch 5/20\n",
      "753/753 [==============================] - ETA: 0s - loss: 32.8559 - mae: 2.7388\n",
      "Epoch 5: val_mae did not improve from 2.07194\n",
      "753/753 [==============================] - 45s 59ms/step - loss: 32.8559 - mae: 2.7388 - val_loss: 41.0717 - val_mae: 3.2973\n",
      "Epoch 6/20\n",
      "753/753 [==============================] - ETA: 0s - loss: 34.8022 - mae: 2.8966\n",
      "Epoch 6: val_mae did not improve from 2.07194\n",
      "753/753 [==============================] - 44s 59ms/step - loss: 34.8022 - mae: 2.8966 - val_loss: 32.0091 - val_mae: 2.5413\n",
      "Epoch 7/20\n",
      "753/753 [==============================] - ETA: 0s - loss: 30.1743 - mae: 2.6366\n",
      "Epoch 7: val_mae did not improve from 2.07194\n",
      "753/753 [==============================] - 44s 59ms/step - loss: 30.1743 - mae: 2.6366 - val_loss: 27.1526 - val_mae: 2.3166\n",
      "Epoch 8/20\n",
      "753/753 [==============================] - ETA: 0s - loss: 31.0075 - mae: 2.6089\n",
      "Epoch 8: val_mae did not improve from 2.07194\n",
      "753/753 [==============================] - 44s 59ms/step - loss: 31.0075 - mae: 2.6089 - val_loss: 33.5223 - val_mae: 2.1948\n",
      "Epoch 9/20\n",
      "753/753 [==============================] - ETA: 0s - loss: 28.6534 - mae: 2.5589\n",
      "Epoch 9: val_mae did not improve from 2.07194\n",
      "753/753 [==============================] - 45s 60ms/step - loss: 28.6534 - mae: 2.5589 - val_loss: 37.2128 - val_mae: 2.5785\n",
      "Epoch 10/20\n",
      "753/753 [==============================] - ETA: 0s - loss: 29.0295 - mae: 2.5397\n",
      "Epoch 10: val_mae did not improve from 2.07194\n",
      "753/753 [==============================] - 45s 59ms/step - loss: 29.0295 - mae: 2.5397 - val_loss: 30.8942 - val_mae: 2.8130\n",
      "Epoch 11/20\n",
      "753/753 [==============================] - ETA: 0s - loss: 28.0576 - mae: 2.4887\n",
      "Epoch 11: val_mae did not improve from 2.07194\n",
      "753/753 [==============================] - 44s 59ms/step - loss: 28.0576 - mae: 2.4887 - val_loss: 30.8582 - val_mae: 3.1799\n",
      "Epoch 12/20\n",
      "753/753 [==============================] - ETA: 0s - loss: 31.7868 - mae: 2.6620\n",
      "Epoch 12: val_mae did not improve from 2.07194\n",
      "753/753 [==============================] - 45s 59ms/step - loss: 31.7868 - mae: 2.6620 - val_loss: 33.2424 - val_mae: 3.7634\n",
      "Epoch 13/20\n",
      "753/753 [==============================] - ETA: 0s - loss: 28.7025 - mae: 2.5669\n",
      "Epoch 13: val_mae did not improve from 2.07194\n",
      "753/753 [==============================] - 45s 59ms/step - loss: 28.7025 - mae: 2.5669 - val_loss: 26.5598 - val_mae: 2.4664\n",
      "Epoch 14/20\n",
      "753/753 [==============================] - ETA: 0s - loss: 27.5985 - mae: 2.4429\n",
      "Epoch 14: val_mae did not improve from 2.07194\n",
      "753/753 [==============================] - 45s 60ms/step - loss: 27.5985 - mae: 2.4429 - val_loss: 25.3442 - val_mae: 2.1253\n",
      "Epoch 15/20\n",
      "753/753 [==============================] - ETA: 0s - loss: 30.1433 - mae: 2.6019\n",
      "Epoch 15: val_mae did not improve from 2.07194\n",
      "753/753 [==============================] - 44s 59ms/step - loss: 30.1433 - mae: 2.6019 - val_loss: 28.1360 - val_mae: 3.2258\n",
      "Epoch 16/20\n",
      "753/753 [==============================] - ETA: 0s - loss: 26.6611 - mae: 2.3690\n",
      "Epoch 16: val_mae did not improve from 2.07194\n",
      "753/753 [==============================] - 44s 59ms/step - loss: 26.6611 - mae: 2.3690 - val_loss: 27.7386 - val_mae: 2.7414\n",
      "Epoch 17/20\n",
      "753/753 [==============================] - ETA: 0s - loss: 26.7120 - mae: 2.3671\n",
      "Epoch 17: val_mae did not improve from 2.07194\n",
      "753/753 [==============================] - 44s 59ms/step - loss: 26.7120 - mae: 2.3671 - val_loss: 26.4536 - val_mae: 2.8839\n",
      "Epoch 18/20\n",
      "753/753 [==============================] - ETA: 0s - loss: 26.6474 - mae: 2.4315\n",
      "Epoch 18: val_mae did not improve from 2.07194\n",
      "753/753 [==============================] - 44s 59ms/step - loss: 26.6474 - mae: 2.4315 - val_loss: 35.0197 - val_mae: 2.6526\n",
      "Epoch 19/20\n",
      "753/753 [==============================] - ETA: 0s - loss: 26.8044 - mae: 2.3734\n",
      "Epoch 19: val_mae did not improve from 2.07194\n",
      "753/753 [==============================] - 44s 59ms/step - loss: 26.8044 - mae: 2.3734 - val_loss: 21.4237 - val_mae: 2.1854\n",
      "Epoch 20/20\n",
      "753/753 [==============================] - ETA: 0s - loss: 24.8843 - mae: 2.2734\n",
      "Epoch 20: val_mae did not improve from 2.07194\n",
      "753/753 [==============================] - 45s 59ms/step - loss: 24.8843 - mae: 2.2734 - val_loss: 18.4220 - val_mae: 2.1420\n"
     ]
    }
   ],
   "source": [
    "# fit\n",
    "history = model.fit(train_generator, validation_data=val_generator, epochs=20, verbose=1, callbacks = callbacks_list)"
   ]
  },
  {
   "cell_type": "code",
   "execution_count": 10,
   "metadata": {},
   "outputs": [
    {
     "name": "stdout",
     "output_type": "stream",
     "text": [
      "WARNING:tensorflow:Layer lstm will not use cuDNN kernels since it doesn't meet the criteria. It will use a generic GPU kernel as fallback when running on GPU.\n",
      "WARNING:tensorflow:Layer lstm will not use cuDNN kernels since it doesn't meet the criteria. It will use a generic GPU kernel as fallback when running on GPU.\n",
      "WARNING:tensorflow:Layer lstm will not use cuDNN kernels since it doesn't meet the criteria. It will use a generic GPU kernel as fallback when running on GPU.\n"
     ]
    }
   ],
   "source": [
    "# load best model\n",
    "model = keras.models.load_model('6_4_pridane_atr.hdf5')"
   ]
  },
  {
   "cell_type": "code",
   "execution_count": 11,
   "metadata": {},
   "outputs": [
    {
     "name": "stdout",
     "output_type": "stream",
     "text": [
      "607/607 [==============================] - 10s 14ms/step\n"
     ]
    }
   ],
   "source": [
    "# prediction\n",
    "y_pred = model.predict(test_generator)"
   ]
  },
  {
   "cell_type": "code",
   "execution_count": 12,
   "metadata": {},
   "outputs": [
    {
     "data": {
      "text/plain": [
       "array([[ 13.615775],\n",
       "       [ 13.403035],\n",
       "       [ 12.701874],\n",
       "       ...,\n",
       "       [-24.657076],\n",
       "       [-26.89945 ],\n",
       "       [-28.009188]], dtype=float32)"
      ]
     },
     "execution_count": 12,
     "metadata": {},
     "output_type": "execute_result"
    }
   ],
   "source": [
    "y_pred"
   ]
  },
  {
   "cell_type": "code",
   "execution_count": 13,
   "metadata": {},
   "outputs": [
    {
     "name": "stdout",
     "output_type": "stream",
     "text": [
      "Confusion matrix: \n",
      "[[124045    595]\n",
      " [  2703  27910]]\n"
     ]
    }
   ],
   "source": [
    "# confusion matrix\n",
    "# TN FP\n",
    "# FN TP\n",
    "\n",
    "y_pred2 = np.where(y_pred <= -20, 1, 0)\n",
    "# [n_input:] because prediction starts from n-th row\n",
    "y_test2 = np.where(y_test[n_input:]  <= -20, 1, 0)\n",
    "\n",
    "cm = confusion_matrix(y_test2, y_pred2)\n",
    "print(\"Confusion matrix: \\n\" + str(cm))"
   ]
  },
  {
   "cell_type": "code",
   "execution_count": 14,
   "metadata": {},
   "outputs": [
    {
     "name": "stdout",
     "output_type": "stream",
     "text": [
      "              precision    recall  f1-score   support\n",
      "\n",
      "           0       0.98      1.00      0.99    124640\n",
      "           1       0.98      0.91      0.94     30613\n",
      "\n",
      "    accuracy                           0.98    155253\n",
      "   macro avg       0.98      0.95      0.97    155253\n",
      "weighted avg       0.98      0.98      0.98    155253\n",
      "\n"
     ]
    }
   ],
   "source": [
    "print(classification_report(y_test2, y_pred2))"
   ]
  },
  {
   "cell_type": "code",
   "execution_count": 15,
   "metadata": {},
   "outputs": [],
   "source": [
    "df = pd.DataFrame(data={\"time\": test['time1'][n_input:],\"y_true\": y_test[n_input:].reshape(-1) , \"y_predict\": y_pred.reshape(-1)})"
   ]
  },
  {
   "cell_type": "code",
   "execution_count": 16,
   "metadata": {},
   "outputs": [
    {
     "data": {
      "text/html": [
       "<div>\n",
       "<style scoped>\n",
       "    .dataframe tbody tr th:only-of-type {\n",
       "        vertical-align: middle;\n",
       "    }\n",
       "\n",
       "    .dataframe tbody tr th {\n",
       "        vertical-align: top;\n",
       "    }\n",
       "\n",
       "    .dataframe thead th {\n",
       "        text-align: right;\n",
       "    }\n",
       "</style>\n",
       "<table border=\"1\" class=\"dataframe\">\n",
       "  <thead>\n",
       "    <tr style=\"text-align: right;\">\n",
       "      <th></th>\n",
       "      <th>time</th>\n",
       "      <th>y_true</th>\n",
       "      <th>y_predict</th>\n",
       "    </tr>\n",
       "  </thead>\n",
       "  <tbody>\n",
       "    <tr>\n",
       "      <th>6</th>\n",
       "      <td>2004-07-22 04:00:00</td>\n",
       "      <td>16.0</td>\n",
       "      <td>13.615775</td>\n",
       "    </tr>\n",
       "    <tr>\n",
       "      <th>7</th>\n",
       "      <td>2004-07-22 05:00:00</td>\n",
       "      <td>14.0</td>\n",
       "      <td>13.403035</td>\n",
       "    </tr>\n",
       "    <tr>\n",
       "      <th>8</th>\n",
       "      <td>2004-07-22 06:00:00</td>\n",
       "      <td>14.0</td>\n",
       "      <td>12.701874</td>\n",
       "    </tr>\n",
       "    <tr>\n",
       "      <th>9</th>\n",
       "      <td>2004-07-22 07:00:00</td>\n",
       "      <td>14.0</td>\n",
       "      <td>11.994748</td>\n",
       "    </tr>\n",
       "    <tr>\n",
       "      <th>10</th>\n",
       "      <td>2004-07-22 08:00:00</td>\n",
       "      <td>11.0</td>\n",
       "      <td>10.609622</td>\n",
       "    </tr>\n",
       "    <tr>\n",
       "      <th>...</th>\n",
       "      <td>...</td>\n",
       "      <td>...</td>\n",
       "      <td>...</td>\n",
       "    </tr>\n",
       "    <tr>\n",
       "      <th>155254</th>\n",
       "      <td>2022-04-28 20:00:00</td>\n",
       "      <td>-13.0</td>\n",
       "      <td>-15.761454</td>\n",
       "    </tr>\n",
       "    <tr>\n",
       "      <th>155255</th>\n",
       "      <td>2022-04-28 21:00:00</td>\n",
       "      <td>-18.0</td>\n",
       "      <td>-20.058462</td>\n",
       "    </tr>\n",
       "    <tr>\n",
       "      <th>155256</th>\n",
       "      <td>2022-04-28 22:00:00</td>\n",
       "      <td>-23.0</td>\n",
       "      <td>-24.657076</td>\n",
       "    </tr>\n",
       "    <tr>\n",
       "      <th>155257</th>\n",
       "      <td>2022-04-28 23:00:00</td>\n",
       "      <td>-26.0</td>\n",
       "      <td>-26.899450</td>\n",
       "    </tr>\n",
       "    <tr>\n",
       "      <th>155258</th>\n",
       "      <td>2022-04-29 00:00:00</td>\n",
       "      <td>-29.0</td>\n",
       "      <td>-28.009188</td>\n",
       "    </tr>\n",
       "  </tbody>\n",
       "</table>\n",
       "<p>155253 rows × 3 columns</p>\n",
       "</div>"
      ],
      "text/plain": [
       "                      time  y_true  y_predict\n",
       "6      2004-07-22 04:00:00    16.0  13.615775\n",
       "7      2004-07-22 05:00:00    14.0  13.403035\n",
       "8      2004-07-22 06:00:00    14.0  12.701874\n",
       "9      2004-07-22 07:00:00    14.0  11.994748\n",
       "10     2004-07-22 08:00:00    11.0  10.609622\n",
       "...                    ...     ...        ...\n",
       "155254 2022-04-28 20:00:00   -13.0 -15.761454\n",
       "155255 2022-04-28 21:00:00   -18.0 -20.058462\n",
       "155256 2022-04-28 22:00:00   -23.0 -24.657076\n",
       "155257 2022-04-28 23:00:00   -26.0 -26.899450\n",
       "155258 2022-04-29 00:00:00   -29.0 -28.009188\n",
       "\n",
       "[155253 rows x 3 columns]"
      ]
     },
     "execution_count": 16,
     "metadata": {},
     "output_type": "execute_result"
    }
   ],
   "source": [
    "df"
   ]
  },
  {
   "cell_type": "code",
   "execution_count": 17,
   "metadata": {},
   "outputs": [
    {
     "data": {
      "text/html": [
       "<div>\n",
       "<style scoped>\n",
       "    .dataframe tbody tr th:only-of-type {\n",
       "        vertical-align: middle;\n",
       "    }\n",
       "\n",
       "    .dataframe tbody tr th {\n",
       "        vertical-align: top;\n",
       "    }\n",
       "\n",
       "    .dataframe thead th {\n",
       "        text-align: right;\n",
       "    }\n",
       "</style>\n",
       "<table border=\"1\" class=\"dataframe\">\n",
       "  <thead>\n",
       "    <tr style=\"text-align: right;\">\n",
       "      <th></th>\n",
       "      <th>y_true</th>\n",
       "      <th>y_predict</th>\n",
       "    </tr>\n",
       "  </thead>\n",
       "  <tbody>\n",
       "    <tr>\n",
       "      <th>count</th>\n",
       "      <td>155253.000000</td>\n",
       "      <td>155253.000000</td>\n",
       "    </tr>\n",
       "    <tr>\n",
       "      <th>mean</th>\n",
       "      <td>-9.816899</td>\n",
       "      <td>-9.663615</td>\n",
       "    </tr>\n",
       "    <tr>\n",
       "      <th>std</th>\n",
       "      <td>16.339896</td>\n",
       "      <td>15.107487</td>\n",
       "    </tr>\n",
       "    <tr>\n",
       "      <th>min</th>\n",
       "      <td>-374.000000</td>\n",
       "      <td>-168.637466</td>\n",
       "    </tr>\n",
       "    <tr>\n",
       "      <th>25%</th>\n",
       "      <td>-16.000000</td>\n",
       "      <td>-16.185303</td>\n",
       "    </tr>\n",
       "    <tr>\n",
       "      <th>50%</th>\n",
       "      <td>-7.000000</td>\n",
       "      <td>-7.372213</td>\n",
       "    </tr>\n",
       "    <tr>\n",
       "      <th>75%</th>\n",
       "      <td>0.000000</td>\n",
       "      <td>-0.223096</td>\n",
       "    </tr>\n",
       "    <tr>\n",
       "      <th>max</th>\n",
       "      <td>77.000000</td>\n",
       "      <td>39.453373</td>\n",
       "    </tr>\n",
       "  </tbody>\n",
       "</table>\n",
       "</div>"
      ],
      "text/plain": [
       "              y_true      y_predict\n",
       "count  155253.000000  155253.000000\n",
       "mean       -9.816899      -9.663615\n",
       "std        16.339896      15.107487\n",
       "min      -374.000000    -168.637466\n",
       "25%       -16.000000     -16.185303\n",
       "50%        -7.000000      -7.372213\n",
       "75%         0.000000      -0.223096\n",
       "max        77.000000      39.453373"
      ]
     },
     "execution_count": 17,
     "metadata": {},
     "output_type": "execute_result"
    }
   ],
   "source": [
    "df.describe()"
   ]
  },
  {
   "cell_type": "code",
   "execution_count": 18,
   "metadata": {},
   "outputs": [
    {
     "data": {
      "text/plain": [
       "<AxesSubplot: >"
      ]
     },
     "execution_count": 18,
     "metadata": {},
     "output_type": "execute_result"
    },
    {
     "data": {
      "image/png": "[encoded data removed]",
      "text/plain": [
       "<Figure size 640x480 with 1 Axes>"
      ]
     },
     "metadata": {},
     "output_type": "display_data"
    }
   ],
   "source": [
    "df[\"y_true\"].hist(bins=100)"
   ]
  },
  {
   "cell_type": "code",
   "execution_count": 19,
   "metadata": {},
   "outputs": [
    {
     "data": {
      "text/plain": [
       "<AxesSubplot: >"
      ]
     },
     "execution_count": 19,
     "metadata": {},
     "output_type": "execute_result"
    },
    {
     "data": {
      "image/png": "[encoded data removed]",
      "text/plain": [
       "<Figure size 640x480 with 1 Axes>"
      ]
     },
     "metadata": {},
     "output_type": "display_data"
    }
   ],
   "source": [
    "df[\"y_predict\"].hist(bins=100)"
   ]
  },
  {
   "cell_type": "code",
   "execution_count": 20,
   "metadata": {},
   "outputs": [
    {
     "data": {
      "image/png": "[encoded data removed]",
      "text/plain": [
       "<Figure size 640x480 with 1 Axes>"
      ]
     },
     "metadata": {},
     "output_type": "display_data"
    }
   ],
   "source": [
    "plt.figure()\n",
    "plt.title('Predicting the change in DST Index')\n",
    "plt.plot(df['time'],df['y_true'], label='Skutočné hodnoty')\n",
    "plt.plot(df['time'],df['y_predict'], label='Predikované hodnoty')\n",
    "plt.legend()\n",
    "plt.gcf().autofmt_xdate()\n",
    "plt.grid(True)"
   ]
  },
  {
   "cell_type": "code",
   "execution_count": 21,
   "metadata": {},
   "outputs": [],
   "source": [
    "df.to_csv('predikcie_6_4_prid_atr.csv')"
   ]
  },
  {
   "cell_type": "code",
   "execution_count": 22,
   "metadata": {},
   "outputs": [
    {
     "name": "stdout",
     "output_type": "stream",
     "text": [
      "Confusion matrix: \n",
      "[[124045    595]\n",
      " [  2703  27910]]\n"
     ]
    }
   ],
   "source": [
    "# confusion matrix\n",
    "# TN FP\n",
    "# FN TP\n",
    "\n",
    "y_pred2 = np.where(y_pred <= -20, 1, 0)\n",
    "# [n_input:] because prediction starts from n-th row\n",
    "y_test2 = np.where(y_test[n_input:]  <= -20, 1, 0)\n",
    "\n",
    "cm = confusion_matrix(y_test2, y_pred2)\n",
    "print(\"Confusion matrix: \\n\" + str(cm))"
   ]
  },
  {
   "cell_type": "code",
   "execution_count": 23,
   "metadata": {},
   "outputs": [
    {
     "name": "stdout",
     "output_type": "stream",
     "text": [
      "124045\n",
      "595\n",
      "2703\n",
      "27910\n"
     ]
    }
   ],
   "source": [
    "TN = cm[0,0] \n",
    "print(TN)\n",
    "FP = cm[0,1]\n",
    "print(FP)\n",
    "FN = cm[1,0] \n",
    "print(FN)\n",
    "TP = cm[1,1] \n",
    "print(TP)"
   ]
  },
  {
   "cell_type": "code",
   "execution_count": 24,
   "metadata": {},
   "outputs": [
    {
     "name": "stdout",
     "output_type": "stream",
     "text": [
      "TN=124045\n",
      "FP=595\n",
      "FN=2703\n",
      "TP=27910\n",
      "TPR=0.9117041779636103\n",
      "TNR=0.9952262516046213\n",
      "PPV=0.9791264690405193\n",
      "NPV=0.9786742197115537\n",
      "FPR=0.00477374839537869\n",
      "FNR=0.08829582203638976\n",
      "FDR=0.02087353095948079\n",
      "ACC=0.9787572542881618\n",
      "AUC=0.9534652147841158\n",
      "MCC=0.9320185567308547\n"
     ]
    }
   ],
   "source": [
    "from sklearn.metrics import *\n",
    "TN = cm[0,0] \n",
    "print(\"TN={}\".format(TN))\n",
    "FP = cm[0,1]\n",
    "print(\"FP={}\".format(FP))\n",
    "FN = cm[1,0] \n",
    "print(\"FN={}\".format(FN))\n",
    "TP = cm[1,1] \n",
    "print(\"TP={}\".format(TP))\n",
    "# Sensitivity, hit rate, recall, or true positive rate\n",
    "TPR = TP/(TP+FN)\n",
    "print(\"TPR={}\".format(TPR))\n",
    "# Specificity or true negative rate\n",
    "TNR = TN/(TN+FP)\n",
    "print(\"TNR={}\".format(TNR))\n",
    "# Precision or positive predictive value\n",
    "PPV = TP/(TP+FP)\n",
    "print(\"PPV={}\".format(PPV))\n",
    "# Negative predictive value\n",
    "NPV = TN/(TN+FN)\n",
    "print(\"NPV={}\".format(NPV))\n",
    "# Fall out or false positive rate\n",
    "FPR = FP/(FP+TN)\n",
    "print(\"FPR={}\".format(FPR))\n",
    "# False negative rate\n",
    "FNR = FN/(TP+FN)\n",
    "print(\"FNR={}\".format(FNR))\n",
    "# False discovery rate\n",
    "FDR = FP/(TP+FP)\n",
    "print(\"FDR={}\".format(FDR))\n",
    "# Overall accuracy\n",
    "ACC = (TP+TN)/(TP+FP+FN+TN)\n",
    "print(\"ACC={}\".format(ACC))\n",
    "fpr, tpr, threshold = roc_curve(y_test2, y_pred2)\n",
    "AUC = auc(fpr, tpr)\n",
    "print(\"AUC={}\".format(AUC))\n",
    "MCC = matthews_corrcoef(y_test2, y_pred2)\n",
    "print(\"MCC={}\".format(MCC))"
   ]
  },
  {
   "cell_type": "code",
   "execution_count": null,
   "metadata": {},
   "outputs": [],
   "source": []
  }
 ],
 "metadata": {
  "kernelspec": {
   "display_name": "Python 3 (ipykernel)",
   "language": "python",
   "name": "python3"
  },
  "language_info": {
   "codemirror_mode": {
    "name": "ipython",
    "version": 3
   },
   "file_extension": ".py",
   "mimetype": "text/x-python",
   "name": "python",
   "nbconvert_exporter": "python",
   "pygments_lexer": "ipython3",
   "version": "3.10.6"
  }
 },
 "nbformat": 4,
 "nbformat_minor": 4
}
