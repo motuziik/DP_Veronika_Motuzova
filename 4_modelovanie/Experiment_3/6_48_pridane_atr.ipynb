{
 "cells": [
  {
   "cell_type": "markdown",
   "metadata": {},
   "source": [
    "# Trénovanie modelu na základe DST indexu, F10_indexu a BZ_GSM 48h dopredu 6 dozadu\n",
    "Súbor: 6_48_pridane_atr.ipynb\n",
    "\n",
    "Program: Hospodárska informatika\n",
    "\n",
    "Vypracovala: Bc. Veronika Motúzová\n",
    "\n",
    "Diplomová práca: : Predikcia geomagnetickych búrok pomocou hlbokého učenia\n",
    "\n",
    "Vedúci diplomovej práce: doc. Ing. Peter Butka, PhD.\n",
    "\n",
    "Konzultanti: Ing. Viera Maslej Krešňáková, PhD., RNDr. Šimon Mackovjak, PhD. "
   ]
  },
  {
   "cell_type": "markdown",
   "metadata": {},
   "source": [
    "### Inštalácia knižníc"
   ]
  },
  {
   "cell_type": "code",
   "execution_count": null,
   "metadata": {
    "tags": []
   },
   "outputs": [
    {
     "name": "stdout",
     "output_type": "stream",
     "text": [
      "Collecting pyarrow\n",
      "  Downloading pyarrow-11.0.0-cp310-cp310-manylinux_2_17_x86_64.manylinux2014_x86_64.whl (34.9 MB)\n",
      "\u001b[2K     \u001b[90m━━━━━━━━━━━━━━━━━━━━━━━━━━━━━━━━━━━━━━━━\u001b[0m \u001b[32m34.9/34.9 MB\u001b[0m \u001b[31m32.9 MB/s\u001b[0m eta \u001b[36m0:00:00\u001b[0m00:01\u001b[0m00:01\u001b[0m\n",
      "\u001b[?25hRequirement already satisfied: numpy>=1.16.6 in /opt/conda/lib/python3.10/site-packages (from pyarrow) (1.23.5)\n",
      "Installing collected packages: pyarrow\n",
      "Successfully installed pyarrow-11.0.0\n",
      "Requirement already satisfied: keras in /opt/conda/lib/python3.10/site-packages (2.9.0)\n"
     ]
    }
   ],
   "source": [
    "!pip install pyarrow\n",
    "!pip install keras\n",
    "!pip install --upgrade tensorflow\n",
    "!pip install --upgrade tensorflow-gpu"
   ]
  },
  {
   "cell_type": "markdown",
   "metadata": {},
   "source": [
    "### Kontrola kapacity servera"
   ]
  },
  {
   "cell_type": "code",
   "execution_count": 2,
   "metadata": {
    "tags": []
   },
   "outputs": [
    {
     "name": "stdout",
     "output_type": "stream",
     "text": [
      "Tue Mar 14 08:41:10 2023       \n",
      "+-----------------------------------------------------------------------------+\n",
      "| NVIDIA-SMI 470.161.03   Driver Version: 470.161.03   CUDA Version: 11.4     |\n",
      "|-------------------------------+----------------------+----------------------+\n",
      "| GPU  Name        Persistence-M| Bus-Id        Disp.A | Volatile Uncorr. ECC |\n",
      "| Fan  Temp  Perf  Pwr:Usage/Cap|         Memory-Usage | GPU-Util  Compute M. |\n",
      "|                               |                      |               MIG M. |\n",
      "|===============================+======================+======================|\n",
      "|   0  Tesla K40c          Off  | 00000000:01:00.0 Off |                    0 |\n",
      "| 29%   62C    P0    75W / 235W |      0MiB / 11441MiB |     66%      Default |\n",
      "|                               |                      |                  N/A |\n",
      "+-------------------------------+----------------------+----------------------+\n",
      "                                                                               \n",
      "+-----------------------------------------------------------------------------+\n",
      "| Processes:                                                                  |\n",
      "|  GPU   GI   CI        PID   Type   Process name                  GPU Memory |\n",
      "|        ID   ID                                                   Usage      |\n",
      "|=============================================================================|\n",
      "|  No running processes found                                                 |\n",
      "+-----------------------------------------------------------------------------+\n"
     ]
    }
   ],
   "source": [
    "!nvidia-smi"
   ]
  },
  {
   "cell_type": "markdown",
   "metadata": {},
   "source": [
    "### Import knižníc"
   ]
  },
  {
   "cell_type": "code",
   "execution_count": 1,
   "metadata": {
    "tags": []
   },
   "outputs": [],
   "source": [
    "import pandas as pd\n",
    "import numpy as np\n",
    "from tensorflow import keras\n",
    "import matplotlib.pyplot as plt\n",
    "from sklearn.preprocessing import MinMaxScaler, StandardScaler\n",
    "from pandas.plotting import register_matplotlib_converters\n",
    "register_matplotlib_converters()\n",
    "import seaborn as sns\n",
    "\n",
    "from keras.preprocessing.sequence import TimeseriesGenerator\n",
    "from keras.models import Sequential\n",
    "\n",
    "from keras.layers import Dense, Activation, Dropout, Input, Conv1D, LSTM, MaxPooling1D, Flatten, TimeDistributed, Bidirectional\n",
    "from tensorflow.keras.callbacks import ModelCheckpoint, EarlyStopping\n",
    "from keras.models import Model\n",
    "\n",
    "\n",
    "from scipy.special import expit, logit\n",
    "\n",
    "from sklearn.metrics import confusion_matrix, classification_report, matthews_corrcoef"
   ]
  },
  {
   "cell_type": "markdown",
   "metadata": {},
   "source": [
    "### Načitanie dát, odstránenie na hodnôt, určenie predikovaného atribútu"
   ]
  },
  {
   "cell_type": "code",
   "execution_count": 2,
   "metadata": {},
   "outputs": [],
   "source": [
    "train = pd.read_csv('train_omni.csv')\n",
    "test = pd.read_csv('test_omni.csv')\n",
    "features = ['time1',\n",
    "           'DST',\n",
    "            'F10_INDEX',\n",
    "            'BZ_GSM',\n",
    "            'DST+48']\n",
    "test = test[features]\n",
    "train = train[features]\n",
    "train = train.dropna()\n",
    "train['time1']=pd.to_datetime(train['time1'])\n",
    "test['time1']=pd.to_datetime(test['time1'])\n",
    "predicted_label = 'DST+48'\n",
    "predicators = ['DST',\n",
    "            'F10_INDEX',\n",
    "            'BZ_GSM']\n",
    "\n",
    "y_col='DST+48'\n",
    "valid_size = int(len(train) * 0.2)\n",
    "valid = train.iloc[-valid_size:,:].copy()\n",
    "train = train.iloc[:-valid_size,:].copy()\n",
    "\n",
    "y_train = train[y_col].values.copy()\n",
    "X_train = train[predicators].values.copy()\n",
    "y_val = valid[y_col].values.copy()\n",
    "X_val = valid[predicators].values.copy()\n",
    "y_test = test[y_col].values.copy()\n",
    "X_test = test[predicators].values.copy()"
   ]
  },
  {
   "cell_type": "code",
   "execution_count": 3,
   "metadata": {},
   "outputs": [],
   "source": [
    "# set batch, n_input, n_features\n",
    "\n",
    "n_input = 6  # how many samples/rows/timesteps to look in the past in order to forecast the next sample\n",
    "n_features= len(X_train)  # how many predictors/Xs/features we have to predict y\n",
    "b_size = 256  # Number of timeseries samples in each batch\n",
    "\n",
    "train_generator = TimeseriesGenerator(X_train, y_train, length=n_input, batch_size=b_size)\n",
    "val_generator = TimeseriesGenerator(X_val, y_val, length=n_input, batch_size=b_size)\n",
    "test_generator = TimeseriesGenerator(X_test, y_test, length=n_input, batch_size=256)"
   ]
  },
  {
   "cell_type": "code",
   "execution_count": 4,
   "metadata": {},
   "outputs": [
    {
     "name": "stdout",
     "output_type": "stream",
     "text": [
      "Počet batchov:  753\n",
      "Každý batch má features (X zložku) a labels (y zložku):  2\n",
      "Dĺžka X zložky batchu:  256\n",
      "Dĺžka y zložky batchu (počet meraní v batchi):  256\n",
      "Počet riadkov braných do úvahy pre jedno meranie (koľko sa pozerá dozadu):  6\n"
     ]
    }
   ],
   "source": [
    "print(\"Počet batchov: \", len(train_generator))\n",
    "print(\"Každý batch má features (X zložku) a labels (y zložku): \", len(train_generator[0]))\n",
    "print(\"Dĺžka X zložky batchu: \", len(train_generator[0][0]))\n",
    "print(\"Dĺžka y zložky batchu (počet meraní v batchi): \",len(train_generator[0][1]))\n",
    "print(\"Počet riadkov braných do úvahy pre jedno meranie (koľko sa pozerá dozadu): \", len(train_generator[0][0][0]))"
   ]
  },
  {
   "cell_type": "code",
   "execution_count": 5,
   "metadata": {},
   "outputs": [
    {
     "name": "stdout",
     "output_type": "stream",
     "text": [
      "WARNING:tensorflow:Layer lstm will not use cuDNN kernels since it doesn't meet the criteria. It will use a generic GPU kernel as fallback when running on GPU.\n",
      "WARNING:tensorflow:Layer lstm will not use cuDNN kernels since it doesn't meet the criteria. It will use a generic GPU kernel as fallback when running on GPU.\n",
      "WARNING:tensorflow:Layer lstm will not use cuDNN kernels since it doesn't meet the criteria. It will use a generic GPU kernel as fallback when running on GPU.\n"
     ]
    },
    {
     "name": "stderr",
     "output_type": "stream",
     "text": [
      "2023-03-14 08:41:57.708685: I tensorflow/core/platform/cpu_feature_guard.cc:193] This TensorFlow binary is optimized with oneAPI Deep Neural Network Library (oneDNN) to use the following CPU instructions in performance-critical operations:  AVX2 FMA\n",
      "To enable them in other operations, rebuild TensorFlow with the appropriate compiler flags.\n",
      "2023-03-14 08:41:58.204178: I tensorflow/core/common_runtime/gpu/gpu_device.cc:1532] Created device /job:localhost/replica:0/task:0/device:GPU:0 with 10787 MB memory:  -> device: 0, name: Tesla K40c, pci bus id: 0000:01:00.0, compute capability: 3.5\n"
     ]
    },
    {
     "name": "stdout",
     "output_type": "stream",
     "text": [
      "Model: \"model\"\n",
      "_________________________________________________________________\n",
      " Layer (type)                Output Shape              Param #   \n",
      "=================================================================\n",
      " input_1 (InputLayer)        [(None, 6, 3)]            0         \n",
      "                                                                 \n",
      " bidirectional (Bidirectiona  (None, 6, 256)           135168    \n",
      " l)                                                              \n",
      "                                                                 \n",
      " lstm_1 (LSTM)               (None, 6, 128)            197120    \n",
      "                                                                 \n",
      " time_distributed (TimeDistr  (None, 6, 1)             129       \n",
      " ibuted)                                                         \n",
      "                                                                 \n",
      " flatten (Flatten)           (None, 6)                 0         \n",
      "                                                                 \n",
      " dense_1 (Dense)             (None, 1)                 7         \n",
      "                                                                 \n",
      "=================================================================\n",
      "Total params: 332,424\n",
      "Trainable params: 332,424\n",
      "Non-trainable params: 0\n",
      "_________________________________________________________________\n",
      "None\n"
     ]
    }
   ],
   "source": [
    "inputs = Input(shape=(6,3)) #(kolko hodinove je okno, kolko je features v train)\n",
    "c = Bidirectional((LSTM(128, input_shape=(X_train.shape[0], X_train.shape[1]), return_sequences=True, dropout=0.1,recurrent_dropout=0.1)))(inputs)\n",
    "c = LSTM(128, input_shape=(X_train.shape[0], X_train.shape[1]), return_sequences=True)(c)\n",
    "c = TimeDistributed(Dense(1, activation='linear'))(c)\n",
    "output = Flatten()(c)\n",
    "output = Dense(1, activation='linear')(output)\n",
    "model = Model(inputs=inputs, outputs=output)\n",
    "model.compile(loss='mse', optimizer='adam', metrics=[\"mae\"])\n",
    "print(model.summary())"
   ]
  },
  {
   "cell_type": "code",
   "execution_count": 6,
   "metadata": {
    "jupyter": {
     "source_hidden": true
    },
    "tags": []
   },
   "outputs": [
    {
     "name": "stdout",
     "output_type": "stream",
     "text": [
      "WARNING:tensorflow:Layer lstm_2 will not use cuDNN kernels since it doesn't meet the criteria. It will use a generic GPU kernel as fallback when running on GPU.\n",
      "WARNING:tensorflow:Layer lstm_2 will not use cuDNN kernels since it doesn't meet the criteria. It will use a generic GPU kernel as fallback when running on GPU.\n",
      "WARNING:tensorflow:Layer lstm_2 will not use cuDNN kernels since it doesn't meet the criteria. It will use a generic GPU kernel as fallback when running on GPU.\n",
      "Model: \"model_1\"\n",
      "_________________________________________________________________\n",
      " Layer (type)                Output Shape              Param #   \n",
      "=================================================================\n",
      " input_2 (InputLayer)        [(None, 6, 3)]            0         \n",
      "                                                                 \n",
      " bidirectional_1 (Bidirectio  (None, 6, 256)           135168    \n",
      " nal)                                                            \n",
      "                                                                 \n",
      " lstm_3 (LSTM)               (None, 6, 128)            197120    \n",
      "                                                                 \n",
      " time_distributed_1 (TimeDis  (None, 6, 3)             387       \n",
      " tributed)                                                       \n",
      "                                                                 \n",
      " flatten_1 (Flatten)         (None, 18)                0         \n",
      "                                                                 \n",
      " dense_3 (Dense)             (None, 3)                 57        \n",
      "                                                                 \n",
      "=================================================================\n",
      "Total params: 332,732\n",
      "Trainable params: 332,732\n",
      "Non-trainable params: 0\n",
      "_________________________________________________________________\n",
      "None\n"
     ]
    }
   ],
   "source": [
    "inputs = Input(shape=(6,3)) #(kolko hodinove je okno, kolko je features v train)\n",
    "c = Bidirectional(LSTM(128, return_sequences=True, dropout=0.1,recurrent_dropout=0.1))(inputs)\n",
    "c = LSTM(128, return_sequences=True)(c)\n",
    "c = TimeDistributed(Dense(3, activation='linear'))(c)\n",
    "output = Flatten()(c)\n",
    "output = Dense(3, activation='linear')(output)\n",
    "model = Model(inputs=inputs, outputs=output)\n",
    "model.compile(loss='mse', optimizer='adam', metrics=[\"mae\"])\n",
    "print(model.summary())"
   ]
  },
  {
   "cell_type": "code",
   "execution_count": 7,
   "metadata": {},
   "outputs": [],
   "source": [
    "# callbacks\n",
    "saved_model = \"6_48_pridane_atr.hdf5\"\n",
    "checkpoint = ModelCheckpoint(saved_model, monitor='val_mae', verbose=1, save_best_only=True, mode='min')\n",
    "early = EarlyStopping(monitor=\"val_mae\", mode=\"min\", patience=25)\n",
    "callbacks_list = [checkpoint, early]"
   ]
  },
  {
   "cell_type": "code",
   "execution_count": 8,
   "metadata": {},
   "outputs": [
    {
     "name": "stdout",
     "output_type": "stream",
     "text": [
      "Epoch 1/20\n",
      "  1/753 [..............................] - ETA: 1:19:05 - loss: 226.8846 - mae: 11.8178"
     ]
    },
    {
     "name": "stderr",
     "output_type": "stream",
     "text": [
      "2023-03-14 08:42:06.117766: I tensorflow/stream_executor/cuda/cuda_dnn.cc:384] Loaded cuDNN version 8201\n"
     ]
    },
    {
     "name": "stdout",
     "output_type": "stream",
     "text": [
      "753/753 [==============================] - ETA: 0s - loss: 406.5894 - mae: 13.5779\n",
      "Epoch 1: val_mae improved from inf to 15.25847, saving model to 6_48_pridane_atr.hdf5\n",
      "753/753 [==============================] - 125s 158ms/step - loss: 406.5894 - mae: 13.5779 - val_loss: 572.5217 - val_mae: 15.2585\n",
      "Epoch 2/20\n",
      "753/753 [==============================] - ETA: 0s - loss: 382.5600 - mae: 13.2208\n",
      "Epoch 2: val_mae did not improve from 15.25847\n",
      "753/753 [==============================] - 118s 157ms/step - loss: 382.5600 - mae: 13.2208 - val_loss: 574.2241 - val_mae: 15.6063\n",
      "Epoch 3/20\n",
      "753/753 [==============================] - ETA: 0s - loss: 379.7545 - mae: 13.1916\n",
      "Epoch 3: val_mae improved from 15.25847 to 14.91969, saving model to 6_48_pridane_atr.hdf5\n",
      "753/753 [==============================] - 118s 157ms/step - loss: 379.7545 - mae: 13.1916 - val_loss: 564.0732 - val_mae: 14.9197\n",
      "Epoch 4/20\n",
      "753/753 [==============================] - ETA: 0s - loss: 376.6832 - mae: 13.1130\n",
      "Epoch 4: val_mae did not improve from 14.91969\n",
      "753/753 [==============================] - 118s 157ms/step - loss: 376.6832 - mae: 13.1130 - val_loss: 559.5203 - val_mae: 15.1463\n",
      "Epoch 5/20\n",
      "753/753 [==============================] - ETA: 0s - loss: 373.3881 - mae: 13.0317\n",
      "Epoch 5: val_mae did not improve from 14.91969\n",
      "753/753 [==============================] - 118s 157ms/step - loss: 373.3881 - mae: 13.0317 - val_loss: 562.1136 - val_mae: 15.3524\n",
      "Epoch 6/20\n",
      "753/753 [==============================] - ETA: 0s - loss: 373.7441 - mae: 13.0637\n",
      "Epoch 6: val_mae did not improve from 14.91969\n",
      "753/753 [==============================] - 118s 157ms/step - loss: 373.7441 - mae: 13.0637 - val_loss: 558.6296 - val_mae: 15.3157\n",
      "Epoch 7/20\n",
      "753/753 [==============================] - ETA: 0s - loss: 371.5481 - mae: 13.0325\n",
      "Epoch 7: val_mae improved from 14.91969 to 14.87519, saving model to 6_48_pridane_atr.hdf5\n",
      "753/753 [==============================] - 118s 157ms/step - loss: 371.5481 - mae: 13.0325 - val_loss: 552.7844 - val_mae: 14.8752\n",
      "Epoch 8/20\n",
      "753/753 [==============================] - ETA: 0s - loss: 370.5117 - mae: 13.0055\n",
      "Epoch 8: val_mae improved from 14.87519 to 14.79568, saving model to 6_48_pridane_atr.hdf5\n",
      "753/753 [==============================] - 117s 155ms/step - loss: 370.5117 - mae: 13.0055 - val_loss: 551.8268 - val_mae: 14.7957\n",
      "Epoch 9/20\n",
      "753/753 [==============================] - ETA: 0s - loss: 369.0811 - mae: 12.9788\n",
      "Epoch 9: val_mae did not improve from 14.79568\n",
      "753/753 [==============================] - 118s 156ms/step - loss: 369.0811 - mae: 12.9788 - val_loss: 563.0629 - val_mae: 15.4295\n",
      "Epoch 10/20\n",
      "753/753 [==============================] - ETA: 0s - loss: 368.3376 - mae: 12.9932\n",
      "Epoch 10: val_mae did not improve from 14.79568\n",
      "753/753 [==============================] - 118s 157ms/step - loss: 368.3376 - mae: 12.9932 - val_loss: 565.2704 - val_mae: 14.8600\n",
      "Epoch 11/20\n",
      "753/753 [==============================] - ETA: 0s - loss: 370.3665 - mae: 12.9899\n",
      "Epoch 11: val_mae did not improve from 14.79568\n",
      "753/753 [==============================] - 118s 157ms/step - loss: 370.3665 - mae: 12.9899 - val_loss: 558.4007 - val_mae: 15.0871\n",
      "Epoch 12/20\n",
      "753/753 [==============================] - ETA: 0s - loss: 367.3396 - mae: 12.9340\n",
      "Epoch 12: val_mae did not improve from 14.79568\n",
      "753/753 [==============================] - 118s 157ms/step - loss: 367.3396 - mae: 12.9340 - val_loss: 561.4814 - val_mae: 15.0958\n",
      "Epoch 13/20\n",
      "753/753 [==============================] - ETA: 0s - loss: 367.6985 - mae: 12.9279\n",
      "Epoch 13: val_mae did not improve from 14.79568\n",
      "753/753 [==============================] - 118s 157ms/step - loss: 367.6985 - mae: 12.9279 - val_loss: 560.3263 - val_mae: 14.8962\n",
      "Epoch 14/20\n",
      "753/753 [==============================] - ETA: 0s - loss: 366.4041 - mae: 12.9277\n",
      "Epoch 14: val_mae did not improve from 14.79568\n",
      "753/753 [==============================] - 118s 157ms/step - loss: 366.4041 - mae: 12.9277 - val_loss: 558.4418 - val_mae: 14.9470\n",
      "Epoch 15/20\n",
      "753/753 [==============================] - ETA: 0s - loss: 365.2614 - mae: 12.9180\n",
      "Epoch 15: val_mae did not improve from 14.79568\n",
      "753/753 [==============================] - 119s 158ms/step - loss: 365.2614 - mae: 12.9180 - val_loss: 554.4625 - val_mae: 15.0570\n",
      "Epoch 16/20\n",
      "753/753 [==============================] - ETA: 0s - loss: 364.7813 - mae: 12.8921\n",
      "Epoch 16: val_mae did not improve from 14.79568\n",
      "753/753 [==============================] - 118s 157ms/step - loss: 364.7813 - mae: 12.8921 - val_loss: 555.8562 - val_mae: 15.1648\n",
      "Epoch 17/20\n",
      "753/753 [==============================] - ETA: 0s - loss: 367.2001 - mae: 12.9273\n",
      "Epoch 17: val_mae did not improve from 14.79568\n",
      "753/753 [==============================] - 118s 157ms/step - loss: 367.2001 - mae: 12.9273 - val_loss: 549.5050 - val_mae: 14.8976\n",
      "Epoch 18/20\n",
      "753/753 [==============================] - ETA: 0s - loss: 364.6077 - mae: 12.8776\n",
      "Epoch 18: val_mae did not improve from 14.79568\n",
      "753/753 [==============================] - 119s 158ms/step - loss: 364.6077 - mae: 12.8776 - val_loss: 552.6462 - val_mae: 14.9614\n",
      "Epoch 19/20\n",
      "753/753 [==============================] - ETA: 0s - loss: 365.8771 - mae: 12.9069\n",
      "Epoch 19: val_mae did not improve from 14.79568\n",
      "753/753 [==============================] - 118s 157ms/step - loss: 365.8771 - mae: 12.9069 - val_loss: 556.6998 - val_mae: 15.0802\n",
      "Epoch 20/20\n",
      "753/753 [==============================] - ETA: 0s - loss: 364.4133 - mae: 12.8999\n",
      "Epoch 20: val_mae did not improve from 14.79568\n",
      "753/753 [==============================] - 118s 156ms/step - loss: 364.4133 - mae: 12.8999 - val_loss: 554.3428 - val_mae: 15.0506\n"
     ]
    }
   ],
   "source": [
    "# fit\n",
    "history = model.fit(train_generator, validation_data=val_generator, epochs=20, verbose=1, callbacks = callbacks_list)"
   ]
  },
  {
   "cell_type": "code",
   "execution_count": 4,
   "metadata": {},
   "outputs": [
    {
     "name": "stdout",
     "output_type": "stream",
     "text": [
      "WARNING:tensorflow:Layer lstm_2 will not use cuDNN kernels since it doesn't meet the criteria. It will use a generic GPU kernel as fallback when running on GPU.\n",
      "WARNING:tensorflow:Layer lstm_2 will not use cuDNN kernels since it doesn't meet the criteria. It will use a generic GPU kernel as fallback when running on GPU.\n",
      "WARNING:tensorflow:Layer lstm_2 will not use cuDNN kernels since it doesn't meet the criteria. It will use a generic GPU kernel as fallback when running on GPU.\n"
     ]
    },
    {
     "name": "stderr",
     "output_type": "stream",
     "text": [
      "2023-04-18 12:30:36.578223: I tensorflow/core/platform/cpu_feature_guard.cc:193] This TensorFlow binary is optimized with oneAPI Deep Neural Network Library (oneDNN) to use the following CPU instructions in performance-critical operations:  AVX2 FMA\n",
      "To enable them in other operations, rebuild TensorFlow with the appropriate compiler flags.\n",
      "2023-04-18 12:30:37.142356: I tensorflow/core/common_runtime/gpu/gpu_device.cc:1532] Created device /job:localhost/replica:0/task:0/device:GPU:0 with 122 MB memory:  -> device: 0, name: Tesla K40c, pci bus id: 0000:01:00.0, compute capability: 3.5\n"
     ]
    }
   ],
   "source": [
    "# load best model\n",
    "model = keras.models.load_model('6_48_pridane_atr.hdf5')"
   ]
  },
  {
   "cell_type": "code",
   "execution_count": 5,
   "metadata": {},
   "outputs": [
    {
     "name": "stdout",
     "output_type": "stream",
     "text": [
      "  9/607 [..............................] - ETA: 8s "
     ]
    },
    {
     "name": "stderr",
     "output_type": "stream",
     "text": [
      "2023-04-18 12:30:41.951446: I tensorflow/stream_executor/cuda/cuda_dnn.cc:384] Loaded cuDNN version 8201\n"
     ]
    },
    {
     "name": "stdout",
     "output_type": "stream",
     "text": [
      "607/607 [==============================] - 12s 16ms/step\n"
     ]
    }
   ],
   "source": [
    "# prediction\n",
    "y_pred = model.predict(test_generator)"
   ]
  },
  {
   "cell_type": "code",
   "execution_count": 6,
   "metadata": {},
   "outputs": [
    {
     "data": {
      "text/plain": [
       "array([[  1.523126 ,   1.7997501,   1.5635931],\n",
       "       [  1.7520623,   2.0875418,   1.8575394],\n",
       "       [  1.9829582,   2.288484 ,   2.0291138],\n",
       "       ...,\n",
       "       [-21.050861 , -22.024057 , -22.181545 ],\n",
       "       [-24.04103  , -22.04472  , -22.38325  ],\n",
       "       [-20.210772 , -20.352922 , -20.905638 ]], dtype=float32)"
      ]
     },
     "execution_count": 6,
     "metadata": {},
     "output_type": "execute_result"
    }
   ],
   "source": [
    "y_pred"
   ]
  },
  {
   "cell_type": "code",
   "execution_count": 17,
   "metadata": {},
   "outputs": [
    {
     "name": "stdout",
     "output_type": "stream",
     "text": [
      "Confusion matrix: \n",
      "[[117277   7404]\n",
      " [ 21042   9530]]\n"
     ]
    }
   ],
   "source": [
    "# confusion matrix\n",
    "# TN FP\n",
    "# FN TP\n",
    "\n",
    "y_pred2 = np.where(y_pred[:,2] <= -20, 1, 0)\n",
    "# [n_input:] because prediction starts from n-th row\n",
    "y_test2 = np.where(y_test[n_input:]  <= -20, 1, 0)\n",
    "\n",
    "cm = confusion_matrix(y_test2, y_pred2)\n",
    "print(\"Confusion matrix: \\n\" + str(cm))"
   ]
  },
  {
   "cell_type": "code",
   "execution_count": 18,
   "metadata": {},
   "outputs": [
    {
     "name": "stdout",
     "output_type": "stream",
     "text": [
      "              precision    recall  f1-score   support\n",
      "\n",
      "           0       0.85      0.94      0.89    124681\n",
      "           1       0.56      0.31      0.40     30572\n",
      "\n",
      "    accuracy                           0.82    155253\n",
      "   macro avg       0.71      0.63      0.65    155253\n",
      "weighted avg       0.79      0.82      0.80    155253\n",
      "\n"
     ]
    }
   ],
   "source": [
    "print(classification_report(y_test2, y_pred2))"
   ]
  },
  {
   "cell_type": "code",
   "execution_count": 20,
   "metadata": {},
   "outputs": [],
   "source": [
    "df = pd.DataFrame(data={\"time\": test['time1'][n_input:],\"y_true\": y_test[n_input:].reshape(-1) , \"y_predict\": y_pred[:,2].reshape(-1)})"
   ]
  },
  {
   "cell_type": "code",
   "execution_count": 21,
   "metadata": {},
   "outputs": [
    {
     "data": {
      "text/html": [
       "<div>\n",
       "<style scoped>\n",
       "    .dataframe tbody tr th:only-of-type {\n",
       "        vertical-align: middle;\n",
       "    }\n",
       "\n",
       "    .dataframe tbody tr th {\n",
       "        vertical-align: top;\n",
       "    }\n",
       "\n",
       "    .dataframe thead th {\n",
       "        text-align: right;\n",
       "    }\n",
       "</style>\n",
       "<table border=\"1\" class=\"dataframe\">\n",
       "  <thead>\n",
       "    <tr style=\"text-align: right;\">\n",
       "      <th></th>\n",
       "      <th>time</th>\n",
       "      <th>y_true</th>\n",
       "      <th>y_predict</th>\n",
       "    </tr>\n",
       "  </thead>\n",
       "  <tbody>\n",
       "    <tr>\n",
       "      <th>6</th>\n",
       "      <td>2004-07-22 04:00:00</td>\n",
       "      <td>-8.0</td>\n",
       "      <td>1.563593</td>\n",
       "    </tr>\n",
       "    <tr>\n",
       "      <th>7</th>\n",
       "      <td>2004-07-22 05:00:00</td>\n",
       "      <td>-6.0</td>\n",
       "      <td>1.857539</td>\n",
       "    </tr>\n",
       "    <tr>\n",
       "      <th>8</th>\n",
       "      <td>2004-07-22 06:00:00</td>\n",
       "      <td>-6.0</td>\n",
       "      <td>2.029114</td>\n",
       "    </tr>\n",
       "    <tr>\n",
       "      <th>9</th>\n",
       "      <td>2004-07-22 07:00:00</td>\n",
       "      <td>-7.0</td>\n",
       "      <td>1.863428</td>\n",
       "    </tr>\n",
       "    <tr>\n",
       "      <th>10</th>\n",
       "      <td>2004-07-22 08:00:00</td>\n",
       "      <td>-4.0</td>\n",
       "      <td>1.405443</td>\n",
       "    </tr>\n",
       "    <tr>\n",
       "      <th>...</th>\n",
       "      <td>...</td>\n",
       "      <td>...</td>\n",
       "      <td>...</td>\n",
       "    </tr>\n",
       "    <tr>\n",
       "      <th>155254</th>\n",
       "      <td>2022-04-28 20:00:00</td>\n",
       "      <td>15.0</td>\n",
       "      <td>-20.602690</td>\n",
       "    </tr>\n",
       "    <tr>\n",
       "      <th>155255</th>\n",
       "      <td>2022-04-28 21:00:00</td>\n",
       "      <td>15.0</td>\n",
       "      <td>-22.023718</td>\n",
       "    </tr>\n",
       "    <tr>\n",
       "      <th>155256</th>\n",
       "      <td>2022-04-28 22:00:00</td>\n",
       "      <td>12.0</td>\n",
       "      <td>-22.181545</td>\n",
       "    </tr>\n",
       "    <tr>\n",
       "      <th>155257</th>\n",
       "      <td>2022-04-28 23:00:00</td>\n",
       "      <td>11.0</td>\n",
       "      <td>-22.383249</td>\n",
       "    </tr>\n",
       "    <tr>\n",
       "      <th>155258</th>\n",
       "      <td>2022-04-29 00:00:00</td>\n",
       "      <td>11.0</td>\n",
       "      <td>-20.905638</td>\n",
       "    </tr>\n",
       "  </tbody>\n",
       "</table>\n",
       "<p>155253 rows × 3 columns</p>\n",
       "</div>"
      ],
      "text/plain": [
       "                      time  y_true  y_predict\n",
       "6      2004-07-22 04:00:00    -8.0   1.563593\n",
       "7      2004-07-22 05:00:00    -6.0   1.857539\n",
       "8      2004-07-22 06:00:00    -6.0   2.029114\n",
       "9      2004-07-22 07:00:00    -7.0   1.863428\n",
       "10     2004-07-22 08:00:00    -4.0   1.405443\n",
       "...                    ...     ...        ...\n",
       "155254 2022-04-28 20:00:00    15.0 -20.602690\n",
       "155255 2022-04-28 21:00:00    15.0 -22.023718\n",
       "155256 2022-04-28 22:00:00    12.0 -22.181545\n",
       "155257 2022-04-28 23:00:00    11.0 -22.383249\n",
       "155258 2022-04-29 00:00:00    11.0 -20.905638\n",
       "\n",
       "[155253 rows x 3 columns]"
      ]
     },
     "execution_count": 21,
     "metadata": {},
     "output_type": "execute_result"
    }
   ],
   "source": [
    "df"
   ]
  },
  {
   "cell_type": "code",
   "execution_count": 22,
   "metadata": {},
   "outputs": [
    {
     "data": {
      "text/html": [
       "<div>\n",
       "<style scoped>\n",
       "    .dataframe tbody tr th:only-of-type {\n",
       "        vertical-align: middle;\n",
       "    }\n",
       "\n",
       "    .dataframe tbody tr th {\n",
       "        vertical-align: top;\n",
       "    }\n",
       "\n",
       "    .dataframe thead th {\n",
       "        text-align: right;\n",
       "    }\n",
       "</style>\n",
       "<table border=\"1\" class=\"dataframe\">\n",
       "  <thead>\n",
       "    <tr style=\"text-align: right;\">\n",
       "      <th></th>\n",
       "      <th>y_true</th>\n",
       "      <th>y_predict</th>\n",
       "    </tr>\n",
       "  </thead>\n",
       "  <tbody>\n",
       "    <tr>\n",
       "      <th>count</th>\n",
       "      <td>155253.000000</td>\n",
       "      <td>155253.000000</td>\n",
       "    </tr>\n",
       "    <tr>\n",
       "      <th>mean</th>\n",
       "      <td>-9.801968</td>\n",
       "      <td>-10.573305</td>\n",
       "    </tr>\n",
       "    <tr>\n",
       "      <th>std</th>\n",
       "      <td>16.319787</td>\n",
       "      <td>7.549118</td>\n",
       "    </tr>\n",
       "    <tr>\n",
       "      <th>min</th>\n",
       "      <td>-374.000000</td>\n",
       "      <td>-45.299843</td>\n",
       "    </tr>\n",
       "    <tr>\n",
       "      <th>25%</th>\n",
       "      <td>-16.000000</td>\n",
       "      <td>-15.258624</td>\n",
       "    </tr>\n",
       "    <tr>\n",
       "      <th>50%</th>\n",
       "      <td>-7.000000</td>\n",
       "      <td>-9.737543</td>\n",
       "    </tr>\n",
       "    <tr>\n",
       "      <th>75%</th>\n",
       "      <td>0.000000</td>\n",
       "      <td>-5.073156</td>\n",
       "    </tr>\n",
       "    <tr>\n",
       "      <th>max</th>\n",
       "      <td>77.000000</td>\n",
       "      <td>3.335574</td>\n",
       "    </tr>\n",
       "  </tbody>\n",
       "</table>\n",
       "</div>"
      ],
      "text/plain": [
       "              y_true      y_predict\n",
       "count  155253.000000  155253.000000\n",
       "mean       -9.801968     -10.573305\n",
       "std        16.319787       7.549118\n",
       "min      -374.000000     -45.299843\n",
       "25%       -16.000000     -15.258624\n",
       "50%        -7.000000      -9.737543\n",
       "75%         0.000000      -5.073156\n",
       "max        77.000000       3.335574"
      ]
     },
     "execution_count": 22,
     "metadata": {},
     "output_type": "execute_result"
    }
   ],
   "source": [
    "df.describe()"
   ]
  },
  {
   "cell_type": "code",
   "execution_count": 23,
   "metadata": {},
   "outputs": [
    {
     "data": {
      "text/plain": [
       "<AxesSubplot: >"
      ]
     },
     "execution_count": 23,
     "metadata": {},
     "output_type": "execute_result"
    },
    {
     "data": {
      "image/png": "[encoded data removed]",
      "text/plain": [
       "<Figure size 640x480 with 1 Axes>"
      ]
     },
     "metadata": {},
     "output_type": "display_data"
    }
   ],
   "source": [
    "df[\"y_true\"].hist(bins=100)"
   ]
  },
  {
   "cell_type": "code",
   "execution_count": null,
   "metadata": {},
   "outputs": [],
   "source": [
    "df[\"y_predict\"].hist(bins=100)"
   ]
  },
  {
   "cell_type": "code",
   "execution_count": 24,
   "metadata": {},
   "outputs": [
    {
     "data": {
      "image/png": "[encoded data removed]",
      "text/plain": [
       "<Figure size 640x480 with 1 Axes>"
      ]
     },
     "metadata": {},
     "output_type": "display_data"
    }
   ],
   "source": [
    "plt.figure()\n",
    "plt.title('Predicting the change in DST Index')\n",
    "plt.plot(df['time'],df['y_true'], label='Skutočné hodnoty')\n",
    "plt.plot(df['time'],df['y_predict'], label='Predikované hodnoty')\n",
    "plt.legend()\n",
    "plt.gcf().autofmt_xdate()\n",
    "plt.grid(True)"
   ]
  },
  {
   "cell_type": "code",
   "execution_count": 25,
   "metadata": {},
   "outputs": [],
   "source": [
    "df.to_csv('predikcie_6_48_prid_atr.csv')"
   ]
  },
  {
   "cell_type": "code",
   "execution_count": null,
   "metadata": {},
   "outputs": [],
   "source": [
    "# confusion matrix\n",
    "# TN FP\n",
    "# FN TP\n",
    "\n",
    "y_pred2 = np.where(y_pred <= -20, 1, 0)\n",
    "# [n_input:] because prediction starts from n-th row\n",
    "y_test2 = np.where(y_test[n_input:]  <= -20, 1, 0)\n",
    "\n",
    "cm = confusion_matrix(y_test2, y_pred2)\n",
    "print(\"Confusion matrix: \\n\" + str(cm))"
   ]
  },
  {
   "cell_type": "code",
   "execution_count": 26,
   "metadata": {},
   "outputs": [
    {
     "name": "stdout",
     "output_type": "stream",
     "text": [
      "117277\n",
      "7404\n",
      "21042\n",
      "9530\n"
     ]
    }
   ],
   "source": [
    "TN = cm[0,0] \n",
    "print(TN)\n",
    "FP = cm[0,1]\n",
    "print(FP)\n",
    "FN = cm[1,0] \n",
    "print(FN)\n",
    "TP = cm[1,1] \n",
    "print(TP)"
   ]
  },
  {
   "cell_type": "code",
   "execution_count": 27,
   "metadata": {},
   "outputs": [
    {
     "name": "stdout",
     "output_type": "stream",
     "text": [
      "TN=117277\n",
      "FP=7404\n",
      "FN=21042\n",
      "TP=9530\n",
      "TPR=0.3117231453617689\n",
      "TNR=0.9406164531885371\n",
      "PPV=0.5627731191685367\n",
      "NPV=0.847873394110715\n",
      "FPR=0.05938354681146285\n",
      "FNR=0.6882768546382311\n",
      "FDR=0.4372268808314633\n",
      "ACC=0.8167764874108713\n",
      "AUC=0.626169799275153\n",
      "MCC=0.32190429681346183\n"
     ]
    }
   ],
   "source": [
    "from sklearn.metrics import *\n",
    "TN = cm[0,0] \n",
    "print(\"TN={}\".format(TN))\n",
    "FP = cm[0,1]\n",
    "print(\"FP={}\".format(FP))\n",
    "FN = cm[1,0] \n",
    "print(\"FN={}\".format(FN))\n",
    "TP = cm[1,1] \n",
    "print(\"TP={}\".format(TP))\n",
    "# Sensitivity, hit rate, recall, or true positive rate\n",
    "TPR = TP/(TP+FN)\n",
    "print(\"TPR={}\".format(TPR))\n",
    "# Specificity or true negative rate\n",
    "TNR = TN/(TN+FP)\n",
    "print(\"TNR={}\".format(TNR))\n",
    "# Precision or positive predictive value\n",
    "PPV = TP/(TP+FP)\n",
    "print(\"PPV={}\".format(PPV))\n",
    "# Negative predictive value\n",
    "NPV = TN/(TN+FN)\n",
    "print(\"NPV={}\".format(NPV))\n",
    "# Fall out or false positive rate\n",
    "FPR = FP/(FP+TN)\n",
    "print(\"FPR={}\".format(FPR))\n",
    "# False negative rate\n",
    "FNR = FN/(TP+FN)\n",
    "print(\"FNR={}\".format(FNR))\n",
    "# False discovery rate\n",
    "FDR = FP/(TP+FP)\n",
    "print(\"FDR={}\".format(FDR))\n",
    "# Overall accuracy\n",
    "ACC = (TP+TN)/(TP+FP+FN+TN)\n",
    "print(\"ACC={}\".format(ACC))\n",
    "fpr, tpr, threshold = roc_curve(y_test2, y_pred2)\n",
    "AUC = auc(fpr, tpr)\n",
    "print(\"AUC={}\".format(AUC))\n",
    "MCC = matthews_corrcoef(y_test2, y_pred2)\n",
    "print(\"MCC={}\".format(MCC))"
   ]
  },
  {
   "cell_type": "code",
   "execution_count": null,
   "metadata": {},
   "outputs": [],
   "source": []
  }
 ],
 "metadata": {
  "kernelspec": {
   "display_name": "Python 3 (ipykernel)",
   "language": "python",
   "name": "python3"
  },
  "language_info": {
   "codemirror_mode": {
    "name": "ipython",
    "version": 3
   },
   "file_extension": ".py",
   "mimetype": "text/x-python",
   "name": "python",
   "nbconvert_exporter": "python",
   "pygments_lexer": "ipython3",
   "version": "3.10.6"
  }
 },
 "nbformat": 4,
 "nbformat_minor": 4
}
