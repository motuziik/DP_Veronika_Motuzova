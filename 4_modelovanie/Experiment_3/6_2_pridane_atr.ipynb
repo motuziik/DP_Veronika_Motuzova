{
 "cells": [
  {
   "cell_type": "markdown",
   "metadata": {},
   "source": [
    "# Trénovanie modelu na základe DST indexu, F10_indexu a BZ_GSM 2h dopredu 6 dozadu\n",
    "Súbor: 6_2_pridane_atr.ipynb\n",
    "\n",
    "Program: Hospodárska informatika\n",
    "\n",
    "Vypracovala: Bc. Veronika Motúzová\n",
    "\n",
    "Diplomová práca: : Predikcia geomagnetickych búrok pomocou hlbokého učenia\n",
    "\n",
    "Vedúci diplomovej práce: doc. Ing. Peter Butka, PhD.\n",
    "\n",
    "Konzultanti: Ing. Viera Maslej Krešňáková, PhD., RNDr. Šimon Mackovjak, PhD. "
   ]
  },
  {
   "cell_type": "markdown",
   "metadata": {},
   "source": [
    "### Inštalácia knižníc"
   ]
  },
  {
   "cell_type": "code",
   "execution_count": 1,
   "metadata": {
    "collapsed": true,
    "jupyter": {
     "outputs_hidden": true
    },
    "tags": []
   },
   "outputs": [
    {
     "name": "stdout",
     "output_type": "stream",
     "text": [
      "Collecting pyarrow\n",
      "  Downloading pyarrow-9.0.0-cp310-cp310-manylinux_2_17_x86_64.manylinux2014_x86_64.whl (35.3 MB)\n",
      "\u001b[2K     \u001b[90m━━━━━━━━━━━━━━━━━━━━━━━━━━━━━━━━━━━━━━━━\u001b[0m \u001b[32m35.3/35.3 MB\u001b[0m \u001b[31m21.3 MB/s\u001b[0m eta \u001b[36m0:00:00\u001b[0m00:01\u001b[0m00:01\u001b[0m\n",
      "\u001b[?25hRequirement already satisfied: numpy>=1.16.6 in /opt/conda/lib/python3.10/site-packages (from pyarrow) (1.23.3)\n",
      "Installing collected packages: pyarrow\n",
      "Successfully installed pyarrow-9.0.0\n",
      "Requirement already satisfied: keras in /opt/conda/lib/python3.10/site-packages (2.9.0)\n",
      "Requirement already satisfied: tensorflow in /opt/conda/lib/python3.10/site-packages (2.9.1)\n",
      "Collecting tensorflow\n",
      "  Downloading tensorflow-2.10.0-cp310-cp310-manylinux_2_17_x86_64.manylinux2014_x86_64.whl (578.0 MB)\n",
      "\u001b[2K     \u001b[90m━━━━━━━━━━━━━━━━━━━━━━━━━━━━━━━━━━━━━━━\u001b[0m \u001b[32m578.0/578.0 MB\u001b[0m \u001b[31m3.6 MB/s\u001b[0m eta \u001b[36m0:00:00\u001b[0m00:01\u001b[0m00:01\u001b[0m\n",
      "\u001b[?25hCollecting keras<2.11,>=2.10.0\n",
      "  Downloading keras-2.10.0-py2.py3-none-any.whl (1.7 MB)\n",
      "\u001b[2K     \u001b[90m━━━━━━━━━━━━━━━━━━━━━━━━━━━━━━━━━━━━━━━━\u001b[0m \u001b[32m1.7/1.7 MB\u001b[0m \u001b[31m29.2 MB/s\u001b[0m eta \u001b[36m0:00:00\u001b[0ma \u001b[36m0:00:01\u001b[0m\n",
      "\u001b[?25hRequirement already satisfied: libclang>=13.0.0 in /opt/conda/lib/python3.10/site-packages (from tensorflow) (14.0.6)\n",
      "Requirement already satisfied: google-pasta>=0.1.1 in /opt/conda/lib/python3.10/site-packages (from tensorflow) (0.2.0)\n",
      "Collecting flatbuffers>=2.0\n",
      "  Downloading flatbuffers-22.9.24-py2.py3-none-any.whl (26 kB)\n",
      "Collecting tensorflow-estimator<2.11,>=2.10.0\n",
      "  Downloading tensorflow_estimator-2.10.0-py2.py3-none-any.whl (438 kB)\n",
      "\u001b[2K     \u001b[90m━━━━━━━━━━━━━━━━━━━━━━━━━━━━━━━━━━━━━━\u001b[0m \u001b[32m438.7/438.7 kB\u001b[0m \u001b[31m36.5 MB/s\u001b[0m eta \u001b[36m0:00:00\u001b[0m\n",
      "\u001b[?25hRequirement already satisfied: grpcio<2.0,>=1.24.3 in /opt/conda/lib/python3.10/site-packages (from tensorflow) (1.49.1)\n",
      "Requirement already satisfied: numpy>=1.20 in /opt/conda/lib/python3.10/site-packages (from tensorflow) (1.23.3)\n",
      "Requirement already satisfied: protobuf<3.20,>=3.9.2 in /opt/conda/lib/python3.10/site-packages (from tensorflow) (3.19.6)\n",
      "Requirement already satisfied: setuptools in /opt/conda/lib/python3.10/site-packages (from tensorflow) (65.4.0)\n",
      "Requirement already satisfied: gast<=0.4.0,>=0.2.1 in /opt/conda/lib/python3.10/site-packages (from tensorflow) (0.4.0)\n",
      "Requirement already satisfied: termcolor>=1.1.0 in /opt/conda/lib/python3.10/site-packages (from tensorflow) (2.0.1)\n",
      "Requirement already satisfied: typing-extensions>=3.6.6 in /opt/conda/lib/python3.10/site-packages (from tensorflow) (4.3.0)\n",
      "Requirement already satisfied: six>=1.12.0 in /opt/conda/lib/python3.10/site-packages (from tensorflow) (1.16.0)\n",
      "Requirement already satisfied: opt-einsum>=2.3.2 in /opt/conda/lib/python3.10/site-packages (from tensorflow) (3.3.0)\n",
      "Requirement already satisfied: keras-preprocessing>=1.1.1 in /opt/conda/lib/python3.10/site-packages (from tensorflow) (1.1.2)\n",
      "Requirement already satisfied: h5py>=2.9.0 in /opt/conda/lib/python3.10/site-packages (from tensorflow) (3.7.0)\n",
      "Collecting tensorboard<2.11,>=2.10\n",
      "  Downloading tensorboard-2.10.1-py3-none-any.whl (5.9 MB)\n",
      "\u001b[2K     \u001b[90m━━━━━━━━━━━━━━━━━━━━━━━━━━━━━━━━━━━━━━━━\u001b[0m \u001b[32m5.9/5.9 MB\u001b[0m \u001b[31m25.9 MB/s\u001b[0m eta \u001b[36m0:00:00\u001b[0m00:01\u001b[0m00:01\u001b[0m\n",
      "\u001b[?25hRequirement already satisfied: tensorflow-io-gcs-filesystem>=0.23.1 in /opt/conda/lib/python3.10/site-packages (from tensorflow) (0.27.0)\n",
      "Requirement already satisfied: wrapt>=1.11.0 in /opt/conda/lib/python3.10/site-packages (from tensorflow) (1.14.1)\n",
      "Requirement already satisfied: absl-py>=1.0.0 in /opt/conda/lib/python3.10/site-packages (from tensorflow) (1.2.0)\n",
      "Requirement already satisfied: packaging in /opt/conda/lib/python3.10/site-packages (from tensorflow) (21.3)\n",
      "Requirement already satisfied: astunparse>=1.6.0 in /opt/conda/lib/python3.10/site-packages (from tensorflow) (1.6.3)\n",
      "Requirement already satisfied: wheel<1.0,>=0.23.0 in /opt/conda/lib/python3.10/site-packages (from astunparse>=1.6.0->tensorflow) (0.37.1)\n",
      "Requirement already satisfied: tensorboard-plugin-wit>=1.6.0 in /opt/conda/lib/python3.10/site-packages (from tensorboard<2.11,>=2.10->tensorflow) (1.8.1)\n",
      "Requirement already satisfied: google-auth<3,>=1.6.3 in /opt/conda/lib/python3.10/site-packages (from tensorboard<2.11,>=2.10->tensorflow) (2.12.0)\n",
      "Requirement already satisfied: requests<3,>=2.21.0 in /opt/conda/lib/python3.10/site-packages (from tensorboard<2.11,>=2.10->tensorflow) (2.28.1)\n",
      "Requirement already satisfied: markdown>=2.6.8 in /opt/conda/lib/python3.10/site-packages (from tensorboard<2.11,>=2.10->tensorflow) (3.4.1)\n",
      "Requirement already satisfied: google-auth-oauthlib<0.5,>=0.4.1 in /opt/conda/lib/python3.10/site-packages (from tensorboard<2.11,>=2.10->tensorflow) (0.4.6)\n",
      "Requirement already satisfied: tensorboard-data-server<0.7.0,>=0.6.0 in /opt/conda/lib/python3.10/site-packages (from tensorboard<2.11,>=2.10->tensorflow) (0.6.1)\n",
      "Requirement already satisfied: werkzeug>=1.0.1 in /opt/conda/lib/python3.10/site-packages (from tensorboard<2.11,>=2.10->tensorflow) (2.2.2)\n",
      "Requirement already satisfied: pyparsing!=3.0.5,>=2.0.2 in /opt/conda/lib/python3.10/site-packages (from packaging->tensorflow) (3.0.9)\n",
      "Requirement already satisfied: pyasn1-modules>=0.2.1 in /opt/conda/lib/python3.10/site-packages (from google-auth<3,>=1.6.3->tensorboard<2.11,>=2.10->tensorflow) (0.2.8)\n",
      "Requirement already satisfied: rsa<5,>=3.1.4 in /opt/conda/lib/python3.10/site-packages (from google-auth<3,>=1.6.3->tensorboard<2.11,>=2.10->tensorflow) (4.9)\n",
      "Requirement already satisfied: cachetools<6.0,>=2.0.0 in /opt/conda/lib/python3.10/site-packages (from google-auth<3,>=1.6.3->tensorboard<2.11,>=2.10->tensorflow) (5.2.0)\n",
      "Requirement already satisfied: requests-oauthlib>=0.7.0 in /opt/conda/lib/python3.10/site-packages (from google-auth-oauthlib<0.5,>=0.4.1->tensorboard<2.11,>=2.10->tensorflow) (1.3.1)\n",
      "Requirement already satisfied: charset-normalizer<3,>=2 in /opt/conda/lib/python3.10/site-packages (from requests<3,>=2.21.0->tensorboard<2.11,>=2.10->tensorflow) (2.1.1)\n",
      "Requirement already satisfied: urllib3<1.27,>=1.21.1 in /opt/conda/lib/python3.10/site-packages (from requests<3,>=2.21.0->tensorboard<2.11,>=2.10->tensorflow) (1.26.11)\n",
      "Requirement already satisfied: idna<4,>=2.5 in /opt/conda/lib/python3.10/site-packages (from requests<3,>=2.21.0->tensorboard<2.11,>=2.10->tensorflow) (3.4)\n",
      "Requirement already satisfied: certifi>=2017.4.17 in /opt/conda/lib/python3.10/site-packages (from requests<3,>=2.21.0->tensorboard<2.11,>=2.10->tensorflow) (2022.9.24)\n",
      "Requirement already satisfied: MarkupSafe>=2.1.1 in /opt/conda/lib/python3.10/site-packages (from werkzeug>=1.0.1->tensorboard<2.11,>=2.10->tensorflow) (2.1.1)\n",
      "Requirement already satisfied: pyasn1<0.5.0,>=0.4.6 in /opt/conda/lib/python3.10/site-packages (from pyasn1-modules>=0.2.1->google-auth<3,>=1.6.3->tensorboard<2.11,>=2.10->tensorflow) (0.4.8)\n",
      "Requirement already satisfied: oauthlib>=3.0.0 in /opt/conda/lib/python3.10/site-packages (from requests-oauthlib>=0.7.0->google-auth-oauthlib<0.5,>=0.4.1->tensorboard<2.11,>=2.10->tensorflow) (3.2.1)\n",
      "Installing collected packages: keras, flatbuffers, tensorflow-estimator, tensorboard, tensorflow\n",
      "  Attempting uninstall: keras\n",
      "    Found existing installation: keras 2.9.0\n",
      "    Uninstalling keras-2.9.0:\n",
      "      Successfully uninstalled keras-2.9.0\n",
      "  Attempting uninstall: flatbuffers\n",
      "    Found existing installation: flatbuffers 1.12\n",
      "    Uninstalling flatbuffers-1.12:\n",
      "      Successfully uninstalled flatbuffers-1.12\n",
      "  Attempting uninstall: tensorflow-estimator\n",
      "    Found existing installation: tensorflow-estimator 2.9.0\n",
      "    Uninstalling tensorflow-estimator-2.9.0:\n",
      "      Successfully uninstalled tensorflow-estimator-2.9.0\n",
      "  Attempting uninstall: tensorboard\n",
      "    Found existing installation: tensorboard 2.9.1\n",
      "    Uninstalling tensorboard-2.9.1:\n",
      "      Successfully uninstalled tensorboard-2.9.1\n",
      "  Attempting uninstall: tensorflow\n",
      "    Found existing installation: tensorflow 2.9.1\n",
      "    Uninstalling tensorflow-2.9.1:\n",
      "      Successfully uninstalled tensorflow-2.9.1\n",
      "Successfully installed flatbuffers-22.9.24 keras-2.10.0 tensorboard-2.10.1 tensorflow-2.10.0 tensorflow-estimator-2.10.0\n",
      "Collecting tensorflow-gpu\n",
      "  Downloading tensorflow_gpu-2.10.0-cp310-cp310-manylinux_2_17_x86_64.manylinux2014_x86_64.whl (578.0 MB)\n",
      "\u001b[2K     \u001b[90m━━━━━━━━━━━━━━━━━━━━━━━━━━━━━━━━━━━━━━━\u001b[0m \u001b[32m578.0/578.0 MB\u001b[0m \u001b[31m3.5 MB/s\u001b[0m eta \u001b[36m0:00:00\u001b[0m00:01\u001b[0m00:01\u001b[0m\n",
      "\u001b[?25hRequirement already satisfied: typing-extensions>=3.6.6 in /opt/conda/lib/python3.10/site-packages (from tensorflow-gpu) (4.3.0)\n",
      "Requirement already satisfied: google-pasta>=0.1.1 in /opt/conda/lib/python3.10/site-packages (from tensorflow-gpu) (0.2.0)\n",
      "Requirement already satisfied: grpcio<2.0,>=1.24.3 in /opt/conda/lib/python3.10/site-packages (from tensorflow-gpu) (1.49.1)\n",
      "Requirement already satisfied: tensorflow-estimator<2.11,>=2.10.0 in /opt/conda/lib/python3.10/site-packages (from tensorflow-gpu) (2.10.0)\n",
      "Requirement already satisfied: tensorflow-io-gcs-filesystem>=0.23.1 in /opt/conda/lib/python3.10/site-packages (from tensorflow-gpu) (0.27.0)\n",
      "Requirement already satisfied: six>=1.12.0 in /opt/conda/lib/python3.10/site-packages (from tensorflow-gpu) (1.16.0)\n",
      "Requirement already satisfied: tensorboard<2.11,>=2.10 in /opt/conda/lib/python3.10/site-packages (from tensorflow-gpu) (2.10.1)\n",
      "Requirement already satisfied: packaging in /opt/conda/lib/python3.10/site-packages (from tensorflow-gpu) (21.3)\n",
      "Requirement already satisfied: libclang>=13.0.0 in /opt/conda/lib/python3.10/site-packages (from tensorflow-gpu) (14.0.6)\n",
      "Requirement already satisfied: protobuf<3.20,>=3.9.2 in /opt/conda/lib/python3.10/site-packages (from tensorflow-gpu) (3.19.6)\n",
      "Requirement already satisfied: termcolor>=1.1.0 in /opt/conda/lib/python3.10/site-packages (from tensorflow-gpu) (2.0.1)\n",
      "Requirement already satisfied: absl-py>=1.0.0 in /opt/conda/lib/python3.10/site-packages (from tensorflow-gpu) (1.2.0)\n",
      "Requirement already satisfied: gast<=0.4.0,>=0.2.1 in /opt/conda/lib/python3.10/site-packages (from tensorflow-gpu) (0.4.0)\n",
      "Requirement already satisfied: keras-preprocessing>=1.1.1 in /opt/conda/lib/python3.10/site-packages (from tensorflow-gpu) (1.1.2)\n",
      "Requirement already satisfied: opt-einsum>=2.3.2 in /opt/conda/lib/python3.10/site-packages (from tensorflow-gpu) (3.3.0)\n",
      "Requirement already satisfied: flatbuffers>=2.0 in /opt/conda/lib/python3.10/site-packages (from tensorflow-gpu) (22.9.24)\n",
      "Requirement already satisfied: numpy>=1.20 in /opt/conda/lib/python3.10/site-packages (from tensorflow-gpu) (1.23.3)\n",
      "Requirement already satisfied: astunparse>=1.6.0 in /opt/conda/lib/python3.10/site-packages (from tensorflow-gpu) (1.6.3)\n",
      "Requirement already satisfied: h5py>=2.9.0 in /opt/conda/lib/python3.10/site-packages (from tensorflow-gpu) (3.7.0)\n",
      "Requirement already satisfied: wrapt>=1.11.0 in /opt/conda/lib/python3.10/site-packages (from tensorflow-gpu) (1.14.1)\n",
      "Requirement already satisfied: setuptools in /opt/conda/lib/python3.10/site-packages (from tensorflow-gpu) (65.4.0)\n",
      "Requirement already satisfied: keras<2.11,>=2.10.0 in /opt/conda/lib/python3.10/site-packages (from tensorflow-gpu) (2.10.0)\n",
      "Requirement already satisfied: wheel<1.0,>=0.23.0 in /opt/conda/lib/python3.10/site-packages (from astunparse>=1.6.0->tensorflow-gpu) (0.37.1)\n",
      "Requirement already satisfied: tensorboard-data-server<0.7.0,>=0.6.0 in /opt/conda/lib/python3.10/site-packages (from tensorboard<2.11,>=2.10->tensorflow-gpu) (0.6.1)\n",
      "Requirement already satisfied: requests<3,>=2.21.0 in /opt/conda/lib/python3.10/site-packages (from tensorboard<2.11,>=2.10->tensorflow-gpu) (2.28.1)\n",
      "Requirement already satisfied: tensorboard-plugin-wit>=1.6.0 in /opt/conda/lib/python3.10/site-packages (from tensorboard<2.11,>=2.10->tensorflow-gpu) (1.8.1)\n",
      "Requirement already satisfied: werkzeug>=1.0.1 in /opt/conda/lib/python3.10/site-packages (from tensorboard<2.11,>=2.10->tensorflow-gpu) (2.2.2)\n",
      "Requirement already satisfied: markdown>=2.6.8 in /opt/conda/lib/python3.10/site-packages (from tensorboard<2.11,>=2.10->tensorflow-gpu) (3.4.1)\n",
      "Requirement already satisfied: google-auth<3,>=1.6.3 in /opt/conda/lib/python3.10/site-packages (from tensorboard<2.11,>=2.10->tensorflow-gpu) (2.12.0)\n",
      "Requirement already satisfied: google-auth-oauthlib<0.5,>=0.4.1 in /opt/conda/lib/python3.10/site-packages (from tensorboard<2.11,>=2.10->tensorflow-gpu) (0.4.6)\n",
      "Requirement already satisfied: pyparsing!=3.0.5,>=2.0.2 in /opt/conda/lib/python3.10/site-packages (from packaging->tensorflow-gpu) (3.0.9)\n",
      "Requirement already satisfied: cachetools<6.0,>=2.0.0 in /opt/conda/lib/python3.10/site-packages (from google-auth<3,>=1.6.3->tensorboard<2.11,>=2.10->tensorflow-gpu) (5.2.0)\n",
      "Requirement already satisfied: rsa<5,>=3.1.4 in /opt/conda/lib/python3.10/site-packages (from google-auth<3,>=1.6.3->tensorboard<2.11,>=2.10->tensorflow-gpu) (4.9)\n",
      "Requirement already satisfied: pyasn1-modules>=0.2.1 in /opt/conda/lib/python3.10/site-packages (from google-auth<3,>=1.6.3->tensorboard<2.11,>=2.10->tensorflow-gpu) (0.2.8)\n",
      "Requirement already satisfied: requests-oauthlib>=0.7.0 in /opt/conda/lib/python3.10/site-packages (from google-auth-oauthlib<0.5,>=0.4.1->tensorboard<2.11,>=2.10->tensorflow-gpu) (1.3.1)\n",
      "Requirement already satisfied: urllib3<1.27,>=1.21.1 in /opt/conda/lib/python3.10/site-packages (from requests<3,>=2.21.0->tensorboard<2.11,>=2.10->tensorflow-gpu) (1.26.11)\n",
      "Requirement already satisfied: charset-normalizer<3,>=2 in /opt/conda/lib/python3.10/site-packages (from requests<3,>=2.21.0->tensorboard<2.11,>=2.10->tensorflow-gpu) (2.1.1)\n",
      "Requirement already satisfied: certifi>=2017.4.17 in /opt/conda/lib/python3.10/site-packages (from requests<3,>=2.21.0->tensorboard<2.11,>=2.10->tensorflow-gpu) (2022.9.24)\n",
      "Requirement already satisfied: idna<4,>=2.5 in /opt/conda/lib/python3.10/site-packages (from requests<3,>=2.21.0->tensorboard<2.11,>=2.10->tensorflow-gpu) (3.4)\n",
      "Requirement already satisfied: MarkupSafe>=2.1.1 in /opt/conda/lib/python3.10/site-packages (from werkzeug>=1.0.1->tensorboard<2.11,>=2.10->tensorflow-gpu) (2.1.1)\n",
      "Requirement already satisfied: pyasn1<0.5.0,>=0.4.6 in /opt/conda/lib/python3.10/site-packages (from pyasn1-modules>=0.2.1->google-auth<3,>=1.6.3->tensorboard<2.11,>=2.10->tensorflow-gpu) (0.4.8)\n",
      "Requirement already satisfied: oauthlib>=3.0.0 in /opt/conda/lib/python3.10/site-packages (from requests-oauthlib>=0.7.0->google-auth-oauthlib<0.5,>=0.4.1->tensorboard<2.11,>=2.10->tensorflow-gpu) (3.2.1)\n",
      "Installing collected packages: tensorflow-gpu\n",
      "Successfully installed tensorflow-gpu-2.10.0\n"
     ]
    }
   ],
   "source": [
    "!pip install pyarrow\n",
    "!pip install keras\n",
    "!pip install --upgrade tensorflow\n",
    "!pip install --upgrade tensorflow-gpu"
   ]
  },
  {
   "cell_type": "markdown",
   "metadata": {},
   "source": [
    "### Kontrola kapacity servera"
   ]
  },
  {
   "cell_type": "code",
   "execution_count": 1,
   "metadata": {
    "tags": []
   },
   "outputs": [
    {
     "name": "stdout",
     "output_type": "stream",
     "text": [
      "Mon Apr 17 13:46:28 2023       \n",
      "+-----------------------------------------------------------------------------+\n",
      "| NVIDIA-SMI 470.182.03   Driver Version: 470.182.03   CUDA Version: 11.4     |\n",
      "|-------------------------------+----------------------+----------------------+\n",
      "| GPU  Name        Persistence-M| Bus-Id        Disp.A | Volatile Uncorr. ECC |\n",
      "| Fan  Temp  Perf  Pwr:Usage/Cap|         Memory-Usage | GPU-Util  Compute M. |\n",
      "|                               |                      |               MIG M. |\n",
      "|===============================+======================+======================|\n",
      "|   0  Tesla K40c          Off  | 00000000:01:00.0 Off |                    0 |\n",
      "| 24%   46C    P0    70W / 235W |      0MiB / 11441MiB |     50%      Default |\n",
      "|                               |                      |                  N/A |\n",
      "+-------------------------------+----------------------+----------------------+\n",
      "                                                                               \n",
      "+-----------------------------------------------------------------------------+\n",
      "| Processes:                                                                  |\n",
      "|  GPU   GI   CI        PID   Type   Process name                  GPU Memory |\n",
      "|        ID   ID                                                   Usage      |\n",
      "|=============================================================================|\n",
      "|  No running processes found                                                 |\n",
      "+-----------------------------------------------------------------------------+\n"
     ]
    }
   ],
   "source": [
    "!nvidia-smi"
   ]
  },
  {
   "cell_type": "markdown",
   "metadata": {},
   "source": [
    "### Import knižníc"
   ]
  },
  {
   "cell_type": "code",
   "execution_count": 2,
   "metadata": {
    "tags": []
   },
   "outputs": [],
   "source": [
    "import pandas as pd\n",
    "import numpy as np\n",
    "from tensorflow import keras\n",
    "import matplotlib.pyplot as plt\n",
    "from sklearn.preprocessing import MinMaxScaler, StandardScaler\n",
    "from pandas.plotting import register_matplotlib_converters\n",
    "register_matplotlib_converters()\n",
    "import seaborn as sns\n",
    "\n",
    "from keras.preprocessing.sequence import TimeseriesGenerator\n",
    "from keras.models import Sequential\n",
    "\n",
    "from keras.layers import Dense, Activation, Dropout, Input, Conv1D, LSTM, MaxPooling1D, Flatten, TimeDistributed, Bidirectional\n",
    "from tensorflow.keras.callbacks import ModelCheckpoint, EarlyStopping\n",
    "from keras.models import Model\n",
    "\n",
    "\n",
    "from scipy.special import expit, logit\n",
    "\n",
    "from sklearn.metrics import confusion_matrix, classification_report, matthews_corrcoef"
   ]
  },
  {
   "cell_type": "markdown",
   "metadata": {},
   "source": [
    "### Načitanie dát, odstránenie na hodnôt, určenie predikovaného atribútu"
   ]
  },
  {
   "cell_type": "code",
   "execution_count": 3,
   "metadata": {},
   "outputs": [],
   "source": [
    "train = pd.read_csv('train_omni.csv')\n",
    "test = pd.read_csv('test_omni.csv')\n",
    "features = ['time1',\n",
    "           'DST',\n",
    "            'F10_INDEX',\n",
    "            'BZ_GSM',\n",
    "            'DST+2']\n",
    "test = test[features]\n",
    "train = train[features]\n",
    "train = train.dropna()\n",
    "train['time1']=pd.to_datetime(train['time1'])\n",
    "test['time1']=pd.to_datetime(test['time1'])\n",
    "predicted_label = 'DST+2'\n",
    "predicators = ['DST',\n",
    "            'F10_INDEX',\n",
    "            'BZ_GSM']\n",
    "\n",
    "y_col='DST+2'\n",
    "valid_size = int(len(train) * 0.2)\n",
    "valid = train.iloc[-valid_size:,:].copy()\n",
    "train = train.iloc[:-valid_size,:].copy()\n",
    "\n",
    "y_train = train[y_col].values.copy()\n",
    "X_train = train[predicators].values.copy()\n",
    "y_val = valid[y_col].values.copy()\n",
    "X_val = valid[predicators].values.copy()\n",
    "y_test = test[y_col].values.copy()\n",
    "X_test = test[predicators].values.copy()"
   ]
  },
  {
   "cell_type": "code",
   "execution_count": null,
   "metadata": {},
   "outputs": [],
   "source": [
    "df = pd.read_csv('omni_full.csv')\n",
    "import matplotlib.pyplot as plt\n",
    "from pandas.plotting import register_matplotlib_converters\n",
    "%matplotlib inline\n",
    "register_matplotlib_converters()\n",
    "\n",
    "plt.rcParams['figure.figsize'] = [15, 9]\n",
    "plt.figure()\n",
    "plt.title(\"DST index\")\n",
    "plt.plot(df['time1'],df['DST'],label='DST')\n",
    "plt.legend();"
   ]
  },
  {
   "cell_type": "code",
   "execution_count": 4,
   "metadata": {},
   "outputs": [
    {
     "data": {
      "image/png": "[encoded data removed]",
      "text/plain": [
       "<Figure size 1500x900 with 1 Axes>"
      ]
     },
     "metadata": {},
     "output_type": "display_data"
    }
   ],
   "source": [
    "import matplotlib.pyplot as plt\n",
    "from pandas.plotting import register_matplotlib_converters\n",
    "%matplotlib inline\n",
    "register_matplotlib_converters()\n",
    "\n",
    "plt.rcParams['figure.figsize'] = [15, 9]\n",
    "plt.figure()\n",
    "plt.title(\"DST index (training/validation/test data)\")\n",
    "plt.plot(train['time1'],train['DST+2'],label='train')\n",
    "plt.plot(valid['time1'],valid['DST+2'],label='validation')\n",
    "plt.plot(test['time1'],test['DST+2'],label='test')\n",
    "plt.legend();"
   ]
  },
  {
   "cell_type": "code",
   "execution_count": 4,
   "metadata": {},
   "outputs": [],
   "source": [
    "# set batch, n_input, n_features\n",
    "\n",
    "n_input = 6  # how many samples/rows/timesteps to look in the past in order to forecast the next sample\n",
    "n_features= len(X_train)  # how many predictors/Xs/features we have to predict y\n",
    "b_size = 256  # Number of timeseries samples in each batch\n",
    "\n",
    "train_generator = TimeseriesGenerator(X_train, y_train, length=n_input, batch_size=b_size)\n",
    "val_generator = TimeseriesGenerator(X_val, y_val, length=n_input, batch_size=b_size)\n",
    "test_generator = TimeseriesGenerator(X_test, y_test, length=n_input, batch_size=256)"
   ]
  },
  {
   "cell_type": "code",
   "execution_count": 5,
   "metadata": {},
   "outputs": [
    {
     "name": "stdout",
     "output_type": "stream",
     "text": [
      "Počet batchov:  753\n",
      "Každý batch má features (X zložku) a labels (y zložku):  2\n",
      "Dĺžka X zložky batchu:  256\n",
      "Dĺžka y zložky batchu (počet meraní v batchi):  256\n",
      "Počet riadkov braných do úvahy pre jedno meranie (koľko sa pozerá dozadu):  6\n"
     ]
    }
   ],
   "source": [
    "print(\"Počet batchov: \", len(train_generator))\n",
    "print(\"Každý batch má features (X zložku) a labels (y zložku): \", len(train_generator[0]))\n",
    "print(\"Dĺžka X zložky batchu: \", len(train_generator[0][0]))\n",
    "print(\"Dĺžka y zložky batchu (počet meraní v batchi): \",len(train_generator[0][1]))\n",
    "print(\"Počet riadkov braných do úvahy pre jedno meranie (koľko sa pozerá dozadu): \", len(train_generator[0][0][0]))"
   ]
  },
  {
   "cell_type": "code",
   "execution_count": 6,
   "metadata": {},
   "outputs": [
    {
     "name": "stdout",
     "output_type": "stream",
     "text": [
      "WARNING:tensorflow:Layer lstm will not use cuDNN kernels since it doesn't meet the criteria. It will use a generic GPU kernel as fallback when running on GPU.\n",
      "WARNING:tensorflow:Layer lstm will not use cuDNN kernels since it doesn't meet the criteria. It will use a generic GPU kernel as fallback when running on GPU.\n",
      "WARNING:tensorflow:Layer lstm will not use cuDNN kernels since it doesn't meet the criteria. It will use a generic GPU kernel as fallback when running on GPU.\n"
     ]
    },
    {
     "name": "stderr",
     "output_type": "stream",
     "text": [
      "2023-03-13 21:56:22.011248: I tensorflow/core/common_runtime/gpu/gpu_device.cc:1532] Created device /job:localhost/replica:0/task:0/device:GPU:0 with 5765 MB memory:  -> device: 0, name: Quadro RTX 4000, pci bus id: 0000:8b:00.0, compute capability: 7.5\n"
     ]
    },
    {
     "name": "stdout",
     "output_type": "stream",
     "text": [
      "Model: \"model\"\n",
      "_________________________________________________________________\n",
      " Layer (type)                Output Shape              Param #   \n",
      "=================================================================\n",
      " input_1 (InputLayer)        [(None, 6, 3)]            0         \n",
      "                                                                 \n",
      " bidirectional (Bidirectiona  (None, 6, 256)           135168    \n",
      " l)                                                              \n",
      "                                                                 \n",
      " lstm_1 (LSTM)               (None, 6, 128)            197120    \n",
      "                                                                 \n",
      " time_distributed (TimeDistr  (None, 6, 1)             129       \n",
      " ibuted)                                                         \n",
      "                                                                 \n",
      " flatten (Flatten)           (None, 6)                 0         \n",
      "                                                                 \n",
      " dense_1 (Dense)             (None, 1)                 7         \n",
      "                                                                 \n",
      "=================================================================\n",
      "Total params: 332,424\n",
      "Trainable params: 332,424\n",
      "Non-trainable params: 0\n",
      "_________________________________________________________________\n",
      "None\n"
     ]
    }
   ],
   "source": [
    "inputs = Input(shape=(6,3)) #(kolko hodinove je okno, kolko je features v train)\n",
    "c = Bidirectional((LSTM(128, input_shape=(X_train.shape[0], X_train.shape[1]), return_sequences=True, dropout=0.1,recurrent_dropout=0.1)))(inputs)\n",
    "c = LSTM(128, input_shape=(X_train.shape[0], X_train.shape[1]), return_sequences=True)(c)\n",
    "c = TimeDistributed(Dense(1, activation='linear'))(c)\n",
    "output = Flatten()(c)\n",
    "output = Dense(1, activation='linear')(output)\n",
    "model = Model(inputs=inputs, outputs=output)\n",
    "model.compile(loss='mse', optimizer='adam', metrics=[\"mae\"])\n",
    "print(model.summary())"
   ]
  },
  {
   "cell_type": "code",
   "execution_count": 8,
   "metadata": {
    "jupyter": {
     "source_hidden": true
    },
    "tags": []
   },
   "outputs": [
    {
     "name": "stdout",
     "output_type": "stream",
     "text": [
      "WARNING:tensorflow:Layer lstm_2 will not use cuDNN kernels since it doesn't meet the criteria. It will use a generic GPU kernel as fallback when running on GPU.\n",
      "WARNING:tensorflow:Layer lstm_2 will not use cuDNN kernels since it doesn't meet the criteria. It will use a generic GPU kernel as fallback when running on GPU.\n",
      "WARNING:tensorflow:Layer lstm_2 will not use cuDNN kernels since it doesn't meet the criteria. It will use a generic GPU kernel as fallback when running on GPU.\n",
      "Model: \"model_1\"\n",
      "_________________________________________________________________\n",
      " Layer (type)                Output Shape              Param #   \n",
      "=================================================================\n",
      " input_2 (InputLayer)        [(None, 6, 1)]            0         \n",
      "                                                                 \n",
      " bidirectional_1 (Bidirectio  (None, 256)              133120    \n",
      " nal)                                                            \n",
      "                                                                 \n",
      " dense_2 (Dense)             (None, 64)                16448     \n",
      "                                                                 \n",
      " dropout (Dropout)           (None, 64)                0         \n",
      "                                                                 \n",
      " dense_3 (Dense)             (None, 32)                2080      \n",
      "                                                                 \n",
      " dense_4 (Dense)             (None, 1)                 33        \n",
      "                                                                 \n",
      "=================================================================\n",
      "Total params: 151,681\n",
      "Trainable params: 151,681\n",
      "Non-trainable params: 0\n",
      "_________________________________________________________________\n",
      "None\n"
     ]
    }
   ],
   "source": [
    "inputs = Input(shape=(n_input,1))\n",
    "b = Conv1D(128, kernel_size = 4, padding = \"same\")(inputs)\n",
    "b = Bidirectional(LSTM(128, dropout=0.1,recurrent_dropout=0.1))(inputs)\n",
    "b = Dense(64, activation='relu')(b)\n",
    "b = Dropout(0.2)(b)\n",
    "x = Dense(32, activation='relu')(b)\n",
    "output = Dense(1, activation='linear')(x)\n",
    "model = Model(inputs=inputs, outputs=output)\n",
    "model.compile(loss='mse', optimizer='adam', metrics=[\"mae\"])\n",
    "print(model.summary())"
   ]
  },
  {
   "cell_type": "code",
   "execution_count": 88,
   "metadata": {
    "collapsed": true,
    "jupyter": {
     "outputs_hidden": true,
     "source_hidden": true
    },
    "tags": []
   },
   "outputs": [
    {
     "name": "stdout",
     "output_type": "stream",
     "text": [
      "WARNING:tensorflow:Layer lstm_9 will not use cuDNN kernels since it doesn't meet the criteria. It will use a generic GPU kernel as fallback when running on GPU.\n",
      "WARNING:tensorflow:Layer lstm_9 will not use cuDNN kernels since it doesn't meet the criteria. It will use a generic GPU kernel as fallback when running on GPU.\n",
      "WARNING:tensorflow:Layer lstm_9 will not use cuDNN kernels since it doesn't meet the criteria. It will use a generic GPU kernel as fallback when running on GPU.\n",
      "Model: \"model_6\"\n",
      "_________________________________________________________________\n",
      " Layer (type)                Output Shape              Param #   \n",
      "=================================================================\n",
      " input_7 (InputLayer)        [(None, 6, 3)]            0         \n",
      "                                                                 \n",
      " bidirectional_6 (Bidirectio  (None, 6, 256)           135168    \n",
      " nal)                                                            \n",
      "                                                                 \n",
      " lstm_10 (LSTM)              (None, 6, 128)            197120    \n",
      "                                                                 \n",
      " time_distributed_3 (TimeDis  (None, 6, 3)             387       \n",
      " tributed)                                                       \n",
      "                                                                 \n",
      " flatten_3 (Flatten)         (None, 18)                0         \n",
      "                                                                 \n",
      " dense_16 (Dense)            (None, 3)                 57        \n",
      "                                                                 \n",
      "=================================================================\n",
      "Total params: 332,732\n",
      "Trainable params: 332,732\n",
      "Non-trainable params: 0\n",
      "_________________________________________________________________\n",
      "None\n"
     ]
    }
   ],
   "source": [
    "inputs = Input(shape=(6,3)) #(kolko hodinove je okno, kolko je features v train)\n",
    "c = Bidirectional(LSTM(128, return_sequences=True, dropout=0.1,recurrent_dropout=0.1))(inputs)\n",
    "c = LSTM(128, return_sequences=True)(c)\n",
    "c = TimeDistributed(Dense(3, activation='linear'))(c)\n",
    "output = Flatten()(c)\n",
    "output = Dense(3, activation='linear')(output)\n",
    "model = Model(inputs=inputs, outputs=output)\n",
    "model.compile(loss='mse', optimizer='adam', metrics=[\"mae\"])\n",
    "print(model.summary())"
   ]
  },
  {
   "cell_type": "code",
   "execution_count": 7,
   "metadata": {},
   "outputs": [],
   "source": [
    "# callbacks\n",
    "saved_model = \"6_2_pridane_atr.hdf5\"\n",
    "checkpoint = ModelCheckpoint(saved_model, monitor='val_mae', verbose=1, save_best_only=True, mode='min')\n",
    "early = EarlyStopping(monitor=\"val_mae\", mode=\"min\", patience=25)\n",
    "callbacks_list = [checkpoint, early]"
   ]
  },
  {
   "cell_type": "code",
   "execution_count": 8,
   "metadata": {},
   "outputs": [
    {
     "name": "stdout",
     "output_type": "stream",
     "text": [
      "Epoch 1/20\n"
     ]
    },
    {
     "name": "stderr",
     "output_type": "stream",
     "text": [
      "2023-03-13 21:56:42.400580: I tensorflow/stream_executor/cuda/cuda_dnn.cc:384] Loaded cuDNN version 8201\n"
     ]
    },
    {
     "name": "stdout",
     "output_type": "stream",
     "text": [
      "753/753 [==============================] - ETA: 0s - loss: 83.5901 - mae: 4.3697\n",
      "Epoch 1: val_mae improved from inf to 2.28457, saving model to 6_2_pridane_atr.hdf5\n",
      "753/753 [==============================] - 54s 62ms/step - loss: 83.5901 - mae: 4.3697 - val_loss: 76.6957 - val_mae: 2.2846\n",
      "Epoch 2/20\n",
      "753/753 [==============================] - ETA: 0s - loss: 35.6860 - mae: 3.0252\n",
      "Epoch 2: val_mae did not improve from 2.28457\n",
      "753/753 [==============================] - 46s 61ms/step - loss: 35.6860 - mae: 3.0252 - val_loss: 52.8453 - val_mae: 2.6098\n",
      "Epoch 3/20\n",
      "753/753 [==============================] - ETA: 0s - loss: 27.6211 - mae: 2.7035\n",
      "Epoch 3: val_mae did not improve from 2.28457\n",
      "753/753 [==============================] - 46s 61ms/step - loss: 27.6211 - mae: 2.7035 - val_loss: 42.8829 - val_mae: 3.1699\n",
      "Epoch 4/20\n",
      "753/753 [==============================] - ETA: 0s - loss: 26.1235 - mae: 2.6216\n",
      "Epoch 4: val_mae improved from 2.28457 to 2.14835, saving model to 6_2_pridane_atr.hdf5\n",
      "753/753 [==============================] - 46s 61ms/step - loss: 26.1235 - mae: 2.6216 - val_loss: 29.9226 - val_mae: 2.1484\n",
      "Epoch 5/20\n",
      "753/753 [==============================] - ETA: 0s - loss: 32.4961 - mae: 2.7896\n",
      "Epoch 5: val_mae did not improve from 2.14835\n",
      "753/753 [==============================] - 46s 61ms/step - loss: 32.4961 - mae: 2.7896 - val_loss: 34.3590 - val_mae: 3.2515\n",
      "Epoch 6/20\n",
      "753/753 [==============================] - ETA: 0s - loss: 21.7639 - mae: 2.2770\n",
      "Epoch 6: val_mae did not improve from 2.14835\n",
      "753/753 [==============================] - 46s 61ms/step - loss: 21.7639 - mae: 2.2770 - val_loss: 28.8854 - val_mae: 2.9348\n",
      "Epoch 7/20\n",
      "753/753 [==============================] - ETA: 0s - loss: 19.4856 - mae: 2.0992\n",
      "Epoch 7: val_mae did not improve from 2.14835\n",
      "753/753 [==============================] - 46s 61ms/step - loss: 19.4856 - mae: 2.0992 - val_loss: 25.4111 - val_mae: 2.2400\n",
      "Epoch 8/20\n",
      "753/753 [==============================] - ETA: 0s - loss: 19.8884 - mae: 2.1015\n",
      "Epoch 8: val_mae did not improve from 2.14835\n",
      "753/753 [==============================] - 46s 62ms/step - loss: 19.8884 - mae: 2.1015 - val_loss: 26.9420 - val_mae: 2.6483\n",
      "Epoch 9/20\n",
      "753/753 [==============================] - ETA: 0s - loss: 19.3326 - mae: 2.0400\n",
      "Epoch 9: val_mae did not improve from 2.14835\n",
      "753/753 [==============================] - 46s 60ms/step - loss: 19.3326 - mae: 2.0400 - val_loss: 23.4669 - val_mae: 2.6164\n",
      "Epoch 10/20\n",
      "753/753 [==============================] - ETA: 0s - loss: 17.7351 - mae: 1.9242\n",
      "Epoch 10: val_mae did not improve from 2.14835\n",
      "753/753 [==============================] - 46s 61ms/step - loss: 17.7351 - mae: 1.9242 - val_loss: 20.6154 - val_mae: 2.2431\n",
      "Epoch 11/20\n",
      "753/753 [==============================] - ETA: 0s - loss: 16.9190 - mae: 1.8370\n",
      "Epoch 11: val_mae did not improve from 2.14835\n",
      "753/753 [==============================] - 46s 61ms/step - loss: 16.9190 - mae: 1.8370 - val_loss: 20.1870 - val_mae: 2.3776\n",
      "Epoch 12/20\n",
      "753/753 [==============================] - ETA: 0s - loss: 18.1720 - mae: 1.9251\n",
      "Epoch 12: val_mae did not improve from 2.14835\n",
      "753/753 [==============================] - 46s 62ms/step - loss: 18.1720 - mae: 1.9251 - val_loss: 31.8124 - val_mae: 2.5107\n",
      "Epoch 13/20\n",
      "753/753 [==============================] - ETA: 0s - loss: 19.2238 - mae: 2.0098\n",
      "Epoch 13: val_mae improved from 2.14835 to 2.05451, saving model to 6_2_pridane_atr.hdf5\n",
      "753/753 [==============================] - 47s 62ms/step - loss: 19.2238 - mae: 2.0098 - val_loss: 20.8204 - val_mae: 2.0545\n",
      "Epoch 14/20\n",
      "753/753 [==============================] - ETA: 0s - loss: 16.8887 - mae: 1.8119\n",
      "Epoch 14: val_mae did not improve from 2.05451\n",
      "753/753 [==============================] - 46s 62ms/step - loss: 16.8887 - mae: 1.8119 - val_loss: 17.9376 - val_mae: 2.4258\n",
      "Epoch 15/20\n",
      "753/753 [==============================] - ETA: 0s - loss: 16.4491 - mae: 1.8040\n",
      "Epoch 15: val_mae did not improve from 2.05451\n",
      "753/753 [==============================] - 46s 61ms/step - loss: 16.4491 - mae: 1.8040 - val_loss: 15.5118 - val_mae: 2.1381\n",
      "Epoch 16/20\n",
      "753/753 [==============================] - ETA: 0s - loss: 18.3787 - mae: 1.9157\n",
      "Epoch 16: val_mae did not improve from 2.05451\n",
      "753/753 [==============================] - 47s 62ms/step - loss: 18.3787 - mae: 1.9157 - val_loss: 21.1636 - val_mae: 2.1176\n",
      "Epoch 17/20\n",
      "753/753 [==============================] - ETA: 0s - loss: 15.9596 - mae: 1.6839\n",
      "Epoch 17: val_mae improved from 2.05451 to 1.97410, saving model to 6_2_pridane_atr.hdf5\n",
      "753/753 [==============================] - 46s 62ms/step - loss: 15.9596 - mae: 1.6839 - val_loss: 15.5392 - val_mae: 1.9741\n",
      "Epoch 18/20\n",
      "753/753 [==============================] - ETA: 0s - loss: 16.4919 - mae: 1.8056\n",
      "Epoch 18: val_mae did not improve from 1.97410\n",
      "753/753 [==============================] - 46s 61ms/step - loss: 16.4919 - mae: 1.8056 - val_loss: 19.5308 - val_mae: 2.2297\n",
      "Epoch 19/20\n",
      "752/753 [============================>.] - ETA: 0s - loss: 16.7780 - mae: 1.7739\n",
      "Epoch 19: val_mae did not improve from 1.97410\n",
      "753/753 [==============================] - 46s 61ms/step - loss: 16.8329 - mae: 1.7767 - val_loss: 13.0950 - val_mae: 2.2306\n",
      "Epoch 20/20\n",
      "753/753 [==============================] - ETA: 0s - loss: 17.0914 - mae: 1.8334\n",
      "Epoch 20: val_mae did not improve from 1.97410\n",
      "753/753 [==============================] - 46s 61ms/step - loss: 17.0914 - mae: 1.8334 - val_loss: 14.8567 - val_mae: 2.2296\n"
     ]
    }
   ],
   "source": [
    "# fit\n",
    "history = model.fit(train_generator, validation_data=val_generator, epochs=20, verbose=1, callbacks = callbacks_list)"
   ]
  },
  {
   "cell_type": "code",
   "execution_count": 9,
   "metadata": {},
   "outputs": [
    {
     "name": "stdout",
     "output_type": "stream",
     "text": [
      "WARNING:tensorflow:Layer lstm will not use cuDNN kernels since it doesn't meet the criteria. It will use a generic GPU kernel as fallback when running on GPU.\n",
      "WARNING:tensorflow:Layer lstm will not use cuDNN kernels since it doesn't meet the criteria. It will use a generic GPU kernel as fallback when running on GPU.\n",
      "WARNING:tensorflow:Layer lstm will not use cuDNN kernels since it doesn't meet the criteria. It will use a generic GPU kernel as fallback when running on GPU.\n"
     ]
    }
   ],
   "source": [
    "# load best model\n",
    "model = keras.models.load_model('6_2_pridane_atr.hdf5')"
   ]
  },
  {
   "cell_type": "code",
   "execution_count": 10,
   "metadata": {},
   "outputs": [
    {
     "name": "stdout",
     "output_type": "stream",
     "text": [
      "607/607 [==============================] - 9s 14ms/step\n"
     ]
    }
   ],
   "source": [
    "# prediction\n",
    "y_pred = model.predict(test_generator)"
   ]
  },
  {
   "cell_type": "code",
   "execution_count": 11,
   "metadata": {},
   "outputs": [
    {
     "data": {
      "text/plain": [
       "array([[ 12.822798],\n",
       "       [ 12.17061 ],\n",
       "       [ 10.362449],\n",
       "       ...,\n",
       "       [-26.67163 ],\n",
       "       [-26.930676],\n",
       "       [-22.839651]], dtype=float32)"
      ]
     },
     "execution_count": 11,
     "metadata": {},
     "output_type": "execute_result"
    }
   ],
   "source": [
    "y_pred"
   ]
  },
  {
   "cell_type": "code",
   "execution_count": 12,
   "metadata": {},
   "outputs": [
    {
     "name": "stdout",
     "output_type": "stream",
     "text": [
      "Confusion matrix: \n",
      "[[124603     32]\n",
      " [  5610  25008]]\n"
     ]
    }
   ],
   "source": [
    "# confusion matrix\n",
    "# TN FP\n",
    "# FN TP\n",
    "\n",
    "y_pred2 = np.where(y_pred <= -20, 1, 0)\n",
    "# [n_input:] because prediction starts from n-th row\n",
    "y_test2 = np.where(y_test[n_input:]  <= -20, 1, 0)\n",
    "\n",
    "cm = confusion_matrix(y_test2, y_pred2)\n",
    "print(\"Confusion matrix: \\n\" + str(cm))"
   ]
  },
  {
   "cell_type": "code",
   "execution_count": 13,
   "metadata": {},
   "outputs": [
    {
     "name": "stdout",
     "output_type": "stream",
     "text": [
      "              precision    recall  f1-score   support\n",
      "\n",
      "           0       0.96      1.00      0.98    124635\n",
      "           1       1.00      0.82      0.90     30618\n",
      "\n",
      "    accuracy                           0.96    155253\n",
      "   macro avg       0.98      0.91      0.94    155253\n",
      "weighted avg       0.97      0.96      0.96    155253\n",
      "\n"
     ]
    }
   ],
   "source": [
    "print(classification_report(y_test2, y_pred2))"
   ]
  },
  {
   "cell_type": "code",
   "execution_count": 14,
   "metadata": {},
   "outputs": [],
   "source": [
    "df = pd.DataFrame(data={\"time\": test['time1'][n_input:],\"y_true\": y_test[n_input:].reshape(-1) , \"y_predict\": y_pred.reshape(-1)})"
   ]
  },
  {
   "cell_type": "code",
   "execution_count": 15,
   "metadata": {},
   "outputs": [
    {
     "data": {
      "text/html": [
       "<div>\n",
       "<style scoped>\n",
       "    .dataframe tbody tr th:only-of-type {\n",
       "        vertical-align: middle;\n",
       "    }\n",
       "\n",
       "    .dataframe tbody tr th {\n",
       "        vertical-align: top;\n",
       "    }\n",
       "\n",
       "    .dataframe thead th {\n",
       "        text-align: right;\n",
       "    }\n",
       "</style>\n",
       "<table border=\"1\" class=\"dataframe\">\n",
       "  <thead>\n",
       "    <tr style=\"text-align: right;\">\n",
       "      <th></th>\n",
       "      <th>time</th>\n",
       "      <th>y_true</th>\n",
       "      <th>y_predict</th>\n",
       "    </tr>\n",
       "  </thead>\n",
       "  <tbody>\n",
       "    <tr>\n",
       "      <th>6</th>\n",
       "      <td>2004-07-22 04:00:00</td>\n",
       "      <td>14.0</td>\n",
       "      <td>12.822798</td>\n",
       "    </tr>\n",
       "    <tr>\n",
       "      <th>7</th>\n",
       "      <td>2004-07-22 05:00:00</td>\n",
       "      <td>14.0</td>\n",
       "      <td>12.170610</td>\n",
       "    </tr>\n",
       "    <tr>\n",
       "      <th>8</th>\n",
       "      <td>2004-07-22 06:00:00</td>\n",
       "      <td>11.0</td>\n",
       "      <td>10.362449</td>\n",
       "    </tr>\n",
       "    <tr>\n",
       "      <th>9</th>\n",
       "      <td>2004-07-22 07:00:00</td>\n",
       "      <td>11.0</td>\n",
       "      <td>9.561238</td>\n",
       "    </tr>\n",
       "    <tr>\n",
       "      <th>10</th>\n",
       "      <td>2004-07-22 08:00:00</td>\n",
       "      <td>9.0</td>\n",
       "      <td>8.010490</td>\n",
       "    </tr>\n",
       "    <tr>\n",
       "      <th>...</th>\n",
       "      <td>...</td>\n",
       "      <td>...</td>\n",
       "      <td>...</td>\n",
       "    </tr>\n",
       "    <tr>\n",
       "      <th>155254</th>\n",
       "      <td>2022-04-28 20:00:00</td>\n",
       "      <td>-23.0</td>\n",
       "      <td>-21.715658</td>\n",
       "    </tr>\n",
       "    <tr>\n",
       "      <th>155255</th>\n",
       "      <td>2022-04-28 21:00:00</td>\n",
       "      <td>-26.0</td>\n",
       "      <td>-24.558264</td>\n",
       "    </tr>\n",
       "    <tr>\n",
       "      <th>155256</th>\n",
       "      <td>2022-04-28 22:00:00</td>\n",
       "      <td>-29.0</td>\n",
       "      <td>-26.671631</td>\n",
       "    </tr>\n",
       "    <tr>\n",
       "      <th>155257</th>\n",
       "      <td>2022-04-28 23:00:00</td>\n",
       "      <td>-31.0</td>\n",
       "      <td>-26.930676</td>\n",
       "    </tr>\n",
       "    <tr>\n",
       "      <th>155258</th>\n",
       "      <td>2022-04-29 00:00:00</td>\n",
       "      <td>-25.0</td>\n",
       "      <td>-22.839651</td>\n",
       "    </tr>\n",
       "  </tbody>\n",
       "</table>\n",
       "<p>155253 rows × 3 columns</p>\n",
       "</div>"
      ],
      "text/plain": [
       "                      time  y_true  y_predict\n",
       "6      2004-07-22 04:00:00    14.0  12.822798\n",
       "7      2004-07-22 05:00:00    14.0  12.170610\n",
       "8      2004-07-22 06:00:00    11.0  10.362449\n",
       "9      2004-07-22 07:00:00    11.0   9.561238\n",
       "10     2004-07-22 08:00:00     9.0   8.010490\n",
       "...                    ...     ...        ...\n",
       "155254 2022-04-28 20:00:00   -23.0 -21.715658\n",
       "155255 2022-04-28 21:00:00   -26.0 -24.558264\n",
       "155256 2022-04-28 22:00:00   -29.0 -26.671631\n",
       "155257 2022-04-28 23:00:00   -31.0 -26.930676\n",
       "155258 2022-04-29 00:00:00   -25.0 -22.839651\n",
       "\n",
       "[155253 rows x 3 columns]"
      ]
     },
     "execution_count": 15,
     "metadata": {},
     "output_type": "execute_result"
    }
   ],
   "source": [
    "df"
   ]
  },
  {
   "cell_type": "code",
   "execution_count": 16,
   "metadata": {},
   "outputs": [
    {
     "data": {
      "text/html": [
       "<div>\n",
       "<style scoped>\n",
       "    .dataframe tbody tr th:only-of-type {\n",
       "        vertical-align: middle;\n",
       "    }\n",
       "\n",
       "    .dataframe tbody tr th {\n",
       "        vertical-align: top;\n",
       "    }\n",
       "\n",
       "    .dataframe thead th {\n",
       "        text-align: right;\n",
       "    }\n",
       "</style>\n",
       "<table border=\"1\" class=\"dataframe\">\n",
       "  <thead>\n",
       "    <tr style=\"text-align: right;\">\n",
       "      <th></th>\n",
       "      <th>y_true</th>\n",
       "      <th>y_predict</th>\n",
       "    </tr>\n",
       "  </thead>\n",
       "  <tbody>\n",
       "    <tr>\n",
       "      <th>count</th>\n",
       "      <td>155253.000000</td>\n",
       "      <td>155253.000000</td>\n",
       "    </tr>\n",
       "    <tr>\n",
       "      <th>mean</th>\n",
       "      <td>-9.817176</td>\n",
       "      <td>-9.180758</td>\n",
       "    </tr>\n",
       "    <tr>\n",
       "      <th>std</th>\n",
       "      <td>16.340477</td>\n",
       "      <td>14.873491</td>\n",
       "    </tr>\n",
       "    <tr>\n",
       "      <th>min</th>\n",
       "      <td>-374.000000</td>\n",
       "      <td>-282.739349</td>\n",
       "    </tr>\n",
       "    <tr>\n",
       "      <th>25%</th>\n",
       "      <td>-16.000000</td>\n",
       "      <td>-14.830156</td>\n",
       "    </tr>\n",
       "    <tr>\n",
       "      <th>50%</th>\n",
       "      <td>-7.000000</td>\n",
       "      <td>-7.099186</td>\n",
       "    </tr>\n",
       "    <tr>\n",
       "      <th>75%</th>\n",
       "      <td>0.000000</td>\n",
       "      <td>-0.227098</td>\n",
       "    </tr>\n",
       "    <tr>\n",
       "      <th>max</th>\n",
       "      <td>77.000000</td>\n",
       "      <td>48.578487</td>\n",
       "    </tr>\n",
       "  </tbody>\n",
       "</table>\n",
       "</div>"
      ],
      "text/plain": [
       "              y_true      y_predict\n",
       "count  155253.000000  155253.000000\n",
       "mean       -9.817176      -9.180758\n",
       "std        16.340477      14.873491\n",
       "min      -374.000000    -282.739349\n",
       "25%       -16.000000     -14.830156\n",
       "50%        -7.000000      -7.099186\n",
       "75%         0.000000      -0.227098\n",
       "max        77.000000      48.578487"
      ]
     },
     "execution_count": 16,
     "metadata": {},
     "output_type": "execute_result"
    }
   ],
   "source": [
    "df.describe()"
   ]
  },
  {
   "cell_type": "code",
   "execution_count": 17,
   "metadata": {},
   "outputs": [
    {
     "data": {
      "text/plain": [
       "<AxesSubplot: >"
      ]
     },
     "execution_count": 17,
     "metadata": {},
     "output_type": "execute_result"
    },
    {
     "data": {
      "image/png": "[encoded data removed]",
      "text/plain": [
       "<Figure size 640x480 with 1 Axes>"
      ]
     },
     "metadata": {},
     "output_type": "display_data"
    }
   ],
   "source": [
    "df[\"y_true\"].hist(bins=100)"
   ]
  },
  {
   "cell_type": "code",
   "execution_count": 18,
   "metadata": {},
   "outputs": [
    {
     "data": {
      "text/plain": [
       "<AxesSubplot: >"
      ]
     },
     "execution_count": 18,
     "metadata": {},
     "output_type": "execute_result"
    },
    {
     "data": {
      "image/png": "[encoded data removed]",
      "text/plain": [
       "<Figure size 640x480 with 1 Axes>"
      ]
     },
     "metadata": {},
     "output_type": "display_data"
    }
   ],
   "source": [
    "df[\"y_predict\"].hist(bins=100)"
   ]
  },
  {
   "cell_type": "code",
   "execution_count": 19,
   "metadata": {},
   "outputs": [
    {
     "data": {
      "image/png": "[encoded data removed]",
      "text/plain": [
       "<Figure size 640x480 with 1 Axes>"
      ]
     },
     "metadata": {},
     "output_type": "display_data"
    }
   ],
   "source": [
    "plt.figure()\n",
    "plt.title('Predicting the change in DST Index')\n",
    "plt.plot(df['time'],df['y_true'], label='Skutočné hodnoty')\n",
    "plt.plot(df['time'],df['y_predict'], label='Predikované hodnoty')\n",
    "plt.legend()\n",
    "plt.gcf().autofmt_xdate()\n",
    "plt.grid(True)"
   ]
  },
  {
   "cell_type": "code",
   "execution_count": 20,
   "metadata": {},
   "outputs": [],
   "source": [
    "df.to_csv('predikcie_6_2_prid_atr.csv')"
   ]
  },
  {
   "cell_type": "code",
   "execution_count": 21,
   "metadata": {},
   "outputs": [
    {
     "name": "stdout",
     "output_type": "stream",
     "text": [
      "Confusion matrix: \n",
      "[[124603     32]\n",
      " [  5610  25008]]\n"
     ]
    }
   ],
   "source": [
    "# confusion matrix\n",
    "# TN FP\n",
    "# FN TP\n",
    "\n",
    "y_pred2 = np.where(y_pred <= -20, 1, 0)\n",
    "# [n_input:] because prediction starts from n-th row\n",
    "y_test2 = np.where(y_test[n_input:]  <= -20, 1, 0)\n",
    "\n",
    "cm = confusion_matrix(y_test2, y_pred2)\n",
    "print(\"Confusion matrix: \\n\" + str(cm))"
   ]
  },
  {
   "cell_type": "code",
   "execution_count": 22,
   "metadata": {},
   "outputs": [
    {
     "name": "stdout",
     "output_type": "stream",
     "text": [
      "124603\n",
      "32\n",
      "5610\n",
      "25008\n"
     ]
    }
   ],
   "source": [
    "TN = cm[0,0] \n",
    "print(TN)\n",
    "FP = cm[0,1]\n",
    "print(FP)\n",
    "FN = cm[1,0] \n",
    "print(FN)\n",
    "TP = cm[1,1] \n",
    "print(TP)"
   ]
  },
  {
   "cell_type": "code",
   "execution_count": 23,
   "metadata": {},
   "outputs": [
    {
     "name": "stdout",
     "output_type": "stream",
     "text": [
      "TN=124603\n",
      "FP=32\n",
      "FN=5610\n",
      "TP=25008\n",
      "TPR=0.816774446404076\n",
      "TNR=0.9997432502908493\n",
      "PPV=0.9987220447284345\n",
      "NPV=0.9569167441038913\n",
      "FPR=0.0002567497091507201\n",
      "FNR=0.18322555359592396\n",
      "FDR=0.0012779552715654952\n",
      "ACC=0.963659317372289\n",
      "AUC=0.9082588483474627\n",
      "MCC=0.883343637962995\n"
     ]
    }
   ],
   "source": [
    "from sklearn.metrics import *\n",
    "TN = cm[0,0] \n",
    "print(\"TN={}\".format(TN))\n",
    "FP = cm[0,1]\n",
    "print(\"FP={}\".format(FP))\n",
    "FN = cm[1,0] \n",
    "print(\"FN={}\".format(FN))\n",
    "TP = cm[1,1] \n",
    "print(\"TP={}\".format(TP))\n",
    "# Sensitivity, hit rate, recall, or true positive rate\n",
    "TPR = TP/(TP+FN)\n",
    "print(\"TPR={}\".format(TPR))\n",
    "# Specificity or true negative rate\n",
    "TNR = TN/(TN+FP)\n",
    "print(\"TNR={}\".format(TNR))\n",
    "# Precision or positive predictive value\n",
    "PPV = TP/(TP+FP)\n",
    "print(\"PPV={}\".format(PPV))\n",
    "# Negative predictive value\n",
    "NPV = TN/(TN+FN)\n",
    "print(\"NPV={}\".format(NPV))\n",
    "# Fall out or false positive rate\n",
    "FPR = FP/(FP+TN)\n",
    "print(\"FPR={}\".format(FPR))\n",
    "# False negative rate\n",
    "FNR = FN/(TP+FN)\n",
    "print(\"FNR={}\".format(FNR))\n",
    "# False discovery rate\n",
    "FDR = FP/(TP+FP)\n",
    "print(\"FDR={}\".format(FDR))\n",
    "# Overall accuracy\n",
    "ACC = (TP+TN)/(TP+FP+FN+TN)\n",
    "print(\"ACC={}\".format(ACC))\n",
    "fpr, tpr, threshold = roc_curve(y_test2, y_pred2)\n",
    "AUC = auc(fpr, tpr)\n",
    "print(\"AUC={}\".format(AUC))\n",
    "MCC = matthews_corrcoef(y_test2, y_pred2)\n",
    "print(\"MCC={}\".format(MCC))"
   ]
  },
  {
   "cell_type": "code",
   "execution_count": null,
   "metadata": {},
   "outputs": [],
   "source": []
  }
 ],
 "metadata": {
  "kernelspec": {
   "display_name": "Python 3 (ipykernel)",
   "language": "python",
   "name": "python3"
  },
  "language_info": {
   "codemirror_mode": {
    "name": "ipython",
    "version": 3
   },
   "file_extension": ".py",
   "mimetype": "text/x-python",
   "name": "python",
   "nbconvert_exporter": "python",
   "pygments_lexer": "ipython3",
   "version": "3.10.6"
  }
 },
 "nbformat": 4,
 "nbformat_minor": 4
}
