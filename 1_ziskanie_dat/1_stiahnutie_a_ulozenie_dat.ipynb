{
 "cells": [
  {
   "cell_type": "markdown",
   "metadata": {},
   "source": [
    "# Stiahnutie a uloženie OMNI dát\n",
    "Súbor: 1_stiahnutie_a_ulozenie_dat.ipynb\n",
    "\n",
    "Program: Hospodárska informatika\n",
    "\n",
    "Vypracovala: Bc. Veronika Motúzová\n",
    "\n",
    "Diplomová práca: : Predikcia geomagnetickych búrok pomocou hlbokého učenia\n",
    "\n",
    "Vedúci diplomovej práce: doc. Ing. Peter Butka, PhD.\n",
    "\n",
    "Konzultanti: Ing. Viera Maslej Krešňáková, PhD., RNDr. Šimon Mackovjak, PhD. "
   ]
  },
  {
   "cell_type": "markdown",
   "metadata": {},
   "source": [
    "### Inštalácia knižníc"
   ]
  },
  {
   "cell_type": "code",
   "execution_count": null,
   "metadata": {
    "tags": []
   },
   "outputs": [],
   "source": [
    "pip install aidapy"
   ]
  },
  {
   "cell_type": "code",
   "execution_count": null,
   "metadata": {
    "tags": []
   },
   "outputs": [],
   "source": [
    "pip install heliopy==0.15.4"
   ]
  },
  {
   "cell_type": "code",
   "execution_count": null,
   "metadata": {
    "tags": []
   },
   "outputs": [],
   "source": [
    "pip install h5netcdf"
   ]
  },
  {
   "cell_type": "code",
   "execution_count": null,
   "metadata": {
    "tags": []
   },
   "outputs": [],
   "source": [
    "pip install pydot"
   ]
  },
  {
   "cell_type": "code",
   "execution_count": null,
   "metadata": {
    "tags": []
   },
   "outputs": [],
   "source": [
    "pip install graphviz"
   ]
  },
  {
   "cell_type": "code",
   "execution_count": null,
   "metadata": {
    "tags": []
   },
   "outputs": [],
   "source": [
    "pip install pydotplus"
   ]
  },
  {
   "cell_type": "markdown",
   "metadata": {},
   "source": [
    "### Spustenie aidapy\n",
    "podľa: https://pypi.org/project/aidapy/\n",
    "\n",
    "Do terminálu postupne zadať:"
   ]
  },
  {
   "cell_type": "code",
   "execution_count": null,
   "metadata": {},
   "outputs": [],
   "source": [
    "git clone https://gitlab.com/aidaspace/aidapy.git\n",
    "cd aidapy\n",
    "pip install conda\n",
    "conda create -n aidapy\n",
    "source activate aidapy\n",
    "python setup.py install\n",
    "pip install aidapy[ml]\n",
    "python setup.py test\n",
    "pip install aidapy[doc]\n",
    "python setup.py build_sphinx\n",
    "cd doc\n",
    "make html"
   ]
  },
  {
   "cell_type": "markdown",
   "metadata": {},
   "source": [
    "Ak je to už raz nainštalované, stačí zadať:"
   ]
  },
  {
   "cell_type": "code",
   "execution_count": null,
   "metadata": {},
   "outputs": [],
   "source": [
    "cd aidapy\n",
    "cd doc\n",
    "make html"
   ]
  },
  {
   "cell_type": "markdown",
   "metadata": {},
   "source": [
    "### Stiahnutie dát"
   ]
  },
  {
   "cell_type": "code",
   "execution_count": 7,
   "metadata": {},
   "outputs": [
    {
     "name": "stdout",
     "output_type": "stream",
     "text": [
      "Creating download directory /home/jovyan/heliopy/data\n"
     ]
    }
   ],
   "source": [
    "from aidapy import load_data\n",
    "from datetime import datetime\n",
    "import numpy as np"
   ]
  },
  {
   "cell_type": "code",
   "execution_count": 9,
   "metadata": {
    "collapsed": true,
    "jupyter": {
     "outputs_hidden": true
    },
    "tags": []
   },
   "outputs": [
    {
     "name": "stdout",
     "output_type": "stream",
     "text": [
      "Downloading OMNI2_H0_MRG1HR for interval 1963-01-01 00:00:00 - 1964-01-01 00:00:00\n"
     ]
    },
    {
     "data": {
      "application/vnd.jupyter.widget-view+json": {
       "model_id": "2c683ad346104134af6a9e83109256eb",
       "version_major": 2,
       "version_minor": 0
      },
      "text/plain": [
       "HBox(children=(HTML(value=''), FloatProgress(value=1.0, bar_style='info', layout=Layout(width='20px'), max=1.0…"
      ]
     },
     "metadata": {},
     "output_type": "display_data"
    },
    {
     "name": "stdout",
     "output_type": "stream",
     "text": [
      "\n",
      "Downloading OMNI2_H0_MRG1HR for interval 1964-01-01 00:00:00 - 1965-01-01 00:00:00\n"
     ]
    },
    {
     "data": {
      "application/vnd.jupyter.widget-view+json": {
       "model_id": "7b7b2ee43a0945df9a0bd5af782a3cc5",
       "version_major": 2,
       "version_minor": 0
      },
      "text/plain": [
       "HBox(children=(HTML(value=''), FloatProgress(value=1.0, bar_style='info', layout=Layout(width='20px'), max=1.0…"
      ]
     },
     "metadata": {},
     "output_type": "display_data"
    },
    {
     "name": "stdout",
     "output_type": "stream",
     "text": [
      "\n",
      "Downloading OMNI2_H0_MRG1HR for interval 1965-01-01 00:00:00 - 1966-01-01 00:00:00\n"
     ]
    },
    {
     "data": {
      "application/vnd.jupyter.widget-view+json": {
       "model_id": "378ee0cc6572401aa52c11c94d90ab68",
       "version_major": 2,
       "version_minor": 0
      },
      "text/plain": [
       "HBox(children=(HTML(value=''), FloatProgress(value=1.0, bar_style='info', layout=Layout(width='20px'), max=1.0…"
      ]
     },
     "metadata": {},
     "output_type": "display_data"
    },
    {
     "name": "stdout",
     "output_type": "stream",
     "text": [
      "\n",
      "Downloading OMNI2_H0_MRG1HR for interval 1966-01-01 00:00:00 - 1967-01-01 00:00:00\n"
     ]
    },
    {
     "data": {
      "application/vnd.jupyter.widget-view+json": {
       "model_id": "118e2e471dc04587a7517200460fedd2",
       "version_major": 2,
       "version_minor": 0
      },
      "text/plain": [
       "HBox(children=(HTML(value=''), FloatProgress(value=1.0, bar_style='info', layout=Layout(width='20px'), max=1.0…"
      ]
     },
     "metadata": {},
     "output_type": "display_data"
    },
    {
     "name": "stdout",
     "output_type": "stream",
     "text": [
      "\n",
      "Downloading OMNI2_H0_MRG1HR for interval 1967-01-01 00:00:00 - 1968-01-01 00:00:00\n"
     ]
    },
    {
     "data": {
      "application/vnd.jupyter.widget-view+json": {
       "model_id": "967e2d8688a14ef4b3102aff80e66df5",
       "version_major": 2,
       "version_minor": 0
      },
      "text/plain": [
       "HBox(children=(HTML(value=''), FloatProgress(value=1.0, bar_style='info', layout=Layout(width='20px'), max=1.0…"
      ]
     },
     "metadata": {},
     "output_type": "display_data"
    },
    {
     "name": "stdout",
     "output_type": "stream",
     "text": [
      "\n",
      "Downloading OMNI2_H0_MRG1HR for interval 1968-01-01 00:00:00 - 1969-01-01 00:00:00\n"
     ]
    },
    {
     "data": {
      "application/vnd.jupyter.widget-view+json": {
       "model_id": "4d2ddeaae5c542a8a645235b48787124",
       "version_major": 2,
       "version_minor": 0
      },
      "text/plain": [
       "HBox(children=(HTML(value=''), FloatProgress(value=1.0, bar_style='info', layout=Layout(width='20px'), max=1.0…"
      ]
     },
     "metadata": {},
     "output_type": "display_data"
    },
    {
     "name": "stdout",
     "output_type": "stream",
     "text": [
      "\n",
      "Downloading OMNI2_H0_MRG1HR for interval 1969-01-01 00:00:00 - 1970-01-01 00:00:00\n"
     ]
    },
    {
     "data": {
      "application/vnd.jupyter.widget-view+json": {
       "model_id": "04a9b2217abd4260913f464cb3789156",
       "version_major": 2,
       "version_minor": 0
      },
      "text/plain": [
       "HBox(children=(HTML(value=''), FloatProgress(value=1.0, bar_style='info', layout=Layout(width='20px'), max=1.0…"
      ]
     },
     "metadata": {},
     "output_type": "display_data"
    },
    {
     "name": "stdout",
     "output_type": "stream",
     "text": [
      "\n",
      "Downloading OMNI2_H0_MRG1HR for interval 1970-01-01 00:00:00 - 1971-01-01 00:00:00\n"
     ]
    },
    {
     "data": {
      "application/vnd.jupyter.widget-view+json": {
       "model_id": "8e5d83d850e747aa821d3db01ed4cc4f",
       "version_major": 2,
       "version_minor": 0
      },
      "text/plain": [
       "HBox(children=(HTML(value=''), FloatProgress(value=1.0, bar_style='info', layout=Layout(width='20px'), max=1.0…"
      ]
     },
     "metadata": {},
     "output_type": "display_data"
    },
    {
     "name": "stdout",
     "output_type": "stream",
     "text": [
      "\n",
      "Downloading OMNI2_H0_MRG1HR for interval 1971-01-01 00:00:00 - 1972-01-01 00:00:00\n"
     ]
    },
    {
     "data": {
      "application/vnd.jupyter.widget-view+json": {
       "model_id": "103b2ffbda0845fab6fe7faddd3bfc3d",
       "version_major": 2,
       "version_minor": 0
      },
      "text/plain": [
       "HBox(children=(HTML(value=''), FloatProgress(value=1.0, bar_style='info', layout=Layout(width='20px'), max=1.0…"
      ]
     },
     "metadata": {},
     "output_type": "display_data"
    },
    {
     "name": "stdout",
     "output_type": "stream",
     "text": [
      "\n",
      "Downloading OMNI2_H0_MRG1HR for interval 1972-01-01 00:00:00 - 1973-01-01 00:00:00\n"
     ]
    },
    {
     "data": {
      "application/vnd.jupyter.widget-view+json": {
       "model_id": "0314b47a2cc64312a058c8af94f3b5e3",
       "version_major": 2,
       "version_minor": 0
      },
      "text/plain": [
       "HBox(children=(HTML(value=''), FloatProgress(value=1.0, bar_style='info', layout=Layout(width='20px'), max=1.0…"
      ]
     },
     "metadata": {},
     "output_type": "display_data"
    },
    {
     "name": "stdout",
     "output_type": "stream",
     "text": [
      "\n",
      "Downloading OMNI2_H0_MRG1HR for interval 1973-01-01 00:00:00 - 1974-01-01 00:00:00\n"
     ]
    },
    {
     "data": {
      "application/vnd.jupyter.widget-view+json": {
       "model_id": "ea62ef7acd76454fa29300a199c93ec2",
       "version_major": 2,
       "version_minor": 0
      },
      "text/plain": [
       "HBox(children=(HTML(value=''), FloatProgress(value=1.0, bar_style='info', layout=Layout(width='20px'), max=1.0…"
      ]
     },
     "metadata": {},
     "output_type": "display_data"
    },
    {
     "name": "stdout",
     "output_type": "stream",
     "text": [
      "\n",
      "Downloading OMNI2_H0_MRG1HR for interval 1974-01-01 00:00:00 - 1975-01-01 00:00:00\n"
     ]
    },
    {
     "data": {
      "application/vnd.jupyter.widget-view+json": {
       "model_id": "19c986f83b594040b3618a7b89b3d993",
       "version_major": 2,
       "version_minor": 0
      },
      "text/plain": [
       "HBox(children=(HTML(value=''), FloatProgress(value=1.0, bar_style='info', layout=Layout(width='20px'), max=1.0…"
      ]
     },
     "metadata": {},
     "output_type": "display_data"
    },
    {
     "name": "stdout",
     "output_type": "stream",
     "text": [
      "\n",
      "Downloading OMNI2_H0_MRG1HR for interval 1975-01-01 00:00:00 - 1976-01-01 00:00:00\n"
     ]
    },
    {
     "data": {
      "application/vnd.jupyter.widget-view+json": {
       "model_id": "b693299256d74b87aaca54c7b36b806a",
       "version_major": 2,
       "version_minor": 0
      },
      "text/plain": [
       "HBox(children=(HTML(value=''), FloatProgress(value=1.0, bar_style='info', layout=Layout(width='20px'), max=1.0…"
      ]
     },
     "metadata": {},
     "output_type": "display_data"
    },
    {
     "name": "stdout",
     "output_type": "stream",
     "text": [
      "\n",
      "Downloading OMNI2_H0_MRG1HR for interval 1976-01-01 00:00:00 - 1977-01-01 00:00:00\n"
     ]
    },
    {
     "data": {
      "application/vnd.jupyter.widget-view+json": {
       "model_id": "0f1f8cad8dcf4373912cad7884d582ef",
       "version_major": 2,
       "version_minor": 0
      },
      "text/plain": [
       "HBox(children=(HTML(value=''), FloatProgress(value=1.0, bar_style='info', layout=Layout(width='20px'), max=1.0…"
      ]
     },
     "metadata": {},
     "output_type": "display_data"
    },
    {
     "name": "stdout",
     "output_type": "stream",
     "text": [
      "\n",
      "Downloading OMNI2_H0_MRG1HR for interval 1977-01-01 00:00:00 - 1978-01-01 00:00:00\n"
     ]
    },
    {
     "data": {
      "application/vnd.jupyter.widget-view+json": {
       "model_id": "685380b6210b4d5d86585493a0449550",
       "version_major": 2,
       "version_minor": 0
      },
      "text/plain": [
       "HBox(children=(HTML(value=''), FloatProgress(value=1.0, bar_style='info', layout=Layout(width='20px'), max=1.0…"
      ]
     },
     "metadata": {},
     "output_type": "display_data"
    },
    {
     "name": "stdout",
     "output_type": "stream",
     "text": [
      "\n",
      "Downloading OMNI2_H0_MRG1HR for interval 1978-01-01 00:00:00 - 1979-01-01 00:00:00\n"
     ]
    },
    {
     "data": {
      "application/vnd.jupyter.widget-view+json": {
       "model_id": "9089704af439422786382c65723214c4",
       "version_major": 2,
       "version_minor": 0
      },
      "text/plain": [
       "HBox(children=(HTML(value=''), FloatProgress(value=1.0, bar_style='info', layout=Layout(width='20px'), max=1.0…"
      ]
     },
     "metadata": {},
     "output_type": "display_data"
    },
    {
     "name": "stdout",
     "output_type": "stream",
     "text": [
      "\n",
      "Downloading OMNI2_H0_MRG1HR for interval 1979-01-01 00:00:00 - 1980-01-01 00:00:00\n"
     ]
    },
    {
     "data": {
      "application/vnd.jupyter.widget-view+json": {
       "model_id": "d1d095d76ddb41a292c498532a2a2062",
       "version_major": 2,
       "version_minor": 0
      },
      "text/plain": [
       "HBox(children=(HTML(value=''), FloatProgress(value=1.0, bar_style='info', layout=Layout(width='20px'), max=1.0…"
      ]
     },
     "metadata": {},
     "output_type": "display_data"
    },
    {
     "name": "stdout",
     "output_type": "stream",
     "text": [
      "\n",
      "Downloading OMNI2_H0_MRG1HR for interval 1980-01-01 00:00:00 - 1981-01-01 00:00:00\n"
     ]
    },
    {
     "data": {
      "application/vnd.jupyter.widget-view+json": {
       "model_id": "886e372fd6524085966db28e4ff08f43",
       "version_major": 2,
       "version_minor": 0
      },
      "text/plain": [
       "HBox(children=(HTML(value=''), FloatProgress(value=1.0, bar_style='info', layout=Layout(width='20px'), max=1.0…"
      ]
     },
     "metadata": {},
     "output_type": "display_data"
    },
    {
     "name": "stdout",
     "output_type": "stream",
     "text": [
      "\n",
      "Downloading OMNI2_H0_MRG1HR for interval 1981-01-01 00:00:00 - 1982-01-01 00:00:00\n"
     ]
    },
    {
     "data": {
      "application/vnd.jupyter.widget-view+json": {
       "model_id": "794fd91f5095450da0206d479051e5da",
       "version_major": 2,
       "version_minor": 0
      },
      "text/plain": [
       "HBox(children=(HTML(value=''), FloatProgress(value=1.0, bar_style='info', layout=Layout(width='20px'), max=1.0…"
      ]
     },
     "metadata": {},
     "output_type": "display_data"
    },
    {
     "name": "stdout",
     "output_type": "stream",
     "text": [
      "\n",
      "Downloading OMNI2_H0_MRG1HR for interval 1982-01-01 00:00:00 - 1983-01-01 00:00:00\n"
     ]
    },
    {
     "data": {
      "application/vnd.jupyter.widget-view+json": {
       "model_id": "5044e08fb6514a29bf30629a1fdc2017",
       "version_major": 2,
       "version_minor": 0
      },
      "text/plain": [
       "HBox(children=(HTML(value=''), FloatProgress(value=1.0, bar_style='info', layout=Layout(width='20px'), max=1.0…"
      ]
     },
     "metadata": {},
     "output_type": "display_data"
    },
    {
     "name": "stdout",
     "output_type": "stream",
     "text": [
      "\n",
      "Downloading OMNI2_H0_MRG1HR for interval 1983-01-01 00:00:00 - 1984-01-01 00:00:00\n"
     ]
    },
    {
     "data": {
      "application/vnd.jupyter.widget-view+json": {
       "model_id": "0ff16a83783e42b09c5080cdd0cbfa26",
       "version_major": 2,
       "version_minor": 0
      },
      "text/plain": [
       "HBox(children=(HTML(value=''), FloatProgress(value=1.0, bar_style='info', layout=Layout(width='20px'), max=1.0…"
      ]
     },
     "metadata": {},
     "output_type": "display_data"
    },
    {
     "name": "stdout",
     "output_type": "stream",
     "text": [
      "\n",
      "Downloading OMNI2_H0_MRG1HR for interval 1984-01-01 00:00:00 - 1985-01-01 00:00:00\n"
     ]
    },
    {
     "data": {
      "application/vnd.jupyter.widget-view+json": {
       "model_id": "6bc8ea981b2b4e6a9a6e2a6dd33c5413",
       "version_major": 2,
       "version_minor": 0
      },
      "text/plain": [
       "HBox(children=(HTML(value=''), FloatProgress(value=1.0, bar_style='info', layout=Layout(width='20px'), max=1.0…"
      ]
     },
     "metadata": {},
     "output_type": "display_data"
    },
    {
     "name": "stdout",
     "output_type": "stream",
     "text": [
      "\n",
      "Downloading OMNI2_H0_MRG1HR for interval 1985-01-01 00:00:00 - 1986-01-01 00:00:00\n"
     ]
    },
    {
     "data": {
      "application/vnd.jupyter.widget-view+json": {
       "model_id": "7db76f2a32124f79a8b447286aab93ad",
       "version_major": 2,
       "version_minor": 0
      },
      "text/plain": [
       "HBox(children=(HTML(value=''), FloatProgress(value=1.0, bar_style='info', layout=Layout(width='20px'), max=1.0…"
      ]
     },
     "metadata": {},
     "output_type": "display_data"
    },
    {
     "name": "stdout",
     "output_type": "stream",
     "text": [
      "\n",
      "Downloading OMNI2_H0_MRG1HR for interval 1986-01-01 00:00:00 - 1987-01-01 00:00:00\n"
     ]
    },
    {
     "data": {
      "application/vnd.jupyter.widget-view+json": {
       "model_id": "0e062a9e73444e61a76002ddb87894be",
       "version_major": 2,
       "version_minor": 0
      },
      "text/plain": [
       "HBox(children=(HTML(value=''), FloatProgress(value=1.0, bar_style='info', layout=Layout(width='20px'), max=1.0…"
      ]
     },
     "metadata": {},
     "output_type": "display_data"
    },
    {
     "name": "stdout",
     "output_type": "stream",
     "text": [
      "\n",
      "Downloading OMNI2_H0_MRG1HR for interval 1987-01-01 00:00:00 - 1988-01-01 00:00:00\n"
     ]
    },
    {
     "data": {
      "application/vnd.jupyter.widget-view+json": {
       "model_id": "03fbf0c8b22b43178fd5ba8581dce716",
       "version_major": 2,
       "version_minor": 0
      },
      "text/plain": [
       "HBox(children=(HTML(value=''), FloatProgress(value=1.0, bar_style='info', layout=Layout(width='20px'), max=1.0…"
      ]
     },
     "metadata": {},
     "output_type": "display_data"
    },
    {
     "name": "stdout",
     "output_type": "stream",
     "text": [
      "\n",
      "Downloading OMNI2_H0_MRG1HR for interval 1988-01-01 00:00:00 - 1989-01-01 00:00:00\n"
     ]
    },
    {
     "data": {
      "application/vnd.jupyter.widget-view+json": {
       "model_id": "0d103b8a7cdf4255a085ef6fde503f66",
       "version_major": 2,
       "version_minor": 0
      },
      "text/plain": [
       "HBox(children=(HTML(value=''), FloatProgress(value=1.0, bar_style='info', layout=Layout(width='20px'), max=1.0…"
      ]
     },
     "metadata": {},
     "output_type": "display_data"
    },
    {
     "name": "stdout",
     "output_type": "stream",
     "text": [
      "\n",
      "Downloading OMNI2_H0_MRG1HR for interval 1989-01-01 00:00:00 - 1990-01-01 00:00:00\n"
     ]
    },
    {
     "data": {
      "application/vnd.jupyter.widget-view+json": {
       "model_id": "69513e49d6ff4c75b615e66fdd41b113",
       "version_major": 2,
       "version_minor": 0
      },
      "text/plain": [
       "HBox(children=(HTML(value=''), FloatProgress(value=1.0, bar_style='info', layout=Layout(width='20px'), max=1.0…"
      ]
     },
     "metadata": {},
     "output_type": "display_data"
    },
    {
     "name": "stdout",
     "output_type": "stream",
     "text": [
      "\n",
      "Downloading OMNI2_H0_MRG1HR for interval 1990-01-01 00:00:00 - 1991-01-01 00:00:00\n"
     ]
    },
    {
     "data": {
      "application/vnd.jupyter.widget-view+json": {
       "model_id": "0b9d334e8bfe409f92d4655fd01070b0",
       "version_major": 2,
       "version_minor": 0
      },
      "text/plain": [
       "HBox(children=(HTML(value=''), FloatProgress(value=1.0, bar_style='info', layout=Layout(width='20px'), max=1.0…"
      ]
     },
     "metadata": {},
     "output_type": "display_data"
    },
    {
     "name": "stdout",
     "output_type": "stream",
     "text": [
      "\n",
      "Downloading OMNI2_H0_MRG1HR for interval 1991-01-01 00:00:00 - 1992-01-01 00:00:00\n"
     ]
    },
    {
     "data": {
      "application/vnd.jupyter.widget-view+json": {
       "model_id": "44d31aca435744f69297f94d3328fad8",
       "version_major": 2,
       "version_minor": 0
      },
      "text/plain": [
       "HBox(children=(HTML(value=''), FloatProgress(value=1.0, bar_style='info', layout=Layout(width='20px'), max=1.0…"
      ]
     },
     "metadata": {},
     "output_type": "display_data"
    },
    {
     "name": "stdout",
     "output_type": "stream",
     "text": [
      "\n",
      "Downloading OMNI2_H0_MRG1HR for interval 1992-01-01 00:00:00 - 1993-01-01 00:00:00\n"
     ]
    },
    {
     "data": {
      "application/vnd.jupyter.widget-view+json": {
       "model_id": "c345d667c777496a80f4f5b0e4ab46cb",
       "version_major": 2,
       "version_minor": 0
      },
      "text/plain": [
       "HBox(children=(HTML(value=''), FloatProgress(value=1.0, bar_style='info', layout=Layout(width='20px'), max=1.0…"
      ]
     },
     "metadata": {},
     "output_type": "display_data"
    },
    {
     "name": "stdout",
     "output_type": "stream",
     "text": [
      "\n",
      "Downloading OMNI2_H0_MRG1HR for interval 1993-01-01 00:00:00 - 1994-01-01 00:00:00\n"
     ]
    },
    {
     "data": {
      "application/vnd.jupyter.widget-view+json": {
       "model_id": "0c4177c9cb2547319fb3c58258cee9e6",
       "version_major": 2,
       "version_minor": 0
      },
      "text/plain": [
       "HBox(children=(HTML(value=''), FloatProgress(value=1.0, bar_style='info', layout=Layout(width='20px'), max=1.0…"
      ]
     },
     "metadata": {},
     "output_type": "display_data"
    },
    {
     "name": "stdout",
     "output_type": "stream",
     "text": [
      "\n",
      "Downloading OMNI2_H0_MRG1HR for interval 1994-01-01 00:00:00 - 1995-01-01 00:00:00\n"
     ]
    },
    {
     "data": {
      "application/vnd.jupyter.widget-view+json": {
       "model_id": "5c5db7a906eb49cd8c038bb116be611e",
       "version_major": 2,
       "version_minor": 0
      },
      "text/plain": [
       "HBox(children=(HTML(value=''), FloatProgress(value=1.0, bar_style='info', layout=Layout(width='20px'), max=1.0…"
      ]
     },
     "metadata": {},
     "output_type": "display_data"
    },
    {
     "name": "stdout",
     "output_type": "stream",
     "text": [
      "\n",
      "Downloading OMNI2_H0_MRG1HR for interval 1995-01-01 00:00:00 - 1996-01-01 00:00:00\n"
     ]
    },
    {
     "data": {
      "application/vnd.jupyter.widget-view+json": {
       "model_id": "004e6f8fd1f8474185d764dd2c414f42",
       "version_major": 2,
       "version_minor": 0
      },
      "text/plain": [
       "HBox(children=(HTML(value=''), FloatProgress(value=1.0, bar_style='info', layout=Layout(width='20px'), max=1.0…"
      ]
     },
     "metadata": {},
     "output_type": "display_data"
    },
    {
     "name": "stdout",
     "output_type": "stream",
     "text": [
      "\n",
      "Downloading OMNI2_H0_MRG1HR for interval 1996-01-01 00:00:00 - 1997-01-01 00:00:00\n"
     ]
    },
    {
     "data": {
      "application/vnd.jupyter.widget-view+json": {
       "model_id": "4131760713e243999a064ab72a8cd8a6",
       "version_major": 2,
       "version_minor": 0
      },
      "text/plain": [
       "HBox(children=(HTML(value=''), FloatProgress(value=1.0, bar_style='info', layout=Layout(width='20px'), max=1.0…"
      ]
     },
     "metadata": {},
     "output_type": "display_data"
    },
    {
     "name": "stdout",
     "output_type": "stream",
     "text": [
      "\n",
      "Downloading OMNI2_H0_MRG1HR for interval 1997-01-01 00:00:00 - 1998-01-01 00:00:00\n"
     ]
    },
    {
     "data": {
      "application/vnd.jupyter.widget-view+json": {
       "model_id": "8ce700b9f79d464499eea52a902fc2ed",
       "version_major": 2,
       "version_minor": 0
      },
      "text/plain": [
       "HBox(children=(HTML(value=''), FloatProgress(value=1.0, bar_style='info', layout=Layout(width='20px'), max=1.0…"
      ]
     },
     "metadata": {},
     "output_type": "display_data"
    },
    {
     "name": "stdout",
     "output_type": "stream",
     "text": [
      "\n",
      "Downloading OMNI2_H0_MRG1HR for interval 1998-01-01 00:00:00 - 1999-01-01 00:00:00\n"
     ]
    },
    {
     "data": {
      "application/vnd.jupyter.widget-view+json": {
       "model_id": "5988e5b2e44c4bd0836467950a41fa8d",
       "version_major": 2,
       "version_minor": 0
      },
      "text/plain": [
       "HBox(children=(HTML(value=''), FloatProgress(value=1.0, bar_style='info', layout=Layout(width='20px'), max=1.0…"
      ]
     },
     "metadata": {},
     "output_type": "display_data"
    },
    {
     "name": "stdout",
     "output_type": "stream",
     "text": [
      "\n",
      "Downloading OMNI2_H0_MRG1HR for interval 1999-01-01 00:00:00 - 2000-01-01 00:00:00\n"
     ]
    },
    {
     "data": {
      "application/vnd.jupyter.widget-view+json": {
       "model_id": "860bfd7f3d584fb19460f3aac9709e4c",
       "version_major": 2,
       "version_minor": 0
      },
      "text/plain": [
       "HBox(children=(HTML(value=''), FloatProgress(value=1.0, bar_style='info', layout=Layout(width='20px'), max=1.0…"
      ]
     },
     "metadata": {},
     "output_type": "display_data"
    },
    {
     "name": "stdout",
     "output_type": "stream",
     "text": [
      "\n",
      "Downloading OMNI2_H0_MRG1HR for interval 2000-01-01 00:00:00 - 2001-01-01 00:00:00\n"
     ]
    },
    {
     "data": {
      "application/vnd.jupyter.widget-view+json": {
       "model_id": "4723ce03db874970ba5ce42a3f17bdfb",
       "version_major": 2,
       "version_minor": 0
      },
      "text/plain": [
       "HBox(children=(HTML(value=''), FloatProgress(value=1.0, bar_style='info', layout=Layout(width='20px'), max=1.0…"
      ]
     },
     "metadata": {},
     "output_type": "display_data"
    },
    {
     "name": "stdout",
     "output_type": "stream",
     "text": [
      "\n",
      "Downloading OMNI2_H0_MRG1HR for interval 2001-01-01 00:00:00 - 2002-01-01 00:00:00\n"
     ]
    },
    {
     "data": {
      "application/vnd.jupyter.widget-view+json": {
       "model_id": "1286b5d252d248b6b5dccbeda28a86b8",
       "version_major": 2,
       "version_minor": 0
      },
      "text/plain": [
       "HBox(children=(HTML(value=''), FloatProgress(value=1.0, bar_style='info', layout=Layout(width='20px'), max=1.0…"
      ]
     },
     "metadata": {},
     "output_type": "display_data"
    },
    {
     "name": "stdout",
     "output_type": "stream",
     "text": [
      "\n",
      "Downloading OMNI2_H0_MRG1HR for interval 2002-01-01 00:00:00 - 2003-01-01 00:00:00\n"
     ]
    },
    {
     "data": {
      "application/vnd.jupyter.widget-view+json": {
       "model_id": "b7d963aa90bd4d499ca95a409e618f18",
       "version_major": 2,
       "version_minor": 0
      },
      "text/plain": [
       "HBox(children=(HTML(value=''), FloatProgress(value=1.0, bar_style='info', layout=Layout(width='20px'), max=1.0…"
      ]
     },
     "metadata": {},
     "output_type": "display_data"
    },
    {
     "name": "stdout",
     "output_type": "stream",
     "text": [
      "\n",
      "Downloading OMNI2_H0_MRG1HR for interval 2003-01-01 00:00:00 - 2004-01-01 00:00:00\n"
     ]
    },
    {
     "data": {
      "application/vnd.jupyter.widget-view+json": {
       "model_id": "2aa91f89734d410fa550ce1a8e322440",
       "version_major": 2,
       "version_minor": 0
      },
      "text/plain": [
       "HBox(children=(HTML(value=''), FloatProgress(value=1.0, bar_style='info', layout=Layout(width='20px'), max=1.0…"
      ]
     },
     "metadata": {},
     "output_type": "display_data"
    },
    {
     "name": "stdout",
     "output_type": "stream",
     "text": [
      "\n",
      "Downloading OMNI2_H0_MRG1HR for interval 2004-01-01 00:00:00 - 2005-01-01 00:00:00\n"
     ]
    },
    {
     "data": {
      "application/vnd.jupyter.widget-view+json": {
       "model_id": "8ef6b7e7e22c4345aad8754b91a7ee46",
       "version_major": 2,
       "version_minor": 0
      },
      "text/plain": [
       "HBox(children=(HTML(value=''), FloatProgress(value=1.0, bar_style='info', layout=Layout(width='20px'), max=1.0…"
      ]
     },
     "metadata": {},
     "output_type": "display_data"
    },
    {
     "name": "stdout",
     "output_type": "stream",
     "text": [
      "\n",
      "Downloading OMNI2_H0_MRG1HR for interval 2011-01-01 00:00:00 - 2012-01-01 00:00:00\n"
     ]
    },
    {
     "data": {
      "application/vnd.jupyter.widget-view+json": {
       "model_id": "3a846c44e9474e6aa9a88d0ed796c75d",
       "version_major": 2,
       "version_minor": 0
      },
      "text/plain": [
       "HBox(children=(HTML(value=''), FloatProgress(value=1.0, bar_style='info', layout=Layout(width='20px'), max=1.0…"
      ]
     },
     "metadata": {},
     "output_type": "display_data"
    },
    {
     "name": "stdout",
     "output_type": "stream",
     "text": [
      "\n",
      "Downloading OMNI2_H0_MRG1HR for interval 2012-01-01 00:00:00 - 2013-01-01 00:00:00\n"
     ]
    },
    {
     "data": {
      "application/vnd.jupyter.widget-view+json": {
       "model_id": "011b9377e91c4ffabd2b46b9b68f4563",
       "version_major": 2,
       "version_minor": 0
      },
      "text/plain": [
       "HBox(children=(HTML(value=''), FloatProgress(value=1.0, bar_style='info', layout=Layout(width='20px'), max=1.0…"
      ]
     },
     "metadata": {},
     "output_type": "display_data"
    },
    {
     "name": "stdout",
     "output_type": "stream",
     "text": [
      "\n",
      "Downloading OMNI2_H0_MRG1HR for interval 2013-01-01 00:00:00 - 2014-01-01 00:00:00\n"
     ]
    },
    {
     "data": {
      "application/vnd.jupyter.widget-view+json": {
       "model_id": "6b2aee667d9444cb80911f200c9d4ebc",
       "version_major": 2,
       "version_minor": 0
      },
      "text/plain": [
       "HBox(children=(HTML(value=''), FloatProgress(value=1.0, bar_style='info', layout=Layout(width='20px'), max=1.0…"
      ]
     },
     "metadata": {},
     "output_type": "display_data"
    },
    {
     "name": "stdout",
     "output_type": "stream",
     "text": [
      "\n",
      "Downloading OMNI2_H0_MRG1HR for interval 2014-01-01 00:00:00 - 2015-01-01 00:00:00\n"
     ]
    },
    {
     "data": {
      "application/vnd.jupyter.widget-view+json": {
       "model_id": "900981fa09f14f1f93c33888232770fb",
       "version_major": 2,
       "version_minor": 0
      },
      "text/plain": [
       "HBox(children=(HTML(value=''), FloatProgress(value=1.0, bar_style='info', layout=Layout(width='20px'), max=1.0…"
      ]
     },
     "metadata": {},
     "output_type": "display_data"
    },
    {
     "name": "stdout",
     "output_type": "stream",
     "text": [
      "\n",
      "Downloading OMNI2_H0_MRG1HR for interval 2015-01-01 00:00:00 - 2016-01-01 00:00:00\n"
     ]
    },
    {
     "data": {
      "application/vnd.jupyter.widget-view+json": {
       "model_id": "0e1a441c74b0423da73b70283178f44b",
       "version_major": 2,
       "version_minor": 0
      },
      "text/plain": [
       "HBox(children=(HTML(value=''), FloatProgress(value=1.0, bar_style='info', layout=Layout(width='20px'), max=1.0…"
      ]
     },
     "metadata": {},
     "output_type": "display_data"
    },
    {
     "name": "stdout",
     "output_type": "stream",
     "text": [
      "\n",
      "Downloading OMNI2_H0_MRG1HR for interval 2016-01-01 00:00:00 - 2017-01-01 00:00:00\n"
     ]
    },
    {
     "data": {
      "application/vnd.jupyter.widget-view+json": {
       "model_id": "f9519ab7712a48a8a5c4f03f2ad15db4",
       "version_major": 2,
       "version_minor": 0
      },
      "text/plain": [
       "HBox(children=(HTML(value=''), FloatProgress(value=1.0, bar_style='info', layout=Layout(width='20px'), max=1.0…"
      ]
     },
     "metadata": {},
     "output_type": "display_data"
    },
    {
     "name": "stdout",
     "output_type": "stream",
     "text": [
      "\n",
      "Downloading OMNI2_H0_MRG1HR for interval 2017-01-01 00:00:00 - 2018-01-01 00:00:00\n"
     ]
    },
    {
     "data": {
      "application/vnd.jupyter.widget-view+json": {
       "model_id": "e63d6d5476b24ebfb28b02fa1108e926",
       "version_major": 2,
       "version_minor": 0
      },
      "text/plain": [
       "HBox(children=(HTML(value=''), FloatProgress(value=1.0, bar_style='info', layout=Layout(width='20px'), max=1.0…"
      ]
     },
     "metadata": {},
     "output_type": "display_data"
    },
    {
     "name": "stdout",
     "output_type": "stream",
     "text": [
      "\n",
      "Downloading OMNI2_H0_MRG1HR for interval 2018-01-01 00:00:00 - 2019-01-01 00:00:00\n"
     ]
    },
    {
     "data": {
      "application/vnd.jupyter.widget-view+json": {
       "model_id": "6aa61b1883224f5fa76f83862c267501",
       "version_major": 2,
       "version_minor": 0
      },
      "text/plain": [
       "HBox(children=(HTML(value=''), FloatProgress(value=1.0, bar_style='info', layout=Layout(width='20px'), max=1.0…"
      ]
     },
     "metadata": {},
     "output_type": "display_data"
    },
    {
     "name": "stdout",
     "output_type": "stream",
     "text": [
      "\n",
      "Downloading OMNI2_H0_MRG1HR for interval 2019-01-01 00:00:00 - 2020-01-01 00:00:00\n"
     ]
    },
    {
     "data": {
      "application/vnd.jupyter.widget-view+json": {
       "model_id": "61004fb6e00346c09720ee2ff66e8bdb",
       "version_major": 2,
       "version_minor": 0
      },
      "text/plain": [
       "HBox(children=(HTML(value=''), FloatProgress(value=1.0, bar_style='info', layout=Layout(width='20px'), max=1.0…"
      ]
     },
     "metadata": {},
     "output_type": "display_data"
    },
    {
     "name": "stdout",
     "output_type": "stream",
     "text": [
      "\n",
      "Downloading OMNI2_H0_MRG1HR for interval 2020-01-01 00:00:00 - 2021-01-01 00:00:00\n"
     ]
    },
    {
     "data": {
      "application/vnd.jupyter.widget-view+json": {
       "model_id": "d6bd5cf8000f4b2691601d48a1caeabe",
       "version_major": 2,
       "version_minor": 0
      },
      "text/plain": [
       "HBox(children=(HTML(value=''), FloatProgress(value=1.0, bar_style='info', layout=Layout(width='20px'), max=1.0…"
      ]
     },
     "metadata": {},
     "output_type": "display_data"
    },
    {
     "name": "stdout",
     "output_type": "stream",
     "text": [
      "\n",
      "Downloading OMNI2_H0_MRG1HR for interval 2021-01-01 00:00:00 - 2022-01-01 00:00:00\n"
     ]
    },
    {
     "data": {
      "application/vnd.jupyter.widget-view+json": {
       "model_id": "19489ad23bae4a22afbdebdf67e2bea7",
       "version_major": 2,
       "version_minor": 0
      },
      "text/plain": [
       "HBox(children=(HTML(value=''), FloatProgress(value=1.0, bar_style='info', layout=Layout(width='20px'), max=1.0…"
      ]
     },
     "metadata": {},
     "output_type": "display_data"
    },
    {
     "name": "stdout",
     "output_type": "stream",
     "text": [
      "\n",
      "Downloading OMNI2_H0_MRG1HR for interval 2022-01-01 00:00:00 - 2023-01-01 00:00:00\n"
     ]
    },
    {
     "data": {
      "application/vnd.jupyter.widget-view+json": {
       "model_id": "0dcb9def59574c5592ebcf8d90192289",
       "version_major": 2,
       "version_minor": 0
      },
      "text/plain": [
       "HBox(children=(HTML(value=''), FloatProgress(value=1.0, bar_style='info', layout=Layout(width='20px'), max=1.0…"
      ]
     },
     "metadata": {},
     "output_type": "display_data"
    },
    {
     "name": "stdout",
     "output_type": "stream",
     "text": [
      "\n"
     ]
    },
    {
     "data": {
      "text/html": [
       "<div>\n",
       "<style scoped>\n",
       "    .dataframe tbody tr th:only-of-type {\n",
       "        vertical-align: middle;\n",
       "    }\n",
       "\n",
       "    .dataframe tbody tr th {\n",
       "        vertical-align: top;\n",
       "    }\n",
       "\n",
       "    .dataframe thead th {\n",
       "        text-align: right;\n",
       "    }\n",
       "</style>\n",
       "<table border=\"1\" class=\"dataframe\">\n",
       "  <thead>\n",
       "    <tr style=\"text-align: right;\">\n",
       "      <th>products</th>\n",
       "      <th>Rot$</th>\n",
       "      <th>IMF</th>\n",
       "      <th>PLS</th>\n",
       "      <th>IMF_PTS</th>\n",
       "      <th>PLS_PTS</th>\n",
       "      <th>ABS_B</th>\n",
       "      <th>F</th>\n",
       "      <th>THETA_AV</th>\n",
       "      <th>PHI_AV</th>\n",
       "      <th>BX_GSE</th>\n",
       "      <th>...</th>\n",
       "      <th>F10_INDEX</th>\n",
       "      <th>KP</th>\n",
       "      <th>DST</th>\n",
       "      <th>AE</th>\n",
       "      <th>AP_INDEX</th>\n",
       "      <th>AL_INDEX</th>\n",
       "      <th>AU_INDEX</th>\n",
       "      <th>PC_N_INDEX</th>\n",
       "      <th>Solar_Lyman_alpha</th>\n",
       "      <th>Proton_QI</th>\n",
       "    </tr>\n",
       "  </thead>\n",
       "  <tbody>\n",
       "    <tr>\n",
       "      <th>count</th>\n",
       "      <td>520443.000000</td>\n",
       "      <td>520443.000000</td>\n",
       "      <td>520443.000000</td>\n",
       "      <td>520443.000000</td>\n",
       "      <td>520443.000000</td>\n",
       "      <td>396376.000000</td>\n",
       "      <td>396376.000000</td>\n",
       "      <td>396376.000000</td>\n",
       "      <td>396376.000000</td>\n",
       "      <td>396376.000000</td>\n",
       "      <td>...</td>\n",
       "      <td>519920.000000</td>\n",
       "      <td>520443.000000</td>\n",
       "      <td>520443.000000</td>\n",
       "      <td>520443.000000</td>\n",
       "      <td>520443.000000</td>\n",
       "      <td>520443.000000</td>\n",
       "      <td>520443.000000</td>\n",
       "      <td>402961.000000</td>\n",
       "      <td>520402.000000</td>\n",
       "      <td>359573.000000</td>\n",
       "    </tr>\n",
       "    <tr>\n",
       "      <th>mean</th>\n",
       "      <td>2177.087925</td>\n",
       "      <td>58.947424</td>\n",
       "      <td>61.946194</td>\n",
       "      <td>322.009513</td>\n",
       "      <td>294.317610</td>\n",
       "      <td>6.115098</td>\n",
       "      <td>5.439421</td>\n",
       "      <td>-0.235922</td>\n",
       "      <td>202.769985</td>\n",
       "      <td>0.034788</td>\n",
       "      <td>...</td>\n",
       "      <td>116.489082</td>\n",
       "      <td>20.954179</td>\n",
       "      <td>-14.125015</td>\n",
       "      <td>1403.020265</td>\n",
       "      <td>12.994697</td>\n",
       "      <td>17225.349256</td>\n",
       "      <td>17394.543254</td>\n",
       "      <td>1.047117</td>\n",
       "      <td>0.007321</td>\n",
       "      <td>0.022997</td>\n",
       "    </tr>\n",
       "    <tr>\n",
       "      <th>std</th>\n",
       "      <td>299.206274</td>\n",
       "      <td>26.605620</td>\n",
       "      <td>25.589225</td>\n",
       "      <td>427.230991</td>\n",
       "      <td>432.929168</td>\n",
       "      <td>3.147451</td>\n",
       "      <td>3.027877</td>\n",
       "      <td>28.678670</td>\n",
       "      <td>101.291808</td>\n",
       "      <td>3.660926</td>\n",
       "      <td>...</td>\n",
       "      <td>47.999534</td>\n",
       "      <td>14.300255</td>\n",
       "      <td>22.034833</td>\n",
       "      <td>3221.366717</td>\n",
       "      <td>29.832997</td>\n",
       "      <td>37898.442376</td>\n",
       "      <td>37820.784796</td>\n",
       "      <td>1.400583</td>\n",
       "      <td>0.001130</td>\n",
       "      <td>0.040987</td>\n",
       "    </tr>\n",
       "    <tr>\n",
       "      <th>min</th>\n",
       "      <td>1771.000000</td>\n",
       "      <td>1.000000</td>\n",
       "      <td>1.000000</td>\n",
       "      <td>1.000000</td>\n",
       "      <td>1.000000</td>\n",
       "      <td>0.400000</td>\n",
       "      <td>0.100000</td>\n",
       "      <td>-89.699997</td>\n",
       "      <td>-90.000000</td>\n",
       "      <td>-40.799999</td>\n",
       "      <td>...</td>\n",
       "      <td>63.400002</td>\n",
       "      <td>0.000000</td>\n",
       "      <td>-589.000000</td>\n",
       "      <td>3.000000</td>\n",
       "      <td>0.000000</td>\n",
       "      <td>-2740.000000</td>\n",
       "      <td>-529.000000</td>\n",
       "      <td>-21.500000</td>\n",
       "      <td>0.005654</td>\n",
       "      <td>0.000100</td>\n",
       "    </tr>\n",
       "    <tr>\n",
       "      <th>25%</th>\n",
       "      <td>1972.000000</td>\n",
       "      <td>50.000000</td>\n",
       "      <td>50.000000</td>\n",
       "      <td>57.000000</td>\n",
       "      <td>24.000000</td>\n",
       "      <td>4.100000</td>\n",
       "      <td>3.500000</td>\n",
       "      <td>-18.200001</td>\n",
       "      <td>123.300003</td>\n",
       "      <td>-2.700000</td>\n",
       "      <td>...</td>\n",
       "      <td>75.800003</td>\n",
       "      <td>10.000000</td>\n",
       "      <td>-22.000000</td>\n",
       "      <td>60.000000</td>\n",
       "      <td>4.000000</td>\n",
       "      <td>-145.000000</td>\n",
       "      <td>31.000000</td>\n",
       "      <td>0.100000</td>\n",
       "      <td>0.006331</td>\n",
       "      <td>0.009100</td>\n",
       "    </tr>\n",
       "    <tr>\n",
       "      <th>50%</th>\n",
       "      <td>2173.000000</td>\n",
       "      <td>51.000000</td>\n",
       "      <td>52.000000</td>\n",
       "      <td>60.000000</td>\n",
       "      <td>36.000000</td>\n",
       "      <td>5.400000</td>\n",
       "      <td>4.800000</td>\n",
       "      <td>0.000000</td>\n",
       "      <td>183.699997</td>\n",
       "      <td>0.100000</td>\n",
       "      <td>...</td>\n",
       "      <td>100.900002</td>\n",
       "      <td>20.000000</td>\n",
       "      <td>-10.000000</td>\n",
       "      <td>152.000000</td>\n",
       "      <td>7.000000</td>\n",
       "      <td>-42.000000</td>\n",
       "      <td>72.000000</td>\n",
       "      <td>0.700000</td>\n",
       "      <td>0.007040</td>\n",
       "      <td>0.015100</td>\n",
       "    </tr>\n",
       "    <tr>\n",
       "      <th>75%</th>\n",
       "      <td>2374.000000</td>\n",
       "      <td>71.000000</td>\n",
       "      <td>97.000000</td>\n",
       "      <td>999.000000</td>\n",
       "      <td>999.000000</td>\n",
       "      <td>7.300000</td>\n",
       "      <td>6.500000</td>\n",
       "      <td>17.900000</td>\n",
       "      <td>303.100006</td>\n",
       "      <td>2.700000</td>\n",
       "      <td>...</td>\n",
       "      <td>145.399994</td>\n",
       "      <td>30.000000</td>\n",
       "      <td>-1.000000</td>\n",
       "      <td>405.000000</td>\n",
       "      <td>15.000000</td>\n",
       "      <td>-11.000000</td>\n",
       "      <td>181.000000</td>\n",
       "      <td>1.600000</td>\n",
       "      <td>0.008082</td>\n",
       "      <td>0.025400</td>\n",
       "    </tr>\n",
       "    <tr>\n",
       "      <th>max</th>\n",
       "      <td>9999.000000</td>\n",
       "      <td>99.000000</td>\n",
       "      <td>99.000000</td>\n",
       "      <td>999.000000</td>\n",
       "      <td>999.000000</td>\n",
       "      <td>62.000000</td>\n",
       "      <td>60.700001</td>\n",
       "      <td>90.000000</td>\n",
       "      <td>360.000000</td>\n",
       "      <td>34.799999</td>\n",
       "      <td>...</td>\n",
       "      <td>367.000000</td>\n",
       "      <td>99.000000</td>\n",
       "      <td>81.000000</td>\n",
       "      <td>9999.000000</td>\n",
       "      <td>999.000000</td>\n",
       "      <td>99999.000000</td>\n",
       "      <td>99999.000000</td>\n",
       "      <td>28.299999</td>\n",
       "      <td>0.011220</td>\n",
       "      <td>3.280800</td>\n",
       "    </tr>\n",
       "  </tbody>\n",
       "</table>\n",
       "<p>8 rows × 54 columns</p>\n",
       "</div>"
      ],
      "text/plain": [
       "products           Rot$            IMF            PLS        IMF_PTS  \\\n",
       "count     520443.000000  520443.000000  520443.000000  520443.000000   \n",
       "mean        2177.087925      58.947424      61.946194     322.009513   \n",
       "std          299.206274      26.605620      25.589225     427.230991   \n",
       "min         1771.000000       1.000000       1.000000       1.000000   \n",
       "25%         1972.000000      50.000000      50.000000      57.000000   \n",
       "50%         2173.000000      51.000000      52.000000      60.000000   \n",
       "75%         2374.000000      71.000000      97.000000     999.000000   \n",
       "max         9999.000000      99.000000      99.000000     999.000000   \n",
       "\n",
       "products        PLS_PTS          ABS_B              F       THETA_AV  \\\n",
       "count     520443.000000  396376.000000  396376.000000  396376.000000   \n",
       "mean         294.317610       6.115098       5.439421      -0.235922   \n",
       "std          432.929168       3.147451       3.027877      28.678670   \n",
       "min            1.000000       0.400000       0.100000     -89.699997   \n",
       "25%           24.000000       4.100000       3.500000     -18.200001   \n",
       "50%           36.000000       5.400000       4.800000       0.000000   \n",
       "75%          999.000000       7.300000       6.500000      17.900000   \n",
       "max          999.000000      62.000000      60.700001      90.000000   \n",
       "\n",
       "products         PHI_AV         BX_GSE  ...      F10_INDEX             KP  \\\n",
       "count     396376.000000  396376.000000  ...  519920.000000  520443.000000   \n",
       "mean         202.769985       0.034788  ...     116.489082      20.954179   \n",
       "std          101.291808       3.660926  ...      47.999534      14.300255   \n",
       "min          -90.000000     -40.799999  ...      63.400002       0.000000   \n",
       "25%          123.300003      -2.700000  ...      75.800003      10.000000   \n",
       "50%          183.699997       0.100000  ...     100.900002      20.000000   \n",
       "75%          303.100006       2.700000  ...     145.399994      30.000000   \n",
       "max          360.000000      34.799999  ...     367.000000      99.000000   \n",
       "\n",
       "products            DST             AE       AP_INDEX       AL_INDEX  \\\n",
       "count     520443.000000  520443.000000  520443.000000  520443.000000   \n",
       "mean         -14.125015    1403.020265      12.994697   17225.349256   \n",
       "std           22.034833    3221.366717      29.832997   37898.442376   \n",
       "min         -589.000000       3.000000       0.000000   -2740.000000   \n",
       "25%          -22.000000      60.000000       4.000000    -145.000000   \n",
       "50%          -10.000000     152.000000       7.000000     -42.000000   \n",
       "75%           -1.000000     405.000000      15.000000     -11.000000   \n",
       "max           81.000000    9999.000000     999.000000   99999.000000   \n",
       "\n",
       "products       AU_INDEX     PC_N_INDEX  Solar_Lyman_alpha      Proton_QI  \n",
       "count     520443.000000  402961.000000      520402.000000  359573.000000  \n",
       "mean       17394.543254       1.047117           0.007321       0.022997  \n",
       "std        37820.784796       1.400583           0.001130       0.040987  \n",
       "min         -529.000000     -21.500000           0.005654       0.000100  \n",
       "25%           31.000000       0.100000           0.006331       0.009100  \n",
       "50%           72.000000       0.700000           0.007040       0.015100  \n",
       "75%          181.000000       1.600000           0.008082       0.025400  \n",
       "max        99999.000000      28.299999           0.011220       3.280800  \n",
       "\n",
       "[8 rows x 54 columns]"
      ]
     },
     "execution_count": 9,
     "metadata": {},
     "output_type": "execute_result"
    }
   ],
   "source": [
    "# Zvolime si casove obdobie zaznamov dat od-do\n",
    "t0 = datetime(1963, 1, 1)\n",
    "t1 = datetime(2022, 5, 28)\n",
    "\n",
    "# Nacitanie dat\n",
    "omnixr = load_data(mission='omni', start_time=t0, end_time=t1)\n",
    "\n",
    "# Pretypovanie na format pandas\n",
    "pd_data = omnixr['all1'].to_pandas()\n",
    "\n",
    "pd_data.describe()"
   ]
  },
  {
   "cell_type": "markdown",
   "metadata": {},
   "source": [
    "### Uloženie dát do súboru .csv"
   ]
  },
  {
   "cell_type": "code",
   "execution_count": 10,
   "metadata": {},
   "outputs": [],
   "source": [
    "pd_data.to_csv('omni_full.csv') "
   ]
  },
  {
   "cell_type": "code",
   "execution_count": 11,
   "metadata": {},
   "outputs": [
    {
     "data": {
      "text/html": [
       "<div>\n",
       "<style scoped>\n",
       "    .dataframe tbody tr th:only-of-type {\n",
       "        vertical-align: middle;\n",
       "    }\n",
       "\n",
       "    .dataframe tbody tr th {\n",
       "        vertical-align: top;\n",
       "    }\n",
       "\n",
       "    .dataframe thead th {\n",
       "        text-align: right;\n",
       "    }\n",
       "</style>\n",
       "<table border=\"1\" class=\"dataframe\">\n",
       "  <thead>\n",
       "    <tr style=\"text-align: right;\">\n",
       "      <th>products</th>\n",
       "      <th>Rot$</th>\n",
       "      <th>IMF</th>\n",
       "      <th>PLS</th>\n",
       "      <th>IMF_PTS</th>\n",
       "      <th>PLS_PTS</th>\n",
       "      <th>ABS_B</th>\n",
       "      <th>F</th>\n",
       "      <th>THETA_AV</th>\n",
       "      <th>PHI_AV</th>\n",
       "      <th>BX_GSE</th>\n",
       "      <th>...</th>\n",
       "      <th>F10_INDEX</th>\n",
       "      <th>KP</th>\n",
       "      <th>DST</th>\n",
       "      <th>AE</th>\n",
       "      <th>AP_INDEX</th>\n",
       "      <th>AL_INDEX</th>\n",
       "      <th>AU_INDEX</th>\n",
       "      <th>PC_N_INDEX</th>\n",
       "      <th>Solar_Lyman_alpha</th>\n",
       "      <th>Proton_QI</th>\n",
       "    </tr>\n",
       "    <tr>\n",
       "      <th>time1</th>\n",
       "      <th></th>\n",
       "      <th></th>\n",
       "      <th></th>\n",
       "      <th></th>\n",
       "      <th></th>\n",
       "      <th></th>\n",
       "      <th></th>\n",
       "      <th></th>\n",
       "      <th></th>\n",
       "      <th></th>\n",
       "      <th></th>\n",
       "      <th></th>\n",
       "      <th></th>\n",
       "      <th></th>\n",
       "      <th></th>\n",
       "      <th></th>\n",
       "      <th></th>\n",
       "      <th></th>\n",
       "      <th></th>\n",
       "      <th></th>\n",
       "      <th></th>\n",
       "    </tr>\n",
       "  </thead>\n",
       "  <tbody>\n",
       "    <tr>\n",
       "      <th>1963-01-01 01:00:00</th>\n",
       "      <td>1771.0</td>\n",
       "      <td>99.0</td>\n",
       "      <td>99.0</td>\n",
       "      <td>999.0</td>\n",
       "      <td>999.0</td>\n",
       "      <td>NaN</td>\n",
       "      <td>NaN</td>\n",
       "      <td>NaN</td>\n",
       "      <td>NaN</td>\n",
       "      <td>NaN</td>\n",
       "      <td>...</td>\n",
       "      <td>NaN</td>\n",
       "      <td>7.0</td>\n",
       "      <td>-5.0</td>\n",
       "      <td>143.0</td>\n",
       "      <td>3.0</td>\n",
       "      <td>99999.0</td>\n",
       "      <td>99999.0</td>\n",
       "      <td>NaN</td>\n",
       "      <td>0.006194</td>\n",
       "      <td>NaN</td>\n",
       "    </tr>\n",
       "    <tr>\n",
       "      <th>1963-01-01 02:00:00</th>\n",
       "      <td>1771.0</td>\n",
       "      <td>99.0</td>\n",
       "      <td>99.0</td>\n",
       "      <td>999.0</td>\n",
       "      <td>999.0</td>\n",
       "      <td>NaN</td>\n",
       "      <td>NaN</td>\n",
       "      <td>NaN</td>\n",
       "      <td>NaN</td>\n",
       "      <td>NaN</td>\n",
       "      <td>...</td>\n",
       "      <td>NaN</td>\n",
       "      <td>7.0</td>\n",
       "      <td>-5.0</td>\n",
       "      <td>66.0</td>\n",
       "      <td>3.0</td>\n",
       "      <td>99999.0</td>\n",
       "      <td>99999.0</td>\n",
       "      <td>NaN</td>\n",
       "      <td>0.006194</td>\n",
       "      <td>NaN</td>\n",
       "    </tr>\n",
       "    <tr>\n",
       "      <th>1963-01-01 03:00:00</th>\n",
       "      <td>1771.0</td>\n",
       "      <td>99.0</td>\n",
       "      <td>99.0</td>\n",
       "      <td>999.0</td>\n",
       "      <td>999.0</td>\n",
       "      <td>NaN</td>\n",
       "      <td>NaN</td>\n",
       "      <td>NaN</td>\n",
       "      <td>NaN</td>\n",
       "      <td>NaN</td>\n",
       "      <td>...</td>\n",
       "      <td>NaN</td>\n",
       "      <td>20.0</td>\n",
       "      <td>-3.0</td>\n",
       "      <td>51.0</td>\n",
       "      <td>7.0</td>\n",
       "      <td>99999.0</td>\n",
       "      <td>99999.0</td>\n",
       "      <td>NaN</td>\n",
       "      <td>0.006194</td>\n",
       "      <td>NaN</td>\n",
       "    </tr>\n",
       "    <tr>\n",
       "      <th>1963-01-01 04:00:00</th>\n",
       "      <td>1771.0</td>\n",
       "      <td>99.0</td>\n",
       "      <td>99.0</td>\n",
       "      <td>999.0</td>\n",
       "      <td>999.0</td>\n",
       "      <td>NaN</td>\n",
       "      <td>NaN</td>\n",
       "      <td>NaN</td>\n",
       "      <td>NaN</td>\n",
       "      <td>NaN</td>\n",
       "      <td>...</td>\n",
       "      <td>NaN</td>\n",
       "      <td>20.0</td>\n",
       "      <td>-3.0</td>\n",
       "      <td>95.0</td>\n",
       "      <td>7.0</td>\n",
       "      <td>99999.0</td>\n",
       "      <td>99999.0</td>\n",
       "      <td>NaN</td>\n",
       "      <td>0.006194</td>\n",
       "      <td>NaN</td>\n",
       "    </tr>\n",
       "    <tr>\n",
       "      <th>1963-01-01 05:00:00</th>\n",
       "      <td>1771.0</td>\n",
       "      <td>99.0</td>\n",
       "      <td>99.0</td>\n",
       "      <td>999.0</td>\n",
       "      <td>999.0</td>\n",
       "      <td>NaN</td>\n",
       "      <td>NaN</td>\n",
       "      <td>NaN</td>\n",
       "      <td>NaN</td>\n",
       "      <td>NaN</td>\n",
       "      <td>...</td>\n",
       "      <td>NaN</td>\n",
       "      <td>20.0</td>\n",
       "      <td>-6.0</td>\n",
       "      <td>57.0</td>\n",
       "      <td>7.0</td>\n",
       "      <td>99999.0</td>\n",
       "      <td>99999.0</td>\n",
       "      <td>NaN</td>\n",
       "      <td>0.006194</td>\n",
       "      <td>NaN</td>\n",
       "    </tr>\n",
       "  </tbody>\n",
       "</table>\n",
       "<p>5 rows × 54 columns</p>\n",
       "</div>"
      ],
      "text/plain": [
       "products               Rot$   IMF   PLS  IMF_PTS  PLS_PTS  ABS_B   F  \\\n",
       "time1                                                                  \n",
       "1963-01-01 01:00:00  1771.0  99.0  99.0    999.0    999.0    NaN NaN   \n",
       "1963-01-01 02:00:00  1771.0  99.0  99.0    999.0    999.0    NaN NaN   \n",
       "1963-01-01 03:00:00  1771.0  99.0  99.0    999.0    999.0    NaN NaN   \n",
       "1963-01-01 04:00:00  1771.0  99.0  99.0    999.0    999.0    NaN NaN   \n",
       "1963-01-01 05:00:00  1771.0  99.0  99.0    999.0    999.0    NaN NaN   \n",
       "\n",
       "products             THETA_AV  PHI_AV  BX_GSE  ...  F10_INDEX    KP  DST  \\\n",
       "time1                                          ...                         \n",
       "1963-01-01 01:00:00       NaN     NaN     NaN  ...        NaN   7.0 -5.0   \n",
       "1963-01-01 02:00:00       NaN     NaN     NaN  ...        NaN   7.0 -5.0   \n",
       "1963-01-01 03:00:00       NaN     NaN     NaN  ...        NaN  20.0 -3.0   \n",
       "1963-01-01 04:00:00       NaN     NaN     NaN  ...        NaN  20.0 -3.0   \n",
       "1963-01-01 05:00:00       NaN     NaN     NaN  ...        NaN  20.0 -6.0   \n",
       "\n",
       "products                AE  AP_INDEX  AL_INDEX  AU_INDEX  PC_N_INDEX  \\\n",
       "time1                                                                  \n",
       "1963-01-01 01:00:00  143.0       3.0   99999.0   99999.0         NaN   \n",
       "1963-01-01 02:00:00   66.0       3.0   99999.0   99999.0         NaN   \n",
       "1963-01-01 03:00:00   51.0       7.0   99999.0   99999.0         NaN   \n",
       "1963-01-01 04:00:00   95.0       7.0   99999.0   99999.0         NaN   \n",
       "1963-01-01 05:00:00   57.0       7.0   99999.0   99999.0         NaN   \n",
       "\n",
       "products             Solar_Lyman_alpha  Proton_QI  \n",
       "time1                                              \n",
       "1963-01-01 01:00:00           0.006194        NaN  \n",
       "1963-01-01 02:00:00           0.006194        NaN  \n",
       "1963-01-01 03:00:00           0.006194        NaN  \n",
       "1963-01-01 04:00:00           0.006194        NaN  \n",
       "1963-01-01 05:00:00           0.006194        NaN  \n",
       "\n",
       "[5 rows x 54 columns]"
      ]
     },
     "execution_count": 11,
     "metadata": {},
     "output_type": "execute_result"
    }
   ],
   "source": [
    "pd_data.head()"
   ]
  },
  {
   "cell_type": "code",
   "execution_count": 12,
   "metadata": {},
   "outputs": [
    {
     "data": {
      "text/html": [
       "<div>\n",
       "<style scoped>\n",
       "    .dataframe tbody tr th:only-of-type {\n",
       "        vertical-align: middle;\n",
       "    }\n",
       "\n",
       "    .dataframe tbody tr th {\n",
       "        vertical-align: top;\n",
       "    }\n",
       "\n",
       "    .dataframe thead th {\n",
       "        text-align: right;\n",
       "    }\n",
       "</style>\n",
       "<table border=\"1\" class=\"dataframe\">\n",
       "  <thead>\n",
       "    <tr style=\"text-align: right;\">\n",
       "      <th>products</th>\n",
       "      <th>Rot$</th>\n",
       "      <th>IMF</th>\n",
       "      <th>PLS</th>\n",
       "      <th>IMF_PTS</th>\n",
       "      <th>PLS_PTS</th>\n",
       "      <th>ABS_B</th>\n",
       "      <th>F</th>\n",
       "      <th>THETA_AV</th>\n",
       "      <th>PHI_AV</th>\n",
       "      <th>BX_GSE</th>\n",
       "      <th>...</th>\n",
       "      <th>F10_INDEX</th>\n",
       "      <th>KP</th>\n",
       "      <th>DST</th>\n",
       "      <th>AE</th>\n",
       "      <th>AP_INDEX</th>\n",
       "      <th>AL_INDEX</th>\n",
       "      <th>AU_INDEX</th>\n",
       "      <th>PC_N_INDEX</th>\n",
       "      <th>Solar_Lyman_alpha</th>\n",
       "      <th>Proton_QI</th>\n",
       "    </tr>\n",
       "    <tr>\n",
       "      <th>time1</th>\n",
       "      <th></th>\n",
       "      <th></th>\n",
       "      <th></th>\n",
       "      <th></th>\n",
       "      <th></th>\n",
       "      <th></th>\n",
       "      <th></th>\n",
       "      <th></th>\n",
       "      <th></th>\n",
       "      <th></th>\n",
       "      <th></th>\n",
       "      <th></th>\n",
       "      <th></th>\n",
       "      <th></th>\n",
       "      <th></th>\n",
       "      <th></th>\n",
       "      <th></th>\n",
       "      <th></th>\n",
       "      <th></th>\n",
       "      <th></th>\n",
       "      <th></th>\n",
       "    </tr>\n",
       "  </thead>\n",
       "  <tbody>\n",
       "    <tr>\n",
       "      <th>2022-05-13 12:00:00</th>\n",
       "      <td>9999.0</td>\n",
       "      <td>99.0</td>\n",
       "      <td>99.0</td>\n",
       "      <td>999.0</td>\n",
       "      <td>999.0</td>\n",
       "      <td>NaN</td>\n",
       "      <td>NaN</td>\n",
       "      <td>NaN</td>\n",
       "      <td>NaN</td>\n",
       "      <td>NaN</td>\n",
       "      <td>...</td>\n",
       "      <td>NaN</td>\n",
       "      <td>99.0</td>\n",
       "      <td>2.0</td>\n",
       "      <td>9999.0</td>\n",
       "      <td>999.0</td>\n",
       "      <td>99999.0</td>\n",
       "      <td>99999.0</td>\n",
       "      <td>NaN</td>\n",
       "      <td>NaN</td>\n",
       "      <td>NaN</td>\n",
       "    </tr>\n",
       "    <tr>\n",
       "      <th>2022-05-13 13:00:00</th>\n",
       "      <td>9999.0</td>\n",
       "      <td>99.0</td>\n",
       "      <td>99.0</td>\n",
       "      <td>999.0</td>\n",
       "      <td>999.0</td>\n",
       "      <td>NaN</td>\n",
       "      <td>NaN</td>\n",
       "      <td>NaN</td>\n",
       "      <td>NaN</td>\n",
       "      <td>NaN</td>\n",
       "      <td>...</td>\n",
       "      <td>NaN</td>\n",
       "      <td>99.0</td>\n",
       "      <td>4.0</td>\n",
       "      <td>9999.0</td>\n",
       "      <td>999.0</td>\n",
       "      <td>99999.0</td>\n",
       "      <td>99999.0</td>\n",
       "      <td>NaN</td>\n",
       "      <td>NaN</td>\n",
       "      <td>NaN</td>\n",
       "    </tr>\n",
       "    <tr>\n",
       "      <th>2022-05-13 14:00:00</th>\n",
       "      <td>9999.0</td>\n",
       "      <td>99.0</td>\n",
       "      <td>99.0</td>\n",
       "      <td>999.0</td>\n",
       "      <td>999.0</td>\n",
       "      <td>NaN</td>\n",
       "      <td>NaN</td>\n",
       "      <td>NaN</td>\n",
       "      <td>NaN</td>\n",
       "      <td>NaN</td>\n",
       "      <td>...</td>\n",
       "      <td>NaN</td>\n",
       "      <td>99.0</td>\n",
       "      <td>5.0</td>\n",
       "      <td>9999.0</td>\n",
       "      <td>999.0</td>\n",
       "      <td>99999.0</td>\n",
       "      <td>99999.0</td>\n",
       "      <td>NaN</td>\n",
       "      <td>NaN</td>\n",
       "      <td>NaN</td>\n",
       "    </tr>\n",
       "    <tr>\n",
       "      <th>2022-05-13 15:00:00</th>\n",
       "      <td>9999.0</td>\n",
       "      <td>99.0</td>\n",
       "      <td>99.0</td>\n",
       "      <td>999.0</td>\n",
       "      <td>999.0</td>\n",
       "      <td>NaN</td>\n",
       "      <td>NaN</td>\n",
       "      <td>NaN</td>\n",
       "      <td>NaN</td>\n",
       "      <td>NaN</td>\n",
       "      <td>...</td>\n",
       "      <td>NaN</td>\n",
       "      <td>99.0</td>\n",
       "      <td>5.0</td>\n",
       "      <td>9999.0</td>\n",
       "      <td>999.0</td>\n",
       "      <td>99999.0</td>\n",
       "      <td>99999.0</td>\n",
       "      <td>NaN</td>\n",
       "      <td>NaN</td>\n",
       "      <td>NaN</td>\n",
       "    </tr>\n",
       "    <tr>\n",
       "      <th>2022-05-13 16:00:00</th>\n",
       "      <td>9999.0</td>\n",
       "      <td>99.0</td>\n",
       "      <td>99.0</td>\n",
       "      <td>999.0</td>\n",
       "      <td>999.0</td>\n",
       "      <td>NaN</td>\n",
       "      <td>NaN</td>\n",
       "      <td>NaN</td>\n",
       "      <td>NaN</td>\n",
       "      <td>NaN</td>\n",
       "      <td>...</td>\n",
       "      <td>NaN</td>\n",
       "      <td>99.0</td>\n",
       "      <td>4.0</td>\n",
       "      <td>9999.0</td>\n",
       "      <td>999.0</td>\n",
       "      <td>99999.0</td>\n",
       "      <td>99999.0</td>\n",
       "      <td>NaN</td>\n",
       "      <td>NaN</td>\n",
       "      <td>NaN</td>\n",
       "    </tr>\n",
       "  </tbody>\n",
       "</table>\n",
       "<p>5 rows × 54 columns</p>\n",
       "</div>"
      ],
      "text/plain": [
       "products               Rot$   IMF   PLS  IMF_PTS  PLS_PTS  ABS_B   F  \\\n",
       "time1                                                                  \n",
       "2022-05-13 12:00:00  9999.0  99.0  99.0    999.0    999.0    NaN NaN   \n",
       "2022-05-13 13:00:00  9999.0  99.0  99.0    999.0    999.0    NaN NaN   \n",
       "2022-05-13 14:00:00  9999.0  99.0  99.0    999.0    999.0    NaN NaN   \n",
       "2022-05-13 15:00:00  9999.0  99.0  99.0    999.0    999.0    NaN NaN   \n",
       "2022-05-13 16:00:00  9999.0  99.0  99.0    999.0    999.0    NaN NaN   \n",
       "\n",
       "products             THETA_AV  PHI_AV  BX_GSE  ...  F10_INDEX    KP  DST  \\\n",
       "time1                                          ...                         \n",
       "2022-05-13 12:00:00       NaN     NaN     NaN  ...        NaN  99.0  2.0   \n",
       "2022-05-13 13:00:00       NaN     NaN     NaN  ...        NaN  99.0  4.0   \n",
       "2022-05-13 14:00:00       NaN     NaN     NaN  ...        NaN  99.0  5.0   \n",
       "2022-05-13 15:00:00       NaN     NaN     NaN  ...        NaN  99.0  5.0   \n",
       "2022-05-13 16:00:00       NaN     NaN     NaN  ...        NaN  99.0  4.0   \n",
       "\n",
       "products                 AE  AP_INDEX  AL_INDEX  AU_INDEX  PC_N_INDEX  \\\n",
       "time1                                                                   \n",
       "2022-05-13 12:00:00  9999.0     999.0   99999.0   99999.0         NaN   \n",
       "2022-05-13 13:00:00  9999.0     999.0   99999.0   99999.0         NaN   \n",
       "2022-05-13 14:00:00  9999.0     999.0   99999.0   99999.0         NaN   \n",
       "2022-05-13 15:00:00  9999.0     999.0   99999.0   99999.0         NaN   \n",
       "2022-05-13 16:00:00  9999.0     999.0   99999.0   99999.0         NaN   \n",
       "\n",
       "products             Solar_Lyman_alpha  Proton_QI  \n",
       "time1                                              \n",
       "2022-05-13 12:00:00                NaN        NaN  \n",
       "2022-05-13 13:00:00                NaN        NaN  \n",
       "2022-05-13 14:00:00                NaN        NaN  \n",
       "2022-05-13 15:00:00                NaN        NaN  \n",
       "2022-05-13 16:00:00                NaN        NaN  \n",
       "\n",
       "[5 rows x 54 columns]"
      ]
     },
     "execution_count": 12,
     "metadata": {},
     "output_type": "execute_result"
    }
   ],
   "source": [
    "pd_data.tail()"
   ]
  },
  {
   "cell_type": "code",
   "execution_count": 13,
   "metadata": {},
   "outputs": [
    {
     "data": {
      "text/plain": [
       "520443"
      ]
     },
     "execution_count": 13,
     "metadata": {},
     "output_type": "execute_result"
    }
   ],
   "source": [
    "len(pd_data)"
   ]
  }
 ],
 "metadata": {
  "kernelspec": {
   "display_name": "Python 3 (ipykernel)",
   "language": "python",
   "name": "python3"
  },
  "language_info": {
   "codemirror_mode": {
    "name": "ipython",
    "version": 3
   },
   "file_extension": ".py",
   "mimetype": "text/x-python",
   "name": "python",
   "nbconvert_exporter": "python",
   "pygments_lexer": "ipython3",
   "version": "3.10.6"
  }
 },
 "nbformat": 4,
 "nbformat_minor": 4
}
