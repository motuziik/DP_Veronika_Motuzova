{
 "cells": [
  {
   "cell_type": "markdown",
   "id": "94e509b3-dabd-4ebf-8615-8c5b830939f9",
   "metadata": {},
   "source": [
    "# Používateľské rozhranie\n",
    "Súbor: user.ipynb\n",
    "\n",
    "Program: Hospodárska informatika\n",
    "\n",
    "Vypracovala: Bc. Veronika Motúzová\n",
    "\n",
    "Diplomová práca: : Predikcia geomagnetickych búrok pomocou hlbokého učenia\n",
    "\n",
    "Vedúci diplomovej práce: doc. Ing. Peter Butka, PhD.\n",
    "\n",
    "Konzultanti: Ing. Viera Maslej Krešňáková, PhD., RNDr. Šimon Mackovjak, PhD. "
   ]
  },
  {
   "cell_type": "code",
   "execution_count": 26,
   "id": "31306a5e-59f2-4c0d-b394-91a6d4de2a79",
   "metadata": {
    "tags": []
   },
   "outputs": [],
   "source": [
    "from tensorflow import keras\n",
    "from keras.preprocessing.sequence import TimeseriesGenerator\n",
    "from keras.models import Model\n",
    "import numpy as np"
   ]
  },
  {
   "cell_type": "markdown",
   "id": "85719639-752b-469c-a1f2-69d6e615ca13",
   "metadata": {},
   "source": [
    "### Model iba s použitím DST indexu"
   ]
  },
  {
   "cell_type": "code",
   "execution_count": 19,
   "id": "a4a57f45-dd9b-498b-aac2-a98031d41a5a",
   "metadata": {},
   "outputs": [],
   "source": [
    "DST = [-10,13,16,-20,-25,-40,-30] # používateľ zadá sekvenciu aspoň 7 historických hodnôt DST indexu"
   ]
  },
  {
   "cell_type": "code",
   "execution_count": 20,
   "id": "fd9b71bc-87ce-4d9a-8b97-04e830764768",
   "metadata": {},
   "outputs": [],
   "source": [
    "generator = TimeseriesGenerator(DST, [0,0,0,0,0,0,0], length=6, batch_size=256)"
   ]
  },
  {
   "cell_type": "code",
   "execution_count": 21,
   "id": "7621f813-03df-4f0c-a830-dbd5baec9c31",
   "metadata": {},
   "outputs": [],
   "source": [
    "model = keras.models.load_model('6_dozadu_6_dopredu.hdf5')"
   ]
  },
  {
   "cell_type": "code",
   "execution_count": 22,
   "id": "0ccec7df-7dc0-40ed-baaf-2ea7c9768d0e",
   "metadata": {},
   "outputs": [
    {
     "name": "stdout",
     "output_type": "stream",
     "text": [
      "1/1 [==============================] - 0s 490ms/step\n"
     ]
    }
   ],
   "source": [
    "DST_6 = model.predict(generator)"
   ]
  },
  {
   "cell_type": "code",
   "execution_count": 23,
   "id": "7e1f4d27-6793-4474-837a-2fd9367ad025",
   "metadata": {},
   "outputs": [
    {
     "name": "stdout",
     "output_type": "stream",
     "text": [
      "[[-10.165003]]\n"
     ]
    }
   ],
   "source": [
    "print(DST_6) #predikovaný DST index s predstihom 6 hodín"
   ]
  },
  {
   "cell_type": "markdown",
   "id": "9d9a6212-6236-49c5-a040-7ba3a544dddb",
   "metadata": {},
   "source": [
    "### Model s použitím 3 atribútov DST, F10_INDEX a BZ_GSM"
   ]
  },
  {
   "cell_type": "code",
   "execution_count": 46,
   "id": "840a32da-6802-4b0b-ba7d-8f089d3a22dc",
   "metadata": {},
   "outputs": [],
   "source": [
    "DST = np.array([[-10],[13],[16],[-20],[-25],[-40],[-30]]) # používateľ zadá sekvenciu aspoň 7 historických hodnôt všetkých 3 atribútov\n",
    "F10_INDEX = np.array([[177.69],[177.69],[178.39],[178.39],[178.39],[178.39],[178.39]])\n",
    "BZ_GSM = np.array([[1.79],[2.29],[1.60],[1.29],[1.89],[3.20],[0.40]])\n",
    "\n",
    "inputs = np.concatenate((DST, F10_INDEX, BZ_GSM), axis=1)"
   ]
  },
  {
   "cell_type": "code",
   "execution_count": 47,
   "id": "4dd6071c-0a5e-44e7-a0c3-6147213660b5",
   "metadata": {},
   "outputs": [
    {
     "name": "stdout",
     "output_type": "stream",
     "text": [
      "[[-10.   177.69   1.79]\n",
      " [ 13.   177.69   2.29]\n",
      " [ 16.   178.39   1.6 ]\n",
      " [-20.   178.39   1.29]\n",
      " [-25.   178.39   1.89]\n",
      " [-40.   178.39   3.2 ]\n",
      " [-30.   178.39   0.4 ]]\n"
     ]
    }
   ],
   "source": [
    "print(inputs)"
   ]
  },
  {
   "cell_type": "code",
   "execution_count": 48,
   "id": "42d2c1c6-7240-45f7-b7c8-0f934fa6616a",
   "metadata": {},
   "outputs": [],
   "source": [
    "generator = TimeseriesGenerator(inputs, [0,0,0,0,0,0,0], length=6, batch_size=256)"
   ]
  },
  {
   "cell_type": "code",
   "execution_count": 49,
   "id": "e40d5ed9-cf38-41eb-8687-f2b7bb7d92c8",
   "metadata": {},
   "outputs": [],
   "source": [
    "model = keras.models.load_model('6_6_pridane_atr.hdf5')"
   ]
  },
  {
   "cell_type": "code",
   "execution_count": 50,
   "id": "988a5ba1-52d4-48a8-99cd-bf7158e27cf4",
   "metadata": {},
   "outputs": [
    {
     "name": "stdout",
     "output_type": "stream",
     "text": [
      "1/1 [==============================] - 1s 505ms/step\n"
     ]
    }
   ],
   "source": [
    "DST_6 = model.predict(generator)"
   ]
  },
  {
   "cell_type": "code",
   "execution_count": 51,
   "id": "8d5b0b15-93df-4572-8f8e-520ff00085c6",
   "metadata": {},
   "outputs": [
    {
     "name": "stdout",
     "output_type": "stream",
     "text": [
      "[[-9.2008295]]\n"
     ]
    }
   ],
   "source": [
    "print(DST_6) #predikovaný DST index s predstihom 6 hodín"
   ]
  }
 ],
 "metadata": {
  "kernelspec": {
   "display_name": "Python 3 (ipykernel)",
   "language": "python",
   "name": "python3"
  },
  "language_info": {
   "codemirror_mode": {
    "name": "ipython",
    "version": 3
   },
   "file_extension": ".py",
   "mimetype": "text/x-python",
   "name": "python",
   "nbconvert_exporter": "python",
   "pygments_lexer": "ipython3",
   "version": "3.10.6"
  }
 },
 "nbformat": 4,
 "nbformat_minor": 5
}
